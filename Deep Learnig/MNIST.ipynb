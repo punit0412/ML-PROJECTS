{
 "cells": [
  {
   "cell_type": "code",
   "execution_count": 1,
   "outputs": [],
   "source": [
    "import numpy as np\n",
    "import pandas as pd\n",
    "from tensorflow import keras\n",
    "mnist = keras.datasets.mnist"
   ],
   "metadata": {
    "collapsed": false,
    "pycharm": {
     "name": "#%%\n"
    }
   }
  },
  {
   "cell_type": "code",
   "execution_count": 2,
   "outputs": [],
   "source": [
    "import tensorflow as tf"
   ],
   "metadata": {
    "collapsed": false,
    "pycharm": {
     "name": "#%%\n"
    }
   }
  },
  {
   "cell_type": "code",
   "execution_count": 3,
   "outputs": [],
   "source": [
    "(X_train_full,y_train_full), (X_test,y_test) = mnist.load_data()"
   ],
   "metadata": {
    "collapsed": false,
    "pycharm": {
     "name": "#%%\n"
    }
   }
  },
  {
   "cell_type": "code",
   "execution_count": 4,
   "outputs": [
    {
     "data": {
      "text/plain": "(60000, 28, 28)"
     },
     "execution_count": 4,
     "metadata": {},
     "output_type": "execute_result"
    }
   ],
   "source": [
    "X_train_full.shape"
   ],
   "metadata": {
    "collapsed": false,
    "pycharm": {
     "name": "#%%\n"
    }
   }
  },
  {
   "cell_type": "code",
   "execution_count": 5,
   "outputs": [],
   "source": [
    "X_train,X_valid = X_train_full[:50000]/255.0,X_train_full[50000:]/255.0 # we normalizing the pixel values btw 0 and 1\n",
    "y_train,y_valid= y_train_full[:50000],y_train_full[50000:]"
   ],
   "metadata": {
    "collapsed": false,
    "pycharm": {
     "name": "#%%\n"
    }
   }
  },
  {
   "cell_type": "code",
   "execution_count": 6,
   "outputs": [
    {
     "data": {
      "text/plain": "(50000, 28, 28)"
     },
     "execution_count": 6,
     "metadata": {},
     "output_type": "execute_result"
    }
   ],
   "source": [
    "X_train.shape"
   ],
   "metadata": {
    "collapsed": false,
    "pycharm": {
     "name": "#%%\n"
    }
   }
  },
  {
   "cell_type": "code",
   "execution_count": 7,
   "outputs": [
    {
     "data": {
      "text/plain": "array([5, 0, 4, ..., 8, 4, 8], dtype=uint8)"
     },
     "execution_count": 7,
     "metadata": {},
     "output_type": "execute_result"
    }
   ],
   "source": [
    "y_train"
   ],
   "metadata": {
    "collapsed": false,
    "pycharm": {
     "name": "#%%\n"
    }
   }
  },
  {
   "cell_type": "markdown",
   "source": [
    "#### Model using Sequential API"
   ],
   "metadata": {
    "collapsed": false
   }
  },
  {
   "cell_type": "code",
   "execution_count": 8,
   "outputs": [],
   "source": [
    "model = keras.models.Sequential([\n",
    "    (keras.layers.Flatten(input_shape = [28,28])),\n",
    "    (keras.layers.Dense(100,activation='relu')),\n",
    "    (keras.layers.Dense(100,activation='relu')),\n",
    "    (keras.layers.Dense(10,activation='softmax'))\n",
    "])"
   ],
   "metadata": {
    "collapsed": false,
    "pycharm": {
     "name": "#%%\n"
    }
   }
  },
  {
   "cell_type": "code",
   "execution_count": 9,
   "outputs": [
    {
     "name": "stdout",
     "output_type": "stream",
     "text": [
      "Model: \"sequential\"\n",
      "_________________________________________________________________\n",
      " Layer (type)                Output Shape              Param #   \n",
      "=================================================================\n",
      " flatten (Flatten)           (None, 784)               0         \n",
      "                                                                 \n",
      " dense (Dense)               (None, 100)               78500     \n",
      "                                                                 \n",
      " dense_1 (Dense)             (None, 100)               10100     \n",
      "                                                                 \n",
      " dense_2 (Dense)             (None, 10)                1010      \n",
      "                                                                 \n",
      "=================================================================\n",
      "Total params: 89,610\n",
      "Trainable params: 89,610\n",
      "Non-trainable params: 0\n",
      "_________________________________________________________________\n"
     ]
    }
   ],
   "source": [
    "model.summary()"
   ],
   "metadata": {
    "collapsed": false,
    "pycharm": {
     "name": "#%%\n"
    }
   }
  },
  {
   "cell_type": "code",
   "execution_count": 10,
   "outputs": [],
   "source": [
    "model.compile(loss='sparse_categorical_crossentropy',optimizer='sgd',metrics=['accuracy'])"
   ],
   "metadata": {
    "collapsed": false,
    "pycharm": {
     "name": "#%%\n"
    }
   }
  },
  {
   "cell_type": "code",
   "execution_count": 11,
   "outputs": [
    {
     "name": "stdout",
     "output_type": "stream",
     "text": [
      "Epoch 1/30\n",
      "1563/1563 [==============================] - 6s 3ms/step - loss: 0.7513 - accuracy: 0.8051 - val_loss: 0.3351 - val_accuracy: 0.9059\n",
      "Epoch 2/30\n",
      "1563/1563 [==============================] - 4s 2ms/step - loss: 0.3258 - accuracy: 0.9076 - val_loss: 0.2671 - val_accuracy: 0.9231\n",
      "Epoch 3/30\n",
      "1563/1563 [==============================] - 4s 3ms/step - loss: 0.2724 - accuracy: 0.9222 - val_loss: 0.2374 - val_accuracy: 0.9335\n",
      "Epoch 4/30\n",
      "1563/1563 [==============================] - 6s 4ms/step - loss: 0.2370 - accuracy: 0.9317 - val_loss: 0.2067 - val_accuracy: 0.9433\n",
      "Epoch 5/30\n",
      "1563/1563 [==============================] - 5s 3ms/step - loss: 0.2094 - accuracy: 0.9395 - val_loss: 0.1851 - val_accuracy: 0.9491\n",
      "Epoch 6/30\n",
      "1563/1563 [==============================] - 7s 4ms/step - loss: 0.1879 - accuracy: 0.9462 - val_loss: 0.1692 - val_accuracy: 0.9525\n",
      "Epoch 7/30\n",
      "1563/1563 [==============================] - 6s 4ms/step - loss: 0.1705 - accuracy: 0.9505 - val_loss: 0.1596 - val_accuracy: 0.9557\n",
      "Epoch 8/30\n",
      "1563/1563 [==============================] - 6s 4ms/step - loss: 0.1566 - accuracy: 0.9553 - val_loss: 0.1543 - val_accuracy: 0.9569\n",
      "Epoch 9/30\n",
      "1563/1563 [==============================] - 6s 4ms/step - loss: 0.1442 - accuracy: 0.9583 - val_loss: 0.1435 - val_accuracy: 0.9605\n",
      "Epoch 10/30\n",
      "1563/1563 [==============================] - 6s 4ms/step - loss: 0.1333 - accuracy: 0.9616 - val_loss: 0.1385 - val_accuracy: 0.9610\n",
      "Epoch 11/30\n",
      "1563/1563 [==============================] - 6s 4ms/step - loss: 0.1238 - accuracy: 0.9644 - val_loss: 0.1306 - val_accuracy: 0.9628\n",
      "Epoch 12/30\n",
      "1563/1563 [==============================] - 5s 3ms/step - loss: 0.1161 - accuracy: 0.9669 - val_loss: 0.1216 - val_accuracy: 0.9670\n",
      "Epoch 13/30\n",
      "1563/1563 [==============================] - 6s 4ms/step - loss: 0.1083 - accuracy: 0.9688 - val_loss: 0.1213 - val_accuracy: 0.9661\n",
      "Epoch 14/30\n",
      "1563/1563 [==============================] - 8s 5ms/step - loss: 0.1016 - accuracy: 0.9709 - val_loss: 0.1149 - val_accuracy: 0.9674\n",
      "Epoch 15/30\n",
      "1563/1563 [==============================] - 10s 6ms/step - loss: 0.0954 - accuracy: 0.9721 - val_loss: 0.1138 - val_accuracy: 0.9674\n",
      "Epoch 16/30\n",
      "1563/1563 [==============================] - 7s 5ms/step - loss: 0.0898 - accuracy: 0.9748 - val_loss: 0.1095 - val_accuracy: 0.9688\n",
      "Epoch 17/30\n",
      "1563/1563 [==============================] - 4s 2ms/step - loss: 0.0848 - accuracy: 0.9760 - val_loss: 0.1085 - val_accuracy: 0.9691\n",
      "Epoch 18/30\n",
      "1563/1563 [==============================] - 6s 4ms/step - loss: 0.0801 - accuracy: 0.9781 - val_loss: 0.1039 - val_accuracy: 0.9705\n",
      "Epoch 19/30\n",
      "1563/1563 [==============================] - 4s 3ms/step - loss: 0.0759 - accuracy: 0.9790 - val_loss: 0.1041 - val_accuracy: 0.9697\n",
      "Epoch 20/30\n",
      "1563/1563 [==============================] - 5s 3ms/step - loss: 0.0723 - accuracy: 0.9798 - val_loss: 0.1026 - val_accuracy: 0.9706\n",
      "Epoch 21/30\n",
      "1563/1563 [==============================] - 6s 4ms/step - loss: 0.0685 - accuracy: 0.9811 - val_loss: 0.0975 - val_accuracy: 0.9730\n",
      "Epoch 22/30\n",
      "1563/1563 [==============================] - 4s 3ms/step - loss: 0.0653 - accuracy: 0.9818 - val_loss: 0.0944 - val_accuracy: 0.9737\n",
      "Epoch 23/30\n",
      "1563/1563 [==============================] - 5s 3ms/step - loss: 0.0622 - accuracy: 0.9825 - val_loss: 0.0947 - val_accuracy: 0.9728\n",
      "Epoch 24/30\n",
      "1563/1563 [==============================] - 5s 3ms/step - loss: 0.0591 - accuracy: 0.9835 - val_loss: 0.0913 - val_accuracy: 0.9750\n",
      "Epoch 25/30\n",
      "1563/1563 [==============================] - 5s 3ms/step - loss: 0.0562 - accuracy: 0.9846 - val_loss: 0.0946 - val_accuracy: 0.9739\n",
      "Epoch 26/30\n",
      "1563/1563 [==============================] - 6s 4ms/step - loss: 0.0538 - accuracy: 0.9845 - val_loss: 0.0891 - val_accuracy: 0.9751\n",
      "Epoch 27/30\n",
      "1563/1563 [==============================] - 6s 4ms/step - loss: 0.0508 - accuracy: 0.9861 - val_loss: 0.0887 - val_accuracy: 0.9739\n",
      "Epoch 28/30\n",
      "1563/1563 [==============================] - 5s 3ms/step - loss: 0.0489 - accuracy: 0.9866 - val_loss: 0.0882 - val_accuracy: 0.9748\n",
      "Epoch 29/30\n",
      "1563/1563 [==============================] - 5s 3ms/step - loss: 0.0466 - accuracy: 0.9876 - val_loss: 0.0859 - val_accuracy: 0.9763\n",
      "Epoch 30/30\n",
      "1563/1563 [==============================] - 4s 2ms/step - loss: 0.0444 - accuracy: 0.9884 - val_loss: 0.0865 - val_accuracy: 0.9756\n"
     ]
    }
   ],
   "source": [
    "history = model.fit(X_train,y_train,epochs=30,validation_data=[X_valid,y_valid])"
   ],
   "metadata": {
    "collapsed": false,
    "pycharm": {
     "name": "#%%\n"
    }
   }
  },
  {
   "cell_type": "code",
   "execution_count": 12,
   "outputs": [],
   "source": [
    "import pandas as pd\n",
    "import matplotlib.pyplot as plt"
   ],
   "metadata": {
    "collapsed": false,
    "pycharm": {
     "name": "#%%\n"
    }
   }
  },
  {
   "cell_type": "code",
   "execution_count": 13,
   "outputs": [
    {
     "data": {
      "text/plain": "<Figure size 720x432 with 1 Axes>",
      "image/png": "[encoded data removed]"
     },
     "metadata": {
      "needs_background": "light"
     },
     "output_type": "display_data"
    }
   ],
   "source": [
    "pd.DataFrame(history.history).plot(figsize = (10,6))\n",
    "plt.grid()\n",
    "plt.show()"
   ],
   "metadata": {
    "collapsed": false,
    "pycharm": {
     "name": "#%%\n"
    }
   }
  },
  {
   "cell_type": "code",
   "execution_count": 14,
   "outputs": [
    {
     "name": "stdout",
     "output_type": "stream",
     "text": [
      "313/313 [==============================] - 1s 2ms/step - loss: 15.0079 - accuracy: 0.9731\n"
     ]
    },
    {
     "data": {
      "text/plain": "[15.00793170928955, 0.9731000065803528]"
     },
     "execution_count": 14,
     "metadata": {},
     "output_type": "execute_result"
    }
   ],
   "source": [
    "model.evaluate(X_test,y_test)"
   ],
   "metadata": {
    "collapsed": false,
    "pycharm": {
     "name": "#%%\n"
    }
   }
  },
  {
   "cell_type": "code",
   "execution_count": 16,
   "outputs": [],
   "source": [
    "import numpy as np"
   ],
   "metadata": {
    "collapsed": false,
    "pycharm": {
     "name": "#%%\n"
    }
   }
  },
  {
   "cell_type": "code",
   "execution_count": 19,
   "outputs": [
    {
     "name": "stdout",
     "output_type": "stream",
     "text": [
      "313/313 [==============================] - 1s 2ms/step\n"
     ]
    }
   ],
   "source": [
    "y_pred = model.predict(X_test)"
   ],
   "metadata": {
    "collapsed": false,
    "pycharm": {
     "name": "#%%\n"
    }
   }
  },
  {
   "cell_type": "code",
   "execution_count": 20,
   "outputs": [],
   "source": [
    "y_pred_classes = np.argmax(y_pred,axis=1)"
   ],
   "metadata": {
    "collapsed": false,
    "pycharm": {
     "name": "#%%\n"
    }
   }
  },
  {
   "cell_type": "code",
   "execution_count": 21,
   "outputs": [
    {
     "data": {
      "text/plain": "array([7, 2, 1, ..., 4, 5, 6], dtype=int64)"
     },
     "execution_count": 21,
     "metadata": {},
     "output_type": "execute_result"
    }
   ],
   "source": [
    "y_pred_classes"
   ],
   "metadata": {
    "collapsed": false,
    "pycharm": {
     "name": "#%%\n"
    }
   }
  },
  {
   "cell_type": "code",
   "execution_count": 22,
   "outputs": [
    {
     "data": {
      "text/plain": "<Figure size 288x288 with 1 Axes>",
      "image/png": "[encoded data removed]"
     },
     "metadata": {
      "needs_background": "light"
     },
     "output_type": "display_data"
    }
   ],
   "source": [
    "image = X_test[59]\n",
    "plt.matshow(image,cmap = 'gray')\n",
    "plt.show()"
   ],
   "metadata": {
    "collapsed": false,
    "pycharm": {
     "name": "#%%\n"
    }
   }
  },
  {
   "cell_type": "code",
   "execution_count": 23,
   "outputs": [
    {
     "data": {
      "text/plain": "5"
     },
     "execution_count": 23,
     "metadata": {},
     "output_type": "execute_result"
    }
   ],
   "source": [
    "y_pred_classes[59]"
   ],
   "metadata": {
    "collapsed": false,
    "pycharm": {
     "name": "#%%\n"
    }
   }
  },
  {
   "cell_type": "code",
   "execution_count": 24,
   "outputs": [],
   "source": [
    "from sklearn.metrics import precision_score,recall_score"
   ],
   "metadata": {
    "collapsed": false,
    "pycharm": {
     "name": "#%%\n"
    }
   }
  },
  {
   "cell_type": "code",
   "execution_count": 25,
   "outputs": [
    {
     "data": {
      "text/plain": "0.9732259369079926"
     },
     "execution_count": 25,
     "metadata": {},
     "output_type": "execute_result"
    }
   ],
   "source": [
    "precision_score(y_test,y_pred_classes,average='macro')"
   ],
   "metadata": {
    "collapsed": false,
    "pycharm": {
     "name": "#%%\n"
    }
   }
  },
  {
   "cell_type": "code",
   "execution_count": 26,
   "outputs": [
    {
     "data": {
      "text/plain": "0.9727145077905399"
     },
     "execution_count": 26,
     "metadata": {},
     "output_type": "execute_result"
    }
   ],
   "source": [
    "recall_score(y_test,y_pred_classes,average='macro')"
   ],
   "metadata": {
    "collapsed": false,
    "pycharm": {
     "name": "#%%\n"
    }
   }
  },
  {
   "cell_type": "code",
   "execution_count": 40,
   "outputs": [],
   "source": [
    "# model.save('mnist_sequential_model.h5')"
   ],
   "metadata": {
    "collapsed": false,
    "pycharm": {
     "name": "#%%\n"
    }
   }
  },
  {
   "cell_type": "code",
   "execution_count": 41,
   "outputs": [],
   "source": [
    "# model = keras.models.load_model('mnist_sequential_model.h5')"
   ],
   "metadata": {
    "collapsed": false,
    "pycharm": {
     "name": "#%%\n"
    }
   }
  },
  {
   "cell_type": "code",
   "execution_count": 42,
   "outputs": [
    {
     "name": "stdout",
     "output_type": "stream",
     "text": [
      "Epoch 1/20\n",
      "1563/1563 [==============================] - 7s 4ms/step - loss: 0.0457 - accuracy: 0.9875\n",
      "Epoch 2/20\n",
      "1563/1563 [==============================] - 7s 4ms/step - loss: 0.0436 - accuracy: 0.9884\n",
      "Epoch 3/20\n",
      "1563/1563 [==============================] - 6s 4ms/step - loss: 0.0415 - accuracy: 0.9891\n",
      "Epoch 4/20\n",
      "1563/1563 [==============================] - 7s 5ms/step - loss: 0.0400 - accuracy: 0.9896\n",
      "Epoch 5/20\n",
      "1563/1563 [==============================] - 7s 4ms/step - loss: 0.0385 - accuracy: 0.9897\n",
      "Epoch 6/20\n",
      "1563/1563 [==============================] - 7s 5ms/step - loss: 0.0367 - accuracy: 0.9907\n",
      "Epoch 7/20\n",
      "1563/1563 [==============================] - 7s 4ms/step - loss: 0.0353 - accuracy: 0.9909\n",
      "Epoch 8/20\n",
      "1563/1563 [==============================] - 7s 4ms/step - loss: 0.0339 - accuracy: 0.9916\n",
      "Epoch 9/20\n",
      "1563/1563 [==============================] - 6s 4ms/step - loss: 0.0325 - accuracy: 0.9918\n",
      "Epoch 10/20\n",
      "1563/1563 [==============================] - 6s 4ms/step - loss: 0.0309 - accuracy: 0.9921\n",
      "Epoch 11/20\n",
      "1563/1563 [==============================] - 5s 3ms/step - loss: 0.0298 - accuracy: 0.9929\n",
      "Epoch 12/20\n",
      "1563/1563 [==============================] - 5s 3ms/step - loss: 0.0283 - accuracy: 0.9932\n",
      "Epoch 13/20\n",
      "1563/1563 [==============================] - 3s 2ms/step - loss: 0.0275 - accuracy: 0.9934\n",
      "Epoch 14/20\n",
      "1563/1563 [==============================] - 5s 3ms/step - loss: 0.0262 - accuracy: 0.9941\n",
      "Epoch 15/20\n",
      "1563/1563 [==============================] - 4s 3ms/step - loss: 0.0250 - accuracy: 0.9945\n",
      "Epoch 16/20\n",
      "1563/1563 [==============================] - 3s 2ms/step - loss: 0.0237 - accuracy: 0.9950\n",
      "Epoch 17/20\n",
      "1563/1563 [==============================] - 4s 3ms/step - loss: 0.0231 - accuracy: 0.9949\n",
      "Epoch 18/20\n",
      "1563/1563 [==============================] - 4s 3ms/step - loss: 0.0222 - accuracy: 0.9951\n",
      "Epoch 19/20\n",
      "1563/1563 [==============================] - 4s 2ms/step - loss: 0.0211 - accuracy: 0.9955\n",
      "Epoch 20/20\n",
      "1563/1563 [==============================] - 5s 3ms/step - loss: 0.0203 - accuracy: 0.9961\n"
     ]
    }
   ],
   "source": [
    "# checkpoint_cb = keras.callbacks.ModelCheckpoint('mnist_sequential_model.h5')\n",
    "# history = model.fit(X_train,y_train,epochs=20,callbacks = [checkpoint_cb])"
   ],
   "metadata": {
    "collapsed": false,
    "pycharm": {
     "name": "#%%\n"
    }
   }
  },
  {
   "cell_type": "markdown",
   "source": [
    "#### Model using Functional API"
   ],
   "metadata": {
    "collapsed": false
   }
  },
  {
   "cell_type": "code",
   "execution_count": 43,
   "outputs": [
    {
     "data": {
      "text/plain": "(28, 28)"
     },
     "execution_count": 43,
     "metadata": {},
     "output_type": "execute_result"
    }
   ],
   "source": [
    "X_train.shape[1:]"
   ],
   "metadata": {
    "collapsed": false,
    "pycharm": {
     "name": "#%%\n"
    }
   }
  },
  {
   "cell_type": "code",
   "execution_count": 27,
   "outputs": [],
   "source": [
    "input_ = keras.layers.Input(shape=X_train.shape[1:])\n",
    "flatten = keras.layers.Flatten(input_shape=X_train.shape[1:])(input_)\n",
    "hidden_1 = keras.layers.Dense(100,activation='relu')(flatten)\n",
    "hidden_2 = keras.layers.Dense(100,activation='relu')(hidden_1)\n",
    "hidden_3  = keras.layers.Dense(200,activation='relu')(hidden_2)\n",
    "output = keras.layers.Dense(10,activation='softmax')(hidden_2)\n",
    "model = keras.Model(inputs = [input_],outputs = [output])"
   ],
   "metadata": {
    "collapsed": false,
    "pycharm": {
     "name": "#%%\n"
    }
   }
  },
  {
   "cell_type": "code",
   "execution_count": 28,
   "outputs": [],
   "source": [
    "model.compile(loss='sparse_categorical_crossentropy',optimizer='sgd',metrics=['accuracy'])"
   ],
   "metadata": {
    "collapsed": false,
    "pycharm": {
     "name": "#%%\n"
    }
   }
  },
  {
   "cell_type": "code",
   "execution_count": 29,
   "outputs": [
    {
     "data": {
      "text/plain": "(50000, 28, 28)"
     },
     "execution_count": 29,
     "metadata": {},
     "output_type": "execute_result"
    }
   ],
   "source": [
    "X_train.shape"
   ],
   "metadata": {
    "collapsed": false,
    "pycharm": {
     "name": "#%%\n"
    }
   }
  },
  {
   "cell_type": "code",
   "execution_count": 30,
   "outputs": [
    {
     "name": "stdout",
     "output_type": "stream",
     "text": [
      "Epoch 1/50\n",
      "1563/1563 [==============================] - 6s 3ms/step - loss: 0.6982 - accuracy: 0.8175 - val_loss: 0.3246 - val_accuracy: 0.9107\n",
      "Epoch 2/50\n",
      "1563/1563 [==============================] - 6s 4ms/step - loss: 0.3155 - accuracy: 0.9110 - val_loss: 0.2591 - val_accuracy: 0.9268\n",
      "Epoch 3/50\n",
      "1563/1563 [==============================] - 5s 3ms/step - loss: 0.2627 - accuracy: 0.9242 - val_loss: 0.2247 - val_accuracy: 0.9378\n",
      "Epoch 4/50\n",
      "1563/1563 [==============================] - 4s 3ms/step - loss: 0.2291 - accuracy: 0.9341 - val_loss: 0.2039 - val_accuracy: 0.9429\n",
      "Epoch 5/50\n",
      "1563/1563 [==============================] - 6s 4ms/step - loss: 0.2038 - accuracy: 0.9420 - val_loss: 0.1837 - val_accuracy: 0.9488\n",
      "Epoch 6/50\n",
      "1563/1563 [==============================] - 6s 4ms/step - loss: 0.1839 - accuracy: 0.9471 - val_loss: 0.1725 - val_accuracy: 0.9523\n",
      "Epoch 7/50\n",
      "1563/1563 [==============================] - 4s 3ms/step - loss: 0.1674 - accuracy: 0.9525 - val_loss: 0.1576 - val_accuracy: 0.9555\n",
      "Epoch 8/50\n",
      "1563/1563 [==============================] - 6s 4ms/step - loss: 0.1535 - accuracy: 0.9555 - val_loss: 0.1480 - val_accuracy: 0.9596\n",
      "Epoch 9/50\n",
      "1563/1563 [==============================] - 5s 3ms/step - loss: 0.1413 - accuracy: 0.9590 - val_loss: 0.1432 - val_accuracy: 0.9599\n",
      "Epoch 10/50\n",
      "1563/1563 [==============================] - 4s 3ms/step - loss: 0.1309 - accuracy: 0.9627 - val_loss: 0.1331 - val_accuracy: 0.9643\n",
      "Epoch 11/50\n",
      "1563/1563 [==============================] - 6s 4ms/step - loss: 0.1208 - accuracy: 0.9660 - val_loss: 0.1277 - val_accuracy: 0.9646\n",
      "Epoch 12/50\n",
      "1563/1563 [==============================] - 5s 3ms/step - loss: 0.1134 - accuracy: 0.9673 - val_loss: 0.1233 - val_accuracy: 0.9652\n",
      "Epoch 13/50\n",
      "1563/1563 [==============================] - 5s 3ms/step - loss: 0.1056 - accuracy: 0.9702 - val_loss: 0.1160 - val_accuracy: 0.9663\n",
      "Epoch 14/50\n",
      "1563/1563 [==============================] - 3s 2ms/step - loss: 0.0989 - accuracy: 0.9721 - val_loss: 0.1112 - val_accuracy: 0.9687\n",
      "Epoch 15/50\n",
      "1563/1563 [==============================] - 5s 3ms/step - loss: 0.0933 - accuracy: 0.9734 - val_loss: 0.1089 - val_accuracy: 0.9682\n",
      "Epoch 16/50\n",
      "1563/1563 [==============================] - 5s 3ms/step - loss: 0.0878 - accuracy: 0.9748 - val_loss: 0.1057 - val_accuracy: 0.9701\n",
      "Epoch 17/50\n",
      "1563/1563 [==============================] - 4s 3ms/step - loss: 0.0834 - accuracy: 0.9761 - val_loss: 0.1020 - val_accuracy: 0.9704\n",
      "Epoch 18/50\n",
      "1563/1563 [==============================] - 4s 3ms/step - loss: 0.0786 - accuracy: 0.9774 - val_loss: 0.1014 - val_accuracy: 0.9706\n",
      "Epoch 19/50\n",
      "1563/1563 [==============================] - 5s 3ms/step - loss: 0.0746 - accuracy: 0.9788 - val_loss: 0.1017 - val_accuracy: 0.9711\n",
      "Epoch 20/50\n",
      "1563/1563 [==============================] - 5s 3ms/step - loss: 0.0706 - accuracy: 0.9802 - val_loss: 0.0948 - val_accuracy: 0.9719\n",
      "Epoch 21/50\n",
      "1563/1563 [==============================] - 5s 3ms/step - loss: 0.0669 - accuracy: 0.9807 - val_loss: 0.0913 - val_accuracy: 0.9724\n",
      "Epoch 22/50\n",
      "1563/1563 [==============================] - 4s 2ms/step - loss: 0.0636 - accuracy: 0.9822 - val_loss: 0.0922 - val_accuracy: 0.9728\n",
      "Epoch 23/50\n",
      "1563/1563 [==============================] - 5s 3ms/step - loss: 0.0604 - accuracy: 0.9829 - val_loss: 0.0898 - val_accuracy: 0.9719\n",
      "Epoch 24/50\n",
      "1563/1563 [==============================] - 5s 3ms/step - loss: 0.0578 - accuracy: 0.9840 - val_loss: 0.0874 - val_accuracy: 0.9740\n",
      "Epoch 25/50\n",
      "1563/1563 [==============================] - 5s 3ms/step - loss: 0.0548 - accuracy: 0.9849 - val_loss: 0.0900 - val_accuracy: 0.9732\n",
      "Epoch 26/50\n",
      "1563/1563 [==============================] - 3s 2ms/step - loss: 0.0526 - accuracy: 0.9860 - val_loss: 0.0857 - val_accuracy: 0.9754\n",
      "Epoch 27/50\n",
      "1563/1563 [==============================] - 4s 3ms/step - loss: 0.0496 - accuracy: 0.9867 - val_loss: 0.0846 - val_accuracy: 0.9741\n",
      "Epoch 28/50\n",
      "1563/1563 [==============================] - 5s 3ms/step - loss: 0.0478 - accuracy: 0.9871 - val_loss: 0.0830 - val_accuracy: 0.9745\n",
      "Epoch 29/50\n",
      "1563/1563 [==============================] - 6s 4ms/step - loss: 0.0453 - accuracy: 0.9877 - val_loss: 0.0872 - val_accuracy: 0.9730\n",
      "Epoch 30/50\n",
      "1563/1563 [==============================] - 4s 3ms/step - loss: 0.0434 - accuracy: 0.9888 - val_loss: 0.0840 - val_accuracy: 0.9758\n",
      "Epoch 31/50\n",
      "1563/1563 [==============================] - 5s 3ms/step - loss: 0.0417 - accuracy: 0.9889 - val_loss: 0.0820 - val_accuracy: 0.9746\n",
      "Epoch 32/50\n",
      "1563/1563 [==============================] - 5s 3ms/step - loss: 0.0395 - accuracy: 0.9898 - val_loss: 0.0832 - val_accuracy: 0.9756\n",
      "Epoch 33/50\n",
      "1563/1563 [==============================] - 3s 2ms/step - loss: 0.0380 - accuracy: 0.9902 - val_loss: 0.0833 - val_accuracy: 0.9761\n",
      "Epoch 34/50\n",
      "1563/1563 [==============================] - 6s 4ms/step - loss: 0.0363 - accuracy: 0.9906 - val_loss: 0.0817 - val_accuracy: 0.9749\n",
      "Epoch 35/50\n",
      "1563/1563 [==============================] - 3s 2ms/step - loss: 0.0345 - accuracy: 0.9914 - val_loss: 0.0808 - val_accuracy: 0.9762\n",
      "Epoch 36/50\n",
      "1563/1563 [==============================] - 6s 4ms/step - loss: 0.0330 - accuracy: 0.9921 - val_loss: 0.0812 - val_accuracy: 0.9762\n",
      "Epoch 37/50\n",
      "1563/1563 [==============================] - 3s 2ms/step - loss: 0.0318 - accuracy: 0.9920 - val_loss: 0.0800 - val_accuracy: 0.9762\n",
      "Epoch 38/50\n",
      "1563/1563 [==============================] - 6s 4ms/step - loss: 0.0303 - accuracy: 0.9929 - val_loss: 0.0819 - val_accuracy: 0.9755\n",
      "Epoch 39/50\n",
      "1563/1563 [==============================] - 3s 2ms/step - loss: 0.0291 - accuracy: 0.9934 - val_loss: 0.0851 - val_accuracy: 0.9738\n",
      "Epoch 40/50\n",
      "1563/1563 [==============================] - 5s 3ms/step - loss: 0.0279 - accuracy: 0.9937 - val_loss: 0.0804 - val_accuracy: 0.9764\n",
      "Epoch 41/50\n",
      "1563/1563 [==============================] - 3s 2ms/step - loss: 0.0268 - accuracy: 0.9938 - val_loss: 0.0800 - val_accuracy: 0.9771\n",
      "Epoch 42/50\n",
      "1563/1563 [==============================] - 5s 3ms/step - loss: 0.0257 - accuracy: 0.9943 - val_loss: 0.0791 - val_accuracy: 0.9757\n",
      "Epoch 43/50\n",
      "1563/1563 [==============================] - 4s 3ms/step - loss: 0.0245 - accuracy: 0.9949 - val_loss: 0.0809 - val_accuracy: 0.9767\n",
      "Epoch 44/50\n",
      "1563/1563 [==============================] - 5s 3ms/step - loss: 0.0233 - accuracy: 0.9952 - val_loss: 0.0815 - val_accuracy: 0.9765\n",
      "Epoch 45/50\n",
      "1563/1563 [==============================] - 6s 4ms/step - loss: 0.0227 - accuracy: 0.9954 - val_loss: 0.0805 - val_accuracy: 0.9768\n",
      "Epoch 46/50\n",
      "1563/1563 [==============================] - 4s 2ms/step - loss: 0.0217 - accuracy: 0.9953 - val_loss: 0.0812 - val_accuracy: 0.9777\n",
      "Epoch 47/50\n",
      "1563/1563 [==============================] - 5s 3ms/step - loss: 0.0207 - accuracy: 0.9959 - val_loss: 0.0821 - val_accuracy: 0.9771\n",
      "Epoch 48/50\n",
      "1563/1563 [==============================] - 4s 2ms/step - loss: 0.0199 - accuracy: 0.9961 - val_loss: 0.0800 - val_accuracy: 0.9770\n",
      "Epoch 49/50\n",
      "1563/1563 [==============================] - 5s 3ms/step - loss: 0.0191 - accuracy: 0.9964 - val_loss: 0.0805 - val_accuracy: 0.9778\n",
      "Epoch 50/50\n",
      "1563/1563 [==============================] - 6s 4ms/step - loss: 0.0183 - accuracy: 0.9968 - val_loss: 0.0816 - val_accuracy: 0.9767\n"
     ]
    }
   ],
   "source": [
    "history_func = model.fit(X_train,y_train,epochs=50,validation_data=[X_valid,y_valid],callbacks=[keras.callbacks.EarlyStopping(patience=10)])"
   ],
   "metadata": {
    "collapsed": false,
    "pycharm": {
     "name": "#%%\n"
    }
   }
  },
  {
   "cell_type": "code",
   "execution_count": 31,
   "outputs": [
    {
     "data": {
      "text/plain": "<Figure size 720x576 with 1 Axes>",
      "image/png": "[encoded data removed]"
     },
     "metadata": {
      "needs_background": "light"
     },
     "output_type": "display_data"
    }
   ],
   "source": [
    "pd.DataFrame(history_func.history).plot(figsize = (10,8))\n",
    "plt.grid()\n",
    "plt.show()"
   ],
   "metadata": {
    "collapsed": false,
    "pycharm": {
     "name": "#%%\n"
    }
   }
  },
  {
   "cell_type": "code",
   "execution_count": 32,
   "outputs": [
    {
     "name": "stdout",
     "output_type": "stream",
     "text": [
      "313/313 [==============================] - 1s 2ms/step\n"
     ]
    }
   ],
   "source": [
    "y_pred = model.predict(X_test)"
   ],
   "metadata": {
    "collapsed": false,
    "pycharm": {
     "name": "#%%\n"
    }
   }
  },
  {
   "cell_type": "code",
   "execution_count": 33,
   "outputs": [],
   "source": [
    "y_pred_class = np.argmax(y_pred,axis=1)"
   ],
   "metadata": {
    "collapsed": false,
    "pycharm": {
     "name": "#%%\n"
    }
   }
  },
  {
   "cell_type": "code",
   "execution_count": 34,
   "outputs": [
    {
     "data": {
      "text/plain": "0.9704722878593257"
     },
     "execution_count": 34,
     "metadata": {},
     "output_type": "execute_result"
    }
   ],
   "source": [
    "precision_score(y_test,y_pred_class,average='macro')"
   ],
   "metadata": {
    "collapsed": false,
    "pycharm": {
     "name": "#%%\n"
    }
   }
  },
  {
   "cell_type": "markdown",
   "source": [
    "#### MNIST CLASSIFICATION USING CNN"
   ],
   "metadata": {
    "collapsed": false
   }
  },
  {
   "cell_type": "code",
   "execution_count": 35,
   "outputs": [],
   "source": [
    "from keras.layers import Conv2D,MaxPooling2D,BatchNormalization,Flatten,Dense\n",
    "from keras.models import Sequential\n",
    "from keras.utils.np_utils import to_categorical"
   ],
   "metadata": {
    "collapsed": false,
    "pycharm": {
     "name": "#%%\n"
    }
   }
  },
  {
   "cell_type": "code",
   "execution_count": 37,
   "outputs": [],
   "source": [
    "X_train_full = X_train_full.reshape(-1,28,28,1)\n",
    "y_train_full = to_categorical(y_train_full)"
   ],
   "metadata": {
    "collapsed": false,
    "pycharm": {
     "name": "#%%\n"
    }
   }
  },
  {
   "cell_type": "code",
   "execution_count": 38,
   "outputs": [],
   "source": [
    "X_train,X_valid = X_train_full[:50000]/255.0,X_train_full[50000:]/255.0 # we normalizing the pixel values btw 0 and 1\n",
    "y_train,y_valid= y_train_full[:50000],y_train_full[50000:]"
   ],
   "metadata": {
    "collapsed": false,
    "pycharm": {
     "name": "#%%\n"
    }
   }
  },
  {
   "cell_type": "code",
   "execution_count": 41,
   "outputs": [],
   "source": [
    "model=Sequential()\n",
    "\n",
    "#model.add(Lambda(standardize,input_shape=(28,28,1)))\n",
    "model.add(Conv2D(filters=64, kernel_size = (3,3), activation=\"relu\", input_shape=(28,28,1)))\n",
    "model.add(Conv2D(filters=64, kernel_size = (3,3), activation=\"relu\"))\n",
    "model.add(MaxPooling2D(pool_size=(2,2)))\n",
    "model.add(BatchNormalization())\n",
    "\n",
    "model.add(Conv2D(filters=128, kernel_size = (3,3), activation=\"relu\"))\n",
    "model.add(Conv2D(filters=128, kernel_size = (3,3), activation=\"relu\"))\n",
    "model.add(MaxPooling2D(pool_size=(2,2)))\n",
    "model.add(BatchNormalization())\n",
    "\n",
    "model.add(Conv2D(filters=256, kernel_size = (3,3), activation=\"relu\"))\n",
    "model.add(MaxPooling2D(pool_size=(2,2)))\n",
    "model.add(BatchNormalization())\n",
    "\n",
    "model.add(Flatten())\n",
    "model.add(Dense(512,activation=\"relu\"))\n",
    "\n",
    "model.add(Dense(10,activation=\"softmax\"))"
   ],
   "metadata": {
    "collapsed": false,
    "pycharm": {
     "name": "#%%\n"
    }
   }
  },
  {
   "cell_type": "code",
   "execution_count": 42,
   "outputs": [],
   "source": [
    "model.compile(loss=\"categorical_crossentropy\", optimizer=\"adam\", metrics=[\"accuracy\"])"
   ],
   "metadata": {
    "collapsed": false,
    "pycharm": {
     "name": "#%%\n"
    }
   }
  },
  {
   "cell_type": "code",
   "execution_count": 43,
   "outputs": [
    {
     "name": "stdout",
     "output_type": "stream",
     "text": [
      "Model: \"sequential_4\"\n",
      "_________________________________________________________________\n",
      " Layer (type)                Output Shape              Param #   \n",
      "=================================================================\n",
      " conv2d_7 (Conv2D)           (None, 26, 26, 64)        640       \n",
      "                                                                 \n",
      " conv2d_8 (Conv2D)           (None, 24, 24, 64)        36928     \n",
      "                                                                 \n",
      " max_pooling2d_3 (MaxPooling  (None, 12, 12, 64)       0         \n",
      " 2D)                                                             \n",
      "                                                                 \n",
      " batch_normalization_2 (Batc  (None, 12, 12, 64)       256       \n",
      " hNormalization)                                                 \n",
      "                                                                 \n",
      " conv2d_9 (Conv2D)           (None, 10, 10, 128)       73856     \n",
      "                                                                 \n",
      " conv2d_10 (Conv2D)          (None, 8, 8, 128)         147584    \n",
      "                                                                 \n",
      " max_pooling2d_4 (MaxPooling  (None, 4, 4, 128)        0         \n",
      " 2D)                                                             \n",
      "                                                                 \n",
      " batch_normalization_3 (Batc  (None, 4, 4, 128)        512       \n",
      " hNormalization)                                                 \n",
      "                                                                 \n",
      " conv2d_11 (Conv2D)          (None, 2, 2, 256)         295168    \n",
      "                                                                 \n",
      " max_pooling2d_5 (MaxPooling  (None, 1, 1, 256)        0         \n",
      " 2D)                                                             \n",
      "                                                                 \n",
      " batch_normalization_4 (Batc  (None, 1, 1, 256)        1024      \n",
      " hNormalization)                                                 \n",
      "                                                                 \n",
      " flatten_2 (Flatten)         (None, 256)               0         \n",
      "                                                                 \n",
      " dense_7 (Dense)             (None, 512)               131584    \n",
      "                                                                 \n",
      " dense_8 (Dense)             (None, 10)                5130      \n",
      "                                                                 \n",
      "=================================================================\n",
      "Total params: 692,682\n",
      "Trainable params: 691,786\n",
      "Non-trainable params: 896\n",
      "_________________________________________________________________\n"
     ]
    }
   ],
   "source": [
    "model.summary()"
   ],
   "metadata": {
    "collapsed": false,
    "pycharm": {
     "name": "#%%\n"
    }
   }
  },
  {
   "cell_type": "code",
   "execution_count": 44,
   "outputs": [
    {
     "name": "stdout",
     "output_type": "stream",
     "text": [
      "Epoch 1/10\n",
      "1563/1563 [==============================] - 142s 89ms/step - loss: 0.1024 - accuracy: 0.9689 - val_loss: 0.0490 - val_accuracy: 0.9864\n",
      "Epoch 2/10\n",
      "1563/1563 [==============================] - 134s 86ms/step - loss: 0.0533 - accuracy: 0.9849 - val_loss: 0.0644 - val_accuracy: 0.9851\n",
      "Epoch 3/10\n",
      "1563/1563 [==============================] - 143s 91ms/step - loss: 0.0410 - accuracy: 0.9883 - val_loss: 0.0719 - val_accuracy: 0.9828\n",
      "Epoch 4/10\n",
      "1563/1563 [==============================] - 143s 91ms/step - loss: 0.0319 - accuracy: 0.9903 - val_loss: 0.0405 - val_accuracy: 0.9903\n",
      "Epoch 5/10\n",
      "1563/1563 [==============================] - 141s 90ms/step - loss: 0.0287 - accuracy: 0.9912 - val_loss: 0.0384 - val_accuracy: 0.9905\n",
      "Epoch 6/10\n",
      "1563/1563 [==============================] - 141s 90ms/step - loss: 0.0224 - accuracy: 0.9929 - val_loss: 0.0336 - val_accuracy: 0.9920\n",
      "Epoch 7/10\n",
      "1563/1563 [==============================] - 143s 92ms/step - loss: 0.0202 - accuracy: 0.9940 - val_loss: 0.0345 - val_accuracy: 0.9914\n",
      "Epoch 8/10\n",
      "1563/1563 [==============================] - 141s 90ms/step - loss: 0.0179 - accuracy: 0.9946 - val_loss: 0.0431 - val_accuracy: 0.9919\n",
      "Epoch 9/10\n",
      "1563/1563 [==============================] - 141s 90ms/step - loss: 0.0152 - accuracy: 0.9954 - val_loss: 0.0327 - val_accuracy: 0.9925\n",
      "Epoch 10/10\n",
      "1563/1563 [==============================] - 140s 90ms/step - loss: 0.0138 - accuracy: 0.9957 - val_loss: 0.0306 - val_accuracy: 0.9933\n"
     ]
    }
   ],
   "source": [
    "history = model.fit(X_train,y_train,epochs=10,validation_data=[X_valid,y_valid],callbacks=[keras.callbacks.EarlyStopping(patience=10)])"
   ],
   "metadata": {
    "collapsed": false,
    "pycharm": {
     "name": "#%%\n"
    }
   }
  },
  {
   "cell_type": "code",
   "execution_count": 47,
   "outputs": [
    {
     "data": {
      "text/plain": "<Figure size 720x576 with 1 Axes>",
      "image/png": "[encoded data removed]"
     },
     "metadata": {
      "needs_background": "light"
     },
     "output_type": "display_data"
    }
   ],
   "source": [
    "pd.DataFrame(history.history).plot(figsize = (10,8))\n",
    "plt.grid()\n",
    "plt.show()"
   ],
   "metadata": {
    "collapsed": false,
    "pycharm": {
     "name": "#%%\n"
    }
   }
  },
  {
   "cell_type": "code",
   "execution_count": 51,
   "outputs": [],
   "source": [],
   "metadata": {
    "collapsed": false,
    "pycharm": {
     "name": "#%%\n"
    }
   }
  },
  {
   "cell_type": "code",
   "execution_count": 52,
   "outputs": [
    {
     "name": "stdout",
     "output_type": "stream",
     "text": [
      "313/313 [==============================] - 7s 23ms/step\n"
     ]
    },
    {
     "data": {
      "text/plain": "array([[0., 0., 0., ..., 1., 0., 0.],\n       [0., 0., 1., ..., 0., 0., 0.],\n       [0., 0., 0., ..., 0., 0., 0.],\n       ...,\n       [0., 0., 0., ..., 0., 0., 0.],\n       [0., 0., 0., ..., 0., 0., 0.],\n       [0., 0., 0., ..., 0., 0., 0.]], dtype=float32)"
     },
     "execution_count": 52,
     "metadata": {},
     "output_type": "execute_result"
    }
   ],
   "source": [],
   "metadata": {
    "collapsed": false,
    "pycharm": {
     "name": "#%%\n"
    }
   }
  },
  {
   "cell_type": "code",
   "execution_count": null,
   "outputs": [],
   "source": [],
   "metadata": {
    "collapsed": false,
    "pycharm": {
     "name": "#%%\n"
    }
   }
  }
 ],
 "metadata": {
  "kernelspec": {
   "display_name": "Python 3",
   "language": "python",
   "name": "python3"
  },
  "language_info": {
   "codemirror_mode": {
    "name": "ipython",
    "version": 2
   },
   "file_extension": ".py",
   "mimetype": "text/x-python",
   "name": "python",
   "nbconvert_exporter": "python",
   "pygments_lexer": "ipython2",
   "version": "2.7.6"
  }
 },
 "nbformat": 4,
 "nbformat_minor": 0
}