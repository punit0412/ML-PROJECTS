{
 "cells": [
  {
   "cell_type": "code",
   "execution_count": 1,
   "metadata": {
    "collapsed": true
   },
   "outputs": [],
   "source": [
    "import pandas as pd\n",
    "import numpy as np\n",
    "import matplotlib.pyplot as plt\n",
    "import seaborn as sns"
   ]
  },
  {
   "cell_type": "code",
   "execution_count": 2,
   "outputs": [],
   "source": [
    "train_data = pd.read_csv(r\"D:\\Datasets\\housing\\train.csv\")\n",
    "test_data = pd.read_csv(r\"D:\\Datasets\\housing\\test.csv\")"
   ],
   "metadata": {
    "collapsed": false,
    "pycharm": {
     "name": "#%%\n"
    }
   }
  },
  {
   "cell_type": "code",
   "execution_count": 3,
   "outputs": [
    {
     "data": {
      "text/plain": "   Id  MSSubClass MSZoning  LotFrontage  LotArea Street Alley LotShape  \\\n0   1          60       RL         65.0     8450   Pave   NaN      Reg   \n1   2          20       RL         80.0     9600   Pave   NaN      Reg   \n2   3          60       RL         68.0    11250   Pave   NaN      IR1   \n3   4          70       RL         60.0     9550   Pave   NaN      IR1   \n4   5          60       RL         84.0    14260   Pave   NaN      IR1   \n\n  LandContour Utilities  ... PoolArea PoolQC Fence MiscFeature MiscVal MoSold  \\\n0         Lvl    AllPub  ...        0    NaN   NaN         NaN       0      2   \n1         Lvl    AllPub  ...        0    NaN   NaN         NaN       0      5   \n2         Lvl    AllPub  ...        0    NaN   NaN         NaN       0      9   \n3         Lvl    AllPub  ...        0    NaN   NaN         NaN       0      2   \n4         Lvl    AllPub  ...        0    NaN   NaN         NaN       0     12   \n\n  YrSold  SaleType  SaleCondition  SalePrice  \n0   2008        WD         Normal     208500  \n1   2007        WD         Normal     181500  \n2   2008        WD         Normal     223500  \n3   2006        WD        Abnorml     140000  \n4   2008        WD         Normal     250000  \n\n[5 rows x 81 columns]",
      "text/html": "<div>\n<style scoped>\n    .dataframe tbody tr th:only-of-type {\n        vertical-align: middle;\n    }\n\n    .dataframe tbody tr th {\n        vertical-align: top;\n    }\n\n    .dataframe thead th {\n        text-align: right;\n    }\n</style>\n<table border=\"1\" class=\"dataframe\">\n  <thead>\n    <tr style=\"text-align: right;\">\n      <th></th>\n      <th>Id</th>\n      <th>MSSubClass</th>\n      <th>MSZoning</th>\n      <th>LotFrontage</th>\n      <th>LotArea</th>\n      <th>Street</th>\n      <th>Alley</th>\n      <th>LotShape</th>\n      <th>LandContour</th>\n      <th>Utilities</th>\n      <th>...</th>\n      <th>PoolArea</th>\n      <th>PoolQC</th>\n      <th>Fence</th>\n      <th>MiscFeature</th>\n      <th>MiscVal</th>\n      <th>MoSold</th>\n      <th>YrSold</th>\n      <th>SaleType</th>\n      <th>SaleCondition</th>\n      <th>SalePrice</th>\n    </tr>\n  </thead>\n  <tbody>\n    <tr>\n      <th>0</th>\n      <td>1</td>\n      <td>60</td>\n      <td>RL</td>\n      <td>65.0</td>\n      <td>8450</td>\n      <td>Pave</td>\n      <td>NaN</td>\n      <td>Reg</td>\n      <td>Lvl</td>\n      <td>AllPub</td>\n      <td>...</td>\n      <td>0</td>\n      <td>NaN</td>\n      <td>NaN</td>\n      <td>NaN</td>\n      <td>0</td>\n      <td>2</td>\n      <td>2008</td>\n      <td>WD</td>\n      <td>Normal</td>\n      <td>208500</td>\n    </tr>\n    <tr>\n      <th>1</th>\n      <td>2</td>\n      <td>20</td>\n      <td>RL</td>\n      <td>80.0</td>\n      <td>9600</td>\n      <td>Pave</td>\n      <td>NaN</td>\n      <td>Reg</td>\n      <td>Lvl</td>\n      <td>AllPub</td>\n      <td>...</td>\n      <td>0</td>\n      <td>NaN</td>\n      <td>NaN</td>\n      <td>NaN</td>\n      <td>0</td>\n      <td>5</td>\n      <td>2007</td>\n      <td>WD</td>\n      <td>Normal</td>\n      <td>181500</td>\n    </tr>\n    <tr>\n      <th>2</th>\n      <td>3</td>\n      <td>60</td>\n      <td>RL</td>\n      <td>68.0</td>\n      <td>11250</td>\n      <td>Pave</td>\n      <td>NaN</td>\n      <td>IR1</td>\n      <td>Lvl</td>\n      <td>AllPub</td>\n      <td>...</td>\n      <td>0</td>\n      <td>NaN</td>\n      <td>NaN</td>\n      <td>NaN</td>\n      <td>0</td>\n      <td>9</td>\n      <td>2008</td>\n      <td>WD</td>\n      <td>Normal</td>\n      <td>223500</td>\n    </tr>\n    <tr>\n      <th>3</th>\n      <td>4</td>\n      <td>70</td>\n      <td>RL</td>\n      <td>60.0</td>\n      <td>9550</td>\n      <td>Pave</td>\n      <td>NaN</td>\n      <td>IR1</td>\n      <td>Lvl</td>\n      <td>AllPub</td>\n      <td>...</td>\n      <td>0</td>\n      <td>NaN</td>\n      <td>NaN</td>\n      <td>NaN</td>\n      <td>0</td>\n      <td>2</td>\n      <td>2006</td>\n      <td>WD</td>\n      <td>Abnorml</td>\n      <td>140000</td>\n    </tr>\n    <tr>\n      <th>4</th>\n      <td>5</td>\n      <td>60</td>\n      <td>RL</td>\n      <td>84.0</td>\n      <td>14260</td>\n      <td>Pave</td>\n      <td>NaN</td>\n      <td>IR1</td>\n      <td>Lvl</td>\n      <td>AllPub</td>\n      <td>...</td>\n      <td>0</td>\n      <td>NaN</td>\n      <td>NaN</td>\n      <td>NaN</td>\n      <td>0</td>\n      <td>12</td>\n      <td>2008</td>\n      <td>WD</td>\n      <td>Normal</td>\n      <td>250000</td>\n    </tr>\n  </tbody>\n</table>\n<p>5 rows × 81 columns</p>\n</div>"
     },
     "execution_count": 3,
     "metadata": {},
     "output_type": "execute_result"
    }
   ],
   "source": [
    "train_data.head()"
   ],
   "metadata": {
    "collapsed": false,
    "pycharm": {
     "name": "#%%\n"
    }
   }
  },
  {
   "cell_type": "code",
   "execution_count": 4,
   "outputs": [
    {
     "data": {
      "text/plain": "(1460, 81)"
     },
     "execution_count": 4,
     "metadata": {},
     "output_type": "execute_result"
    }
   ],
   "source": [
    "train_data.shape"
   ],
   "metadata": {
    "collapsed": false,
    "pycharm": {
     "name": "#%%\n"
    }
   }
  },
  {
   "cell_type": "code",
   "execution_count": 5,
   "outputs": [
    {
     "data": {
      "text/plain": "(1459, 80)"
     },
     "execution_count": 5,
     "metadata": {},
     "output_type": "execute_result"
    }
   ],
   "source": [
    "test_data.shape"
   ],
   "metadata": {
    "collapsed": false,
    "pycharm": {
     "name": "#%%\n"
    }
   }
  },
  {
   "cell_type": "code",
   "execution_count": 6,
   "outputs": [
    {
     "data": {
      "text/plain": "Index(['Id', 'MSSubClass', 'MSZoning', 'LotFrontage', 'LotArea', 'Street',\n       'Alley', 'LotShape', 'LandContour', 'Utilities', 'LotConfig',\n       'LandSlope', 'Neighborhood', 'Condition1', 'Condition2', 'BldgType',\n       'HouseStyle', 'OverallQual', 'OverallCond', 'YearBuilt', 'YearRemodAdd',\n       'RoofStyle', 'RoofMatl', 'Exterior1st', 'Exterior2nd', 'MasVnrType',\n       'MasVnrArea', 'ExterQual', 'ExterCond', 'Foundation', 'BsmtQual',\n       'BsmtCond', 'BsmtExposure', 'BsmtFinType1', 'BsmtFinSF1',\n       'BsmtFinType2', 'BsmtFinSF2', 'BsmtUnfSF', 'TotalBsmtSF', 'Heating',\n       'HeatingQC', 'CentralAir', 'Electrical', '1stFlrSF', '2ndFlrSF',\n       'LowQualFinSF', 'GrLivArea', 'BsmtFullBath', 'BsmtHalfBath', 'FullBath',\n       'HalfBath', 'BedroomAbvGr', 'KitchenAbvGr', 'KitchenQual',\n       'TotRmsAbvGrd', 'Functional', 'Fireplaces', 'FireplaceQu', 'GarageType',\n       'GarageYrBlt', 'GarageFinish', 'GarageCars', 'GarageArea', 'GarageQual',\n       'GarageCond', 'PavedDrive', 'WoodDeckSF', 'OpenPorchSF',\n       'EnclosedPorch', '3SsnPorch', 'ScreenPorch', 'PoolArea', 'PoolQC',\n       'Fence', 'MiscFeature', 'MiscVal', 'MoSold', 'YrSold', 'SaleType',\n       'SaleCondition', 'SalePrice'],\n      dtype='object')"
     },
     "execution_count": 6,
     "metadata": {},
     "output_type": "execute_result"
    }
   ],
   "source": [
    "train_data.columns"
   ],
   "metadata": {
    "collapsed": false,
    "pycharm": {
     "name": "#%%\n"
    }
   }
  },
  {
   "cell_type": "code",
   "execution_count": 10,
   "outputs": [
    {
     "name": "stdout",
     "output_type": "stream",
     "text": [
      "<class 'pandas.core.frame.DataFrame'>\n",
      "RangeIndex: 1460 entries, 0 to 1459\n",
      "Data columns (total 81 columns):\n",
      " #   Column         Non-Null Count  Dtype  \n",
      "---  ------         --------------  -----  \n",
      " 0   Id             1460 non-null   int64  \n",
      " 1   MSSubClass     1460 non-null   int64  \n",
      " 2   MSZoning       1460 non-null   object \n",
      " 3   LotFrontage    1201 non-null   float64\n",
      " 4   LotArea        1460 non-null   int64  \n",
      " 5   Street         1460 non-null   object \n",
      " 6   Alley          91 non-null     object \n",
      " 7   LotShape       1460 non-null   object \n",
      " 8   LandContour    1460 non-null   object \n",
      " 9   Utilities      1460 non-null   object \n",
      " 10  LotConfig      1460 non-null   object \n",
      " 11  LandSlope      1460 non-null   object \n",
      " 12  Neighborhood   1460 non-null   object \n",
      " 13  Condition1     1460 non-null   object \n",
      " 14  Condition2     1460 non-null   object \n",
      " 15  BldgType       1460 non-null   object \n",
      " 16  HouseStyle     1460 non-null   object \n",
      " 17  OverallQual    1460 non-null   int64  \n",
      " 18  OverallCond    1460 non-null   int64  \n",
      " 19  YearBuilt      1460 non-null   int64  \n",
      " 20  YearRemodAdd   1460 non-null   int64  \n",
      " 21  RoofStyle      1460 non-null   object \n",
      " 22  RoofMatl       1460 non-null   object \n",
      " 23  Exterior1st    1460 non-null   object \n",
      " 24  Exterior2nd    1460 non-null   object \n",
      " 25  MasVnrType     1452 non-null   object \n",
      " 26  MasVnrArea     1452 non-null   float64\n",
      " 27  ExterQual      1460 non-null   object \n",
      " 28  ExterCond      1460 non-null   object \n",
      " 29  Foundation     1460 non-null   object \n",
      " 30  BsmtQual       1423 non-null   object \n",
      " 31  BsmtCond       1423 non-null   object \n",
      " 32  BsmtExposure   1422 non-null   object \n",
      " 33  BsmtFinType1   1423 non-null   object \n",
      " 34  BsmtFinSF1     1460 non-null   int64  \n",
      " 35  BsmtFinType2   1422 non-null   object \n",
      " 36  BsmtFinSF2     1460 non-null   int64  \n",
      " 37  BsmtUnfSF      1460 non-null   int64  \n",
      " 38  TotalBsmtSF    1460 non-null   int64  \n",
      " 39  Heating        1460 non-null   object \n",
      " 40  HeatingQC      1460 non-null   object \n",
      " 41  CentralAir     1460 non-null   object \n",
      " 42  Electrical     1459 non-null   object \n",
      " 43  1stFlrSF       1460 non-null   int64  \n",
      " 44  2ndFlrSF       1460 non-null   int64  \n",
      " 45  LowQualFinSF   1460 non-null   int64  \n",
      " 46  GrLivArea      1460 non-null   int64  \n",
      " 47  BsmtFullBath   1460 non-null   int64  \n",
      " 48  BsmtHalfBath   1460 non-null   int64  \n",
      " 49  FullBath       1460 non-null   int64  \n",
      " 50  HalfBath       1460 non-null   int64  \n",
      " 51  BedroomAbvGr   1460 non-null   int64  \n",
      " 52  KitchenAbvGr   1460 non-null   int64  \n",
      " 53  KitchenQual    1460 non-null   object \n",
      " 54  TotRmsAbvGrd   1460 non-null   int64  \n",
      " 55  Functional     1460 non-null   object \n",
      " 56  Fireplaces     1460 non-null   int64  \n",
      " 57  FireplaceQu    770 non-null    object \n",
      " 58  GarageType     1379 non-null   object \n",
      " 59  GarageYrBlt    1379 non-null   float64\n",
      " 60  GarageFinish   1379 non-null   object \n",
      " 61  GarageCars     1460 non-null   int64  \n",
      " 62  GarageArea     1460 non-null   int64  \n",
      " 63  GarageQual     1379 non-null   object \n",
      " 64  GarageCond     1379 non-null   object \n",
      " 65  PavedDrive     1460 non-null   object \n",
      " 66  WoodDeckSF     1460 non-null   int64  \n",
      " 67  OpenPorchSF    1460 non-null   int64  \n",
      " 68  EnclosedPorch  1460 non-null   int64  \n",
      " 69  3SsnPorch      1460 non-null   int64  \n",
      " 70  ScreenPorch    1460 non-null   int64  \n",
      " 71  PoolArea       1460 non-null   int64  \n",
      " 72  PoolQC         7 non-null      object \n",
      " 73  Fence          281 non-null    object \n",
      " 74  MiscFeature    54 non-null     object \n",
      " 75  MiscVal        1460 non-null   int64  \n",
      " 76  MoSold         1460 non-null   int64  \n",
      " 77  YrSold         1460 non-null   int64  \n",
      " 78  SaleType       1460 non-null   object \n",
      " 79  SaleCondition  1460 non-null   object \n",
      " 80  SalePrice      1460 non-null   int64  \n",
      "dtypes: float64(3), int64(35), object(43)\n",
      "memory usage: 924.0+ KB\n"
     ]
    }
   ],
   "source": [
    "train_data.info()"
   ],
   "metadata": {
    "collapsed": false,
    "pycharm": {
     "name": "#%%\n"
    }
   }
  },
  {
   "cell_type": "code",
   "execution_count": 12,
   "outputs": [],
   "source": [
    "null_col_count= train_data.isna().sum()"
   ],
   "metadata": {
    "collapsed": false,
    "pycharm": {
     "name": "#%%\n"
    }
   }
  },
  {
   "cell_type": "code",
   "execution_count": 15,
   "outputs": [
    {
     "data": {
      "text/plain": "LotFrontage     259\nAlley          1369\nFireplaceQu     690\nPoolQC         1453\nFence          1179\nMiscFeature    1406\ndtype: int64"
     },
     "execution_count": 15,
     "metadata": {},
     "output_type": "execute_result"
    }
   ],
   "source": [
    "null_col_count.loc[null_col_count>100]"
   ],
   "metadata": {
    "collapsed": false,
    "pycharm": {
     "name": "#%%\n"
    }
   }
  },
  {
   "cell_type": "code",
   "execution_count": 16,
   "outputs": [],
   "source": [
    "train_data.drop(['Alley','FireplaceQu','PoolQC','Fence','MiscFeature'],axis=1,inplace=True)"
   ],
   "metadata": {
    "collapsed": false,
    "pycharm": {
     "name": "#%%\n"
    }
   }
  },
  {
   "cell_type": "code",
   "execution_count": 17,
   "outputs": [
    {
     "data": {
      "text/plain": "(1460, 76)"
     },
     "execution_count": 17,
     "metadata": {},
     "output_type": "execute_result"
    }
   ],
   "source": [
    "train_data.shape"
   ],
   "metadata": {
    "collapsed": false,
    "pycharm": {
     "name": "#%%\n"
    }
   }
  },
  {
   "cell_type": "code",
   "execution_count": 21,
   "outputs": [
    {
     "data": {
      "text/plain": "LotFrontage     259\nMasVnrType        8\nMasVnrArea        8\nBsmtQual         37\nBsmtCond         37\nBsmtExposure     38\nBsmtFinType1     37\nBsmtFinType2     38\nElectrical        1\nGarageType       81\nGarageYrBlt      81\nGarageFinish     81\nGarageQual       81\nGarageCond       81\ndtype: int64"
     },
     "execution_count": 21,
     "metadata": {},
     "output_type": "execute_result"
    }
   ],
   "source": [
    "null_sum = train_data.isna().sum()\n",
    "null_sum[null_sum > 0]"
   ],
   "metadata": {
    "collapsed": false,
    "pycharm": {
     "name": "#%%\n"
    }
   }
  },
  {
   "cell_type": "code",
   "execution_count": 22,
   "outputs": [],
   "source": [
    "cat_df = train_data.select_dtypes(object)\n",
    "int_df = train_data.select_dtypes(int)\n",
    "float_df = train_data.select_dtypes(float)\n",
    "num_df = pd.concat([float_df,int_df],axis=1)"
   ],
   "metadata": {
    "collapsed": false,
    "pycharm": {
     "name": "#%%\n"
    }
   }
  },
  {
   "cell_type": "markdown",
   "source": [
    "##### Handling Unknowns of Numerical Dataframe"
   ],
   "metadata": {
    "collapsed": false
   }
  },
  {
   "cell_type": "code",
   "execution_count": 26,
   "outputs": [],
   "source": [
    "from sklearn.impute import SimpleImputer\n",
    "imputer = SimpleImputer(strategy='median')"
   ],
   "metadata": {
    "collapsed": false,
    "pycharm": {
     "name": "#%%\n"
    }
   }
  },
  {
   "cell_type": "code",
   "execution_count": 28,
   "outputs": [],
   "source": [
    "num_df = pd.DataFrame(imputer.fit_transform(num_df),columns=num_df.columns)"
   ],
   "metadata": {
    "collapsed": false,
    "pycharm": {
     "name": "#%%\n"
    }
   }
  },
  {
   "cell_type": "code",
   "execution_count": 29,
   "outputs": [
    {
     "data": {
      "text/plain": "0"
     },
     "execution_count": 29,
     "metadata": {},
     "output_type": "execute_result"
    }
   ],
   "source": [
    "num_df.isna().sum().sum()"
   ],
   "metadata": {
    "collapsed": false,
    "pycharm": {
     "name": "#%%\n"
    }
   }
  },
  {
   "cell_type": "markdown",
   "source": [
    "Handling Unknowns of Categorical Dataframe"
   ],
   "metadata": {
    "collapsed": false
   }
  },
  {
   "cell_type": "code",
   "execution_count": 30,
   "outputs": [],
   "source": [
    "imputer_cat = SimpleImputer(strategy='most_frequent')"
   ],
   "metadata": {
    "collapsed": false,
    "pycharm": {
     "name": "#%%\n"
    }
   }
  },
  {
   "cell_type": "code",
   "execution_count": 31,
   "outputs": [],
   "source": [
    "cat_df = pd.DataFrame(imputer_cat.fit_transform(cat_df),columns = cat_df.columns)"
   ],
   "metadata": {
    "collapsed": false,
    "pycharm": {
     "name": "#%%\n"
    }
   }
  },
  {
   "cell_type": "markdown",
   "source": [
    "As the columns are too much we have to find coorelation between some of them to rduce them"
   ],
   "metadata": {
    "collapsed": false
   }
  },
  {
   "cell_type": "code",
   "execution_count": 32,
   "outputs": [],
   "source": [
    "num_df['Home Age'] = 2022 - num_df['YearBuilt']\n",
    "num_df['Home Modified Time'] = 2022 - num_df['YearRemodAdd']\n",
    "num_df['RateYearBack'] = 2022-num_df['YrSold']"
   ],
   "metadata": {
    "collapsed": false,
    "pycharm": {
     "name": "#%%\n"
    }
   }
  },
  {
   "cell_type": "code",
   "execution_count": 33,
   "outputs": [],
   "source": [
    "# num_df_test['Home Age'] = 2022 - num_df_test['YearBuilt']\n",
    "# num_df_test['Home Modified Time'] = 2022 - num_df_test['YearRemodAdd']\n",
    "# num_df_test['RateYearBack'] = 2022-num_df_test['YrSold']"
   ],
   "metadata": {
    "collapsed": false,
    "pycharm": {
     "name": "#%%\n"
    }
   }
  },
  {
   "cell_type": "code",
   "execution_count": 34,
   "outputs": [],
   "source": [
    "num_df.drop(['YearBuilt','YearRemodAdd','YrSold'],axis=1,inplace=True)\n",
    "train_data.drop(['YearBuilt','YearRemodAdd','YrSold'],axis=1,inplace=True)"
   ],
   "metadata": {
    "collapsed": false,
    "pycharm": {
     "name": "#%%\n"
    }
   }
  },
  {
   "cell_type": "code",
   "execution_count": 36,
   "outputs": [
    {
     "data": {
      "text/plain": "LotFrontage           0.334771\nMasVnrArea            0.472614\nGarageYrBlt           0.466754\nId                   -0.021917\nMSSubClass           -0.084284\nLotArea               0.263843\nOverallQual           0.790982\nOverallCond          -0.077856\nBsmtFinSF1            0.386420\nBsmtFinSF2           -0.011378\nBsmtUnfSF             0.214479\nTotalBsmtSF           0.613581\n1stFlrSF              0.605852\n2ndFlrSF              0.319334\nLowQualFinSF         -0.025606\nGrLivArea             0.708624\nBsmtFullBath          0.227122\nBsmtHalfBath         -0.016844\nFullBath              0.560664\nHalfBath              0.284108\nBedroomAbvGr          0.168213\nKitchenAbvGr         -0.135907\nTotRmsAbvGrd          0.533723\nFireplaces            0.466929\nGarageCars            0.640409\nGarageArea            0.623431\nWoodDeckSF            0.324413\nOpenPorchSF           0.315856\nEnclosedPorch        -0.128578\n3SsnPorch             0.044584\nScreenPorch           0.111447\nPoolArea              0.092404\nMiscVal              -0.021190\nMoSold                0.046432\nSalePrice             1.000000\nHome Age             -0.522897\nHome Modified Time   -0.507101\nRateYearBack          0.028923\nName: SalePrice, dtype: float64"
     },
     "execution_count": 36,
     "metadata": {},
     "output_type": "execute_result"
    }
   ],
   "source": [
    "corr = num_df.corr()\n",
    "corr['SalePrice']"
   ],
   "metadata": {
    "collapsed": false,
    "pycharm": {
     "name": "#%%\n"
    }
   }
  },
  {
   "cell_type": "code",
   "execution_count": 37,
   "outputs": [],
   "source": [
    "num_df['Garage Age'] = 2022 - num_df['GarageYrBlt']\n",
    "num_df.drop('GarageYrBlt',axis=1,inplace=True)\n",
    "train_data.drop('GarageYrBlt',axis=1,inplace=True)"
   ],
   "metadata": {
    "collapsed": false,
    "pycharm": {
     "name": "#%%\n"
    }
   }
  },
  {
   "cell_type": "code",
   "execution_count": 38,
   "outputs": [],
   "source": [
    "from sklearn.preprocessing import LabelEncoder"
   ],
   "metadata": {
    "collapsed": false,
    "pycharm": {
     "name": "#%%\n"
    }
   }
  },
  {
   "cell_type": "code",
   "execution_count": 39,
   "outputs": [],
   "source": [
    "le = LabelEncoder()\n",
    "for i in cat_df.columns:\n",
    "    cat_df[i] = le.fit_transform(cat_df[i])"
   ],
   "metadata": {
    "collapsed": false,
    "pycharm": {
     "name": "#%%\n"
    }
   }
  },
  {
   "cell_type": "code",
   "execution_count": 40,
   "outputs": [],
   "source": [
    "# df = pd.DataFrame(trans_train, columns= arr)\n",
    "# df_train = pd.concat([num_df,df],axis=1)\n",
    "df_train = pd.concat([num_df,cat_df],axis=1)"
   ],
   "metadata": {
    "collapsed": false,
    "pycharm": {
     "name": "#%%\n"
    }
   }
  },
  {
   "cell_type": "code",
   "execution_count": 41,
   "outputs": [
    {
     "data": {
      "text/plain": "      LotFrontage  MasVnrArea      Id  MSSubClass  LotArea  OverallQual  \\\n0            65.0       196.0     1.0        60.0   8450.0          7.0   \n1            80.0         0.0     2.0        20.0   9600.0          6.0   \n2            68.0       162.0     3.0        60.0  11250.0          7.0   \n3            60.0         0.0     4.0        70.0   9550.0          7.0   \n4            84.0       350.0     5.0        60.0  14260.0          8.0   \n...           ...         ...     ...         ...      ...          ...   \n1455         62.0         0.0  1456.0        60.0   7917.0          6.0   \n1456         85.0       119.0  1457.0        20.0  13175.0          6.0   \n1457         66.0         0.0  1458.0        70.0   9042.0          7.0   \n1458         68.0         0.0  1459.0        20.0   9717.0          5.0   \n1459         75.0         0.0  1460.0        20.0   9937.0          5.0   \n\n      OverallCond  BsmtFinSF1  BsmtFinSF2  BsmtUnfSF  ...  Electrical  \\\n0             5.0       706.0         0.0      150.0  ...           4   \n1             8.0       978.0         0.0      284.0  ...           4   \n2             5.0       486.0         0.0      434.0  ...           4   \n3             5.0       216.0         0.0      540.0  ...           4   \n4             5.0       655.0         0.0      490.0  ...           4   \n...           ...         ...         ...        ...  ...         ...   \n1455          5.0         0.0         0.0      953.0  ...           4   \n1456          6.0       790.0       163.0      589.0  ...           4   \n1457          9.0       275.0         0.0      877.0  ...           4   \n1458          6.0        49.0      1029.0        0.0  ...           0   \n1459          6.0       830.0       290.0      136.0  ...           4   \n\n      KitchenQual  Functional  GarageType  GarageFinish  GarageQual  \\\n0               2           6           1             1           4   \n1               3           6           1             1           4   \n2               2           6           1             1           4   \n3               2           6           5             2           4   \n4               2           6           1             1           4   \n...           ...         ...         ...           ...         ...   \n1455            3           6           1             1           4   \n1456            3           2           1             2           4   \n1457            2           6           1             1           4   \n1458            2           6           1             2           4   \n1459            3           6           1             0           4   \n\n      GarageCond  PavedDrive  SaleType  SaleCondition  \n0              4           2         8              4  \n1              4           2         8              4  \n2              4           2         8              4  \n3              4           2         8              0  \n4              4           2         8              4  \n...          ...         ...       ...            ...  \n1455           4           2         8              4  \n1456           4           2         8              4  \n1457           4           2         8              4  \n1458           4           2         8              4  \n1459           4           2         8              4  \n\n[1460 rows x 76 columns]",
      "text/html": "<div>\n<style scoped>\n    .dataframe tbody tr th:only-of-type {\n        vertical-align: middle;\n    }\n\n    .dataframe tbody tr th {\n        vertical-align: top;\n    }\n\n    .dataframe thead th {\n        text-align: right;\n    }\n</style>\n<table border=\"1\" class=\"dataframe\">\n  <thead>\n    <tr style=\"text-align: right;\">\n      <th></th>\n      <th>LotFrontage</th>\n      <th>MasVnrArea</th>\n      <th>Id</th>\n      <th>MSSubClass</th>\n      <th>LotArea</th>\n      <th>OverallQual</th>\n      <th>OverallCond</th>\n      <th>BsmtFinSF1</th>\n      <th>BsmtFinSF2</th>\n      <th>BsmtUnfSF</th>\n      <th>...</th>\n      <th>Electrical</th>\n      <th>KitchenQual</th>\n      <th>Functional</th>\n      <th>GarageType</th>\n      <th>GarageFinish</th>\n      <th>GarageQual</th>\n      <th>GarageCond</th>\n      <th>PavedDrive</th>\n      <th>SaleType</th>\n      <th>SaleCondition</th>\n    </tr>\n  </thead>\n  <tbody>\n    <tr>\n      <th>0</th>\n      <td>65.0</td>\n      <td>196.0</td>\n      <td>1.0</td>\n      <td>60.0</td>\n      <td>8450.0</td>\n      <td>7.0</td>\n      <td>5.0</td>\n      <td>706.0</td>\n      <td>0.0</td>\n      <td>150.0</td>\n      <td>...</td>\n      <td>4</td>\n      <td>2</td>\n      <td>6</td>\n      <td>1</td>\n      <td>1</td>\n      <td>4</td>\n      <td>4</td>\n      <td>2</td>\n      <td>8</td>\n      <td>4</td>\n    </tr>\n    <tr>\n      <th>1</th>\n      <td>80.0</td>\n      <td>0.0</td>\n      <td>2.0</td>\n      <td>20.0</td>\n      <td>9600.0</td>\n      <td>6.0</td>\n      <td>8.0</td>\n      <td>978.0</td>\n      <td>0.0</td>\n      <td>284.0</td>\n      <td>...</td>\n      <td>4</td>\n      <td>3</td>\n      <td>6</td>\n      <td>1</td>\n      <td>1</td>\n      <td>4</td>\n      <td>4</td>\n      <td>2</td>\n      <td>8</td>\n      <td>4</td>\n    </tr>\n    <tr>\n      <th>2</th>\n      <td>68.0</td>\n      <td>162.0</td>\n      <td>3.0</td>\n      <td>60.0</td>\n      <td>11250.0</td>\n      <td>7.0</td>\n      <td>5.0</td>\n      <td>486.0</td>\n      <td>0.0</td>\n      <td>434.0</td>\n      <td>...</td>\n      <td>4</td>\n      <td>2</td>\n      <td>6</td>\n      <td>1</td>\n      <td>1</td>\n      <td>4</td>\n      <td>4</td>\n      <td>2</td>\n      <td>8</td>\n      <td>4</td>\n    </tr>\n    <tr>\n      <th>3</th>\n      <td>60.0</td>\n      <td>0.0</td>\n      <td>4.0</td>\n      <td>70.0</td>\n      <td>9550.0</td>\n      <td>7.0</td>\n      <td>5.0</td>\n      <td>216.0</td>\n      <td>0.0</td>\n      <td>540.0</td>\n      <td>...</td>\n      <td>4</td>\n      <td>2</td>\n      <td>6</td>\n      <td>5</td>\n      <td>2</td>\n      <td>4</td>\n      <td>4</td>\n      <td>2</td>\n      <td>8</td>\n      <td>0</td>\n    </tr>\n    <tr>\n      <th>4</th>\n      <td>84.0</td>\n      <td>350.0</td>\n      <td>5.0</td>\n      <td>60.0</td>\n      <td>14260.0</td>\n      <td>8.0</td>\n      <td>5.0</td>\n      <td>655.0</td>\n      <td>0.0</td>\n      <td>490.0</td>\n      <td>...</td>\n      <td>4</td>\n      <td>2</td>\n      <td>6</td>\n      <td>1</td>\n      <td>1</td>\n      <td>4</td>\n      <td>4</td>\n      <td>2</td>\n      <td>8</td>\n      <td>4</td>\n    </tr>\n    <tr>\n      <th>...</th>\n      <td>...</td>\n      <td>...</td>\n      <td>...</td>\n      <td>...</td>\n      <td>...</td>\n      <td>...</td>\n      <td>...</td>\n      <td>...</td>\n      <td>...</td>\n      <td>...</td>\n      <td>...</td>\n      <td>...</td>\n      <td>...</td>\n      <td>...</td>\n      <td>...</td>\n      <td>...</td>\n      <td>...</td>\n      <td>...</td>\n      <td>...</td>\n      <td>...</td>\n      <td>...</td>\n    </tr>\n    <tr>\n      <th>1455</th>\n      <td>62.0</td>\n      <td>0.0</td>\n      <td>1456.0</td>\n      <td>60.0</td>\n      <td>7917.0</td>\n      <td>6.0</td>\n      <td>5.0</td>\n      <td>0.0</td>\n      <td>0.0</td>\n      <td>953.0</td>\n      <td>...</td>\n      <td>4</td>\n      <td>3</td>\n      <td>6</td>\n      <td>1</td>\n      <td>1</td>\n      <td>4</td>\n      <td>4</td>\n      <td>2</td>\n      <td>8</td>\n      <td>4</td>\n    </tr>\n    <tr>\n      <th>1456</th>\n      <td>85.0</td>\n      <td>119.0</td>\n      <td>1457.0</td>\n      <td>20.0</td>\n      <td>13175.0</td>\n      <td>6.0</td>\n      <td>6.0</td>\n      <td>790.0</td>\n      <td>163.0</td>\n      <td>589.0</td>\n      <td>...</td>\n      <td>4</td>\n      <td>3</td>\n      <td>2</td>\n      <td>1</td>\n      <td>2</td>\n      <td>4</td>\n      <td>4</td>\n      <td>2</td>\n      <td>8</td>\n      <td>4</td>\n    </tr>\n    <tr>\n      <th>1457</th>\n      <td>66.0</td>\n      <td>0.0</td>\n      <td>1458.0</td>\n      <td>70.0</td>\n      <td>9042.0</td>\n      <td>7.0</td>\n      <td>9.0</td>\n      <td>275.0</td>\n      <td>0.0</td>\n      <td>877.0</td>\n      <td>...</td>\n      <td>4</td>\n      <td>2</td>\n      <td>6</td>\n      <td>1</td>\n      <td>1</td>\n      <td>4</td>\n      <td>4</td>\n      <td>2</td>\n      <td>8</td>\n      <td>4</td>\n    </tr>\n    <tr>\n      <th>1458</th>\n      <td>68.0</td>\n      <td>0.0</td>\n      <td>1459.0</td>\n      <td>20.0</td>\n      <td>9717.0</td>\n      <td>5.0</td>\n      <td>6.0</td>\n      <td>49.0</td>\n      <td>1029.0</td>\n      <td>0.0</td>\n      <td>...</td>\n      <td>0</td>\n      <td>2</td>\n      <td>6</td>\n      <td>1</td>\n      <td>2</td>\n      <td>4</td>\n      <td>4</td>\n      <td>2</td>\n      <td>8</td>\n      <td>4</td>\n    </tr>\n    <tr>\n      <th>1459</th>\n      <td>75.0</td>\n      <td>0.0</td>\n      <td>1460.0</td>\n      <td>20.0</td>\n      <td>9937.0</td>\n      <td>5.0</td>\n      <td>6.0</td>\n      <td>830.0</td>\n      <td>290.0</td>\n      <td>136.0</td>\n      <td>...</td>\n      <td>4</td>\n      <td>3</td>\n      <td>6</td>\n      <td>1</td>\n      <td>0</td>\n      <td>4</td>\n      <td>4</td>\n      <td>2</td>\n      <td>8</td>\n      <td>4</td>\n    </tr>\n  </tbody>\n</table>\n<p>1460 rows × 76 columns</p>\n</div>"
     },
     "execution_count": 41,
     "metadata": {},
     "output_type": "execute_result"
    }
   ],
   "source": [
    "df_train"
   ],
   "metadata": {
    "collapsed": false,
    "pycharm": {
     "name": "#%%\n"
    }
   }
  },
  {
   "cell_type": "code",
   "execution_count": 42,
   "outputs": [
    {
     "data": {
      "text/plain": "0.046432245223819446"
     },
     "execution_count": 42,
     "metadata": {},
     "output_type": "execute_result"
    }
   ],
   "source": [
    "corr['SalePrice']['MoSold']"
   ],
   "metadata": {
    "collapsed": false,
    "pycharm": {
     "name": "#%%\n"
    }
   }
  },
  {
   "cell_type": "code",
   "execution_count": 44,
   "outputs": [
    {
     "data": {
      "text/plain": "OverallQual     0.790982\nTotalBsmtSF     0.613581\n1stFlrSF        0.605852\nGrLivArea       0.708624\nFullBath        0.560664\nTotRmsAbvGrd    0.533723\nGarageCars      0.640409\nGarageArea      0.623431\nSalePrice       1.000000\nName: SalePrice, dtype: float64"
     },
     "execution_count": 44,
     "metadata": {},
     "output_type": "execute_result"
    }
   ],
   "source": [
    "corr['SalePrice'][corr['SalePrice'] > 0.5]"
   ],
   "metadata": {
    "collapsed": false,
    "pycharm": {
     "name": "#%%\n"
    }
   }
  },
  {
   "cell_type": "code",
   "execution_count": 120,
   "outputs": [
    {
     "data": {
      "text/plain": "array([ 7.,  6.,  8.,  5.,  9.,  4., 10.,  3.,  1.,  2.])"
     },
     "execution_count": 120,
     "metadata": {},
     "output_type": "execute_result"
    }
   ],
   "source": [
    "df_train['OverallQual'].unique()"
   ],
   "metadata": {
    "collapsed": false,
    "pycharm": {
     "name": "#%%\n"
    }
   }
  },
  {
   "cell_type": "code",
   "execution_count": 45,
   "outputs": [
    {
     "data": {
      "text/plain": "Home Age             -0.522897\nHome Modified Time   -0.507101\nName: SalePrice, dtype: float64"
     },
     "execution_count": 45,
     "metadata": {},
     "output_type": "execute_result"
    }
   ],
   "source": [
    "corr['SalePrice'][corr['SalePrice'] < -0.5]"
   ],
   "metadata": {
    "collapsed": false,
    "pycharm": {
     "name": "#%%\n"
    }
   }
  },
  {
   "cell_type": "code",
   "execution_count": 123,
   "outputs": [
    {
     "data": {
      "text/plain": "<Figure size 1584x432 with 4 Axes>",
      "image/png": "[encoded data removed]"
     },
     "metadata": {
      "needs_background": "light"
     },
     "output_type": "display_data"
    }
   ],
   "source": [
    "fig,ax = plt.subplots(1,4,figsize = (22,6))\n",
    "col = [df_train['TotalBsmtSF'],df_train['1stFlrSF'],df_train['GrLivArea'],df_train['GarageArea']]\n",
    "name = ['TotalBsmtSF','1stFlrSF','GrLivArea','GarageArea']\n",
    "color = ['r','g','purple','orange']\n",
    "for i in range(4):\n",
    "    ax[i].set_title(name[i])\n",
    "    ax[i].scatter(col[i],df_train['SalePrice'],color=color[i])"
   ],
   "metadata": {
    "collapsed": false,
    "pycharm": {
     "name": "#%%\n"
    }
   }
  },
  {
   "cell_type": "code",
   "execution_count": 50,
   "outputs": [
    {
     "data": {
      "text/plain": "11      345000.0\n34      277500.0\n45      319900.0\n53      385000.0\n58      438780.0\n          ...   \n1313    333168.0\n1359    315000.0\n1373    466500.0\n1388    377500.0\n1442    310000.0\nName: SalePrice, Length: 61, dtype: float64"
     },
     "execution_count": 50,
     "metadata": {},
     "output_type": "execute_result"
    }
   ],
   "source": [
    "df_train['SalePrice'][df_train['OverallQual'] > 8]"
   ],
   "metadata": {
    "collapsed": false,
    "pycharm": {
     "name": "#%%\n"
    }
   }
  },
  {
   "cell_type": "code",
   "execution_count": 71,
   "outputs": [
    {
     "data": {
      "text/plain": "<Figure size 432x288 with 1 Axes>",
      "image/png": "[encoded data removed]"
     },
     "metadata": {
      "needs_background": "light"
     },
     "output_type": "display_data"
    }
   ],
   "source": [
    "plt.scatter(df_train['Home Age'],df_train['SalePrice'])\n",
    "plt.show()"
   ],
   "metadata": {
    "collapsed": false,
    "pycharm": {
     "name": "#%%\n"
    }
   }
  },
  {
   "cell_type": "code",
   "execution_count": 77,
   "outputs": [
    {
     "data": {
      "text/plain": "<Figure size 432x288 with 1 Axes>",
      "image/png": "[encoded data removed]"
     },
     "metadata": {
      "needs_background": "light"
     },
     "output_type": "display_data"
    }
   ],
   "source": [
    "plt.violinplot(df_train['SalePrice'],vert=False)\n",
    "plt.show()"
   ],
   "metadata": {
    "collapsed": false,
    "pycharm": {
     "name": "#%%\n"
    }
   }
  },
  {
   "cell_type": "code",
   "execution_count": 80,
   "outputs": [
    {
     "data": {
      "text/plain": "<Figure size 432x288 with 1 Axes>",
      "image/png": "[encoded data removed]"
     },
     "metadata": {
      "needs_background": "light"
     },
     "output_type": "display_data"
    }
   ],
   "source": [
    "sns.boxplot(x = df_train['SalePrice'])\n",
    "plt.show()"
   ],
   "metadata": {
    "collapsed": false,
    "pycharm": {
     "name": "#%%\n"
    }
   }
  },
  {
   "cell_type": "code",
   "execution_count": 82,
   "outputs": [],
   "source": [
    "X= df_train.drop('SalePrice',axis=1)\n",
    "y = df_train.SalePrice"
   ],
   "metadata": {
    "collapsed": false,
    "pycharm": {
     "name": "#%%\n"
    }
   }
  },
  {
   "cell_type": "code",
   "execution_count": 83,
   "outputs": [],
   "source": [
    "from sklearn.model_selection import cross_val_score\n",
    "from sklearn.linear_model import LinearRegression\n",
    "from sklearn.ensemble import ExtraTreesRegressor\n",
    "from sklearn.ensemble import RandomForestRegressor\n",
    "from sklearn.ensemble import GradientBoostingRegressor\n",
    "from sklearn.linear_model import Ridge\n",
    "from sklearn.model_selection import GridSearchCV\n",
    "from sklearn.ensemble import AdaBoostRegressor"
   ],
   "metadata": {
    "collapsed": false,
    "pycharm": {
     "name": "#%%\n"
    }
   }
  },
  {
   "cell_type": "code",
   "execution_count": 84,
   "outputs": [],
   "source": [
    "lr_model = LinearRegression()\n",
    "extr_model = ExtraTreesRegressor()\n",
    "rf_model = RandomForestRegressor()\n",
    "gbr_model = GradientBoostingRegressor()\n",
    "rid_model = Ridge()\n",
    "adbr_model = AdaBoostRegressor()"
   ],
   "metadata": {
    "collapsed": false,
    "pycharm": {
     "name": "#%%\n"
    }
   }
  },
  {
   "cell_type": "code",
   "execution_count": 85,
   "outputs": [
    {
     "name": "stdout",
     "output_type": "stream",
     "text": [
      "LinearRegression score : [0.87382563 0.81673084 0.73639321]\n",
      "---------------------------------------------------------------------------\n",
      "ExtraTreesRegressor score : [0.89663958 0.84139012 0.81922528]\n",
      "---------------------------------------------------------------------------\n",
      "RandomForestRegressor score : [0.8873174  0.85102248 0.82094832]\n",
      "---------------------------------------------------------------------------\n",
      "GradientBoostingRegressor score : [0.90509256 0.86158689 0.88233444]\n",
      "---------------------------------------------------------------------------\n",
      "Ridge score : [0.87372869 0.81666265 0.73657611]\n",
      "---------------------------------------------------------------------------\n",
      "AdaBoost score : [0.84636413 0.81566079 0.75585954]\n",
      "---------------------------------------------------------------------------\n"
     ]
    }
   ],
   "source": [
    "models = [lr_model,extr_model,rf_model,gbr_model,rid_model,adbr_model]\n",
    "names = ['LinearRegression','ExtraTreesRegressor','RandomForestRegressor','GradientBoostingRegressor','Ridge','AdaBoost']\n",
    "for name,model in zip(names,models):\n",
    "    print(f'{name} score : {cross_val_score(model,X,y,cv=3)}')\n",
    "    print('---------------------------------------------------------------------------')\n"
   ],
   "metadata": {
    "collapsed": false,
    "pycharm": {
     "name": "#%%\n"
    }
   }
  },
  {
   "cell_type": "code",
   "execution_count": 86,
   "outputs": [
    {
     "name": "stdout",
     "output_type": "stream",
     "text": [
      "LinearRegression parameters : {'copy_X': True, 'fit_intercept': True, 'n_jobs': None, 'normalize': 'deprecated', 'positive': False}\n",
      "---------------------------------------------------------------------------\n",
      "ExtraTreesRegressor parameters : {'bootstrap': False, 'ccp_alpha': 0.0, 'criterion': 'squared_error', 'max_depth': None, 'max_features': 'auto', 'max_leaf_nodes': None, 'max_samples': None, 'min_impurity_decrease': 0.0, 'min_samples_leaf': 1, 'min_samples_split': 2, 'min_weight_fraction_leaf': 0.0, 'n_estimators': 100, 'n_jobs': None, 'oob_score': False, 'random_state': None, 'verbose': 0, 'warm_start': False}\n",
      "---------------------------------------------------------------------------\n",
      "RandomForestRegressor parameters : {'bootstrap': True, 'ccp_alpha': 0.0, 'criterion': 'squared_error', 'max_depth': None, 'max_features': 'auto', 'max_leaf_nodes': None, 'max_samples': None, 'min_impurity_decrease': 0.0, 'min_samples_leaf': 1, 'min_samples_split': 2, 'min_weight_fraction_leaf': 0.0, 'n_estimators': 100, 'n_jobs': None, 'oob_score': False, 'random_state': None, 'verbose': 0, 'warm_start': False}\n",
      "---------------------------------------------------------------------------\n",
      "GradientBoostingRegressor parameters : {'alpha': 0.9, 'ccp_alpha': 0.0, 'criterion': 'friedman_mse', 'init': None, 'learning_rate': 0.1, 'loss': 'squared_error', 'max_depth': 3, 'max_features': None, 'max_leaf_nodes': None, 'min_impurity_decrease': 0.0, 'min_samples_leaf': 1, 'min_samples_split': 2, 'min_weight_fraction_leaf': 0.0, 'n_estimators': 100, 'n_iter_no_change': None, 'random_state': None, 'subsample': 1.0, 'tol': 0.0001, 'validation_fraction': 0.1, 'verbose': 0, 'warm_start': False}\n",
      "---------------------------------------------------------------------------\n",
      "Ridge parameters : {'alpha': 1.0, 'copy_X': True, 'fit_intercept': True, 'max_iter': None, 'normalize': 'deprecated', 'positive': False, 'random_state': None, 'solver': 'auto', 'tol': 0.001}\n",
      "---------------------------------------------------------------------------\n",
      "AdaBoost parameters : {'base_estimator': None, 'learning_rate': 1.0, 'loss': 'linear', 'n_estimators': 50, 'random_state': None}\n",
      "---------------------------------------------------------------------------\n"
     ]
    }
   ],
   "source": [
    "for name,model in zip(names,models):\n",
    "    print(f'{name} parameters : {model.get_params()}')\n",
    "    print('---------------------------------------------------------------------------')"
   ],
   "metadata": {
    "collapsed": false,
    "pycharm": {
     "name": "#%%\n"
    }
   }
  },
  {
   "cell_type": "code",
   "execution_count": 87,
   "outputs": [
    {
     "data": {
      "text/plain": "GridSearchCV(cv=4, estimator=GradientBoostingRegressor(),\n             param_grid=[{'learning_rate': [1, 0.01, 0.001, 5],\n                          'n_estimators': [50, 60, 80, 90]}],\n             return_train_score=True)"
     },
     "execution_count": 87,
     "metadata": {},
     "output_type": "execute_result"
    }
   ],
   "source": [
    "param = [{'learning_rate':[1,0.01,0.001,5],'n_estimators' : [50,60,80,90]} ]\n",
    "grid_model  = GridSearchCV(gbr_model,param,cv=4,return_train_score=True)\n",
    "grid_model.fit(X,y)"
   ],
   "metadata": {
    "collapsed": false,
    "pycharm": {
     "name": "#%%\n"
    }
   }
  },
  {
   "cell_type": "code",
   "execution_count": 88,
   "outputs": [
    {
     "data": {
      "text/plain": "0.7862931346824218"
     },
     "execution_count": 88,
     "metadata": {},
     "output_type": "execute_result"
    }
   ],
   "source": [
    "grid_model.best_score_"
   ],
   "metadata": {
    "collapsed": false,
    "pycharm": {
     "name": "#%%\n"
    }
   }
  },
  {
   "cell_type": "code",
   "execution_count": 89,
   "outputs": [
    {
     "data": {
      "text/plain": "{'learning_rate': 1, 'n_estimators': 50}"
     },
     "execution_count": 89,
     "metadata": {},
     "output_type": "execute_result"
    }
   ],
   "source": [
    "grid_model.best_params_"
   ],
   "metadata": {
    "collapsed": false,
    "pycharm": {
     "name": "#%%\n"
    }
   }
  },
  {
   "cell_type": "code",
   "execution_count": 90,
   "outputs": [
    {
     "data": {
      "text/plain": "GradientBoostingRegressor()"
     },
     "execution_count": 90,
     "metadata": {},
     "output_type": "execute_result"
    }
   ],
   "source": [
    "grbt_clf = GradientBoostingRegressor()\n",
    "grbt_clf.fit(X.drop('Id',axis=1),y)\n",
    "# grbt_clf.score(X_test,y_test)"
   ],
   "metadata": {
    "collapsed": false,
    "pycharm": {
     "name": "#%%\n"
    }
   }
  },
  {
   "cell_type": "code",
   "execution_count": 91,
   "outputs": [
    {
     "data": {
      "text/plain": "RandomForestRegressor()"
     },
     "execution_count": 91,
     "metadata": {},
     "output_type": "execute_result"
    }
   ],
   "source": [
    "rf_model.fit(X.drop('Id',axis=1),y)"
   ],
   "metadata": {
    "collapsed": false,
    "pycharm": {
     "name": "#%%\n"
    }
   }
  },
  {
   "cell_type": "code",
   "execution_count": 94,
   "outputs": [
    {
     "name": "stdout",
     "output_type": "stream",
     "text": [
      "LotFrontage :  0.0057958\n",
      "MasVnrArea :  0.0062347\n",
      "Id :  0.0015153\n",
      "MSSubClass :  0.0137903\n",
      "LotArea :  0.5868262\n",
      "OverallQual :  0.0040176\n",
      "OverallCond :  0.027505\n",
      "BsmtFinSF1 :  0.0004756\n",
      "BsmtFinSF2 :  0.0052964\n",
      "BsmtUnfSF :  0.0379082\n",
      "TotalBsmtSF :  0.0210244\n",
      "1stFlrSF :  0.0378558\n",
      "2ndFlrSF :  0.000158\n",
      "LowQualFinSF :  0.1075318\n",
      "GrLivArea :  0.0010539\n",
      "BsmtFullBath :  0.0001758\n",
      "BsmtHalfBath :  0.0017382\n",
      "FullBath :  0.0008356\n",
      "HalfBath :  0.0013917\n",
      "BedroomAbvGr :  0.0009975\n",
      "KitchenAbvGr :  0.0069821\n",
      "TotRmsAbvGrd :  0.0032747\n",
      "Fireplaces :  0.0221431\n",
      "GarageCars :  0.0136685\n",
      "GarageArea :  0.0040791\n",
      "WoodDeckSF :  0.0050518\n",
      "OpenPorchSF :  0.0007547\n",
      "EnclosedPorch :  0.0002682\n",
      "3SsnPorch :  0.001697\n",
      "ScreenPorch :  0.000266\n",
      "PoolArea :  7.96e-05\n",
      "MiscVal :  0.0034309\n",
      "MoSold :  0.0095466\n",
      "Home Age :  0.0076886\n",
      "Home Modified Time :  0.0015106\n",
      "RateYearBack :  0.0048616\n",
      "Garage Age :  0.001868\n",
      "MSZoning :  5.6e-06\n",
      "Street :  0.0018097\n",
      "LotShape :  0.0014391\n",
      "LandContour :  0.0\n",
      "Utilities :  0.0010286\n",
      "LotConfig :  0.0005363\n",
      "LandSlope :  0.0077772\n",
      "Neighborhood :  0.0008995\n",
      "Condition1 :  0.0001949\n",
      "Condition2 :  0.0002974\n",
      "BldgType :  0.0008226\n",
      "HouseStyle :  0.0007555\n",
      "RoofStyle :  0.0003112\n",
      "RoofMatl :  0.0014999\n",
      "Exterior1st :  0.0012894\n",
      "Exterior2nd :  0.0012554\n",
      "MasVnrType :  0.0033366\n",
      "ExterQual :  0.0004065\n",
      "ExterCond :  0.0004977\n",
      "Foundation :  0.0039708\n",
      "BsmtQual :  0.0002\n",
      "BsmtCond :  0.0021149\n",
      "BsmtExposure :  0.0017276\n",
      "BsmtFinType1 :  0.000387\n",
      "BsmtFinType2 :  8.47e-05\n",
      "Heating :  0.0008413\n",
      "HeatingQC :  0.0030277\n",
      "CentralAir :  0.0001472\n",
      "Electrical :  0.0023506\n",
      "KitchenQual :  0.0005387\n",
      "Functional :  0.003254\n",
      "GarageType :  0.0050454\n",
      "GarageFinish :  0.0001445\n",
      "GarageQual :  5.37e-05\n",
      "GarageCond :  0.0003797\n",
      "PavedDrive :  0.0005869\n",
      "SaleType :  0.001683\n"
     ]
    }
   ],
   "source": [
    "for col,score in zip(X.columns,rf_model.feature_importances_):\n",
    "    print(f\"{col} :  {round(score,7)}\")"
   ],
   "metadata": {
    "collapsed": false,
    "pycharm": {
     "name": "#%%\n"
    }
   }
  },
  {
   "cell_type": "code",
   "execution_count": 95,
   "outputs": [],
   "source": [
    "X.drop(['BsmtFinType2','GarageQual','LandContour','MSZoning','PoolArea'],axis=1,inplace=True)"
   ],
   "metadata": {
    "collapsed": false,
    "pycharm": {
     "name": "#%%\n"
    }
   }
  },
  {
   "cell_type": "code",
   "execution_count": 96,
   "outputs": [
    {
     "data": {
      "text/plain": "RandomForestRegressor()"
     },
     "execution_count": 96,
     "metadata": {},
     "output_type": "execute_result"
    }
   ],
   "source": [
    "rf_model.fit(X.drop('Id',axis=1),y)"
   ],
   "metadata": {
    "collapsed": false,
    "pycharm": {
     "name": "#%%\n"
    }
   }
  },
  {
   "cell_type": "code",
   "execution_count": 97,
   "outputs": [
    {
     "data": {
      "text/plain": "GradientBoostingRegressor()"
     },
     "execution_count": 97,
     "metadata": {},
     "output_type": "execute_result"
    }
   ],
   "source": [
    "grbt_clf.fit(X.drop('Id',axis=1),y)"
   ],
   "metadata": {
    "collapsed": false,
    "pycharm": {
     "name": "#%%\n"
    }
   }
  },
  {
   "cell_type": "code",
   "execution_count": 98,
   "outputs": [
    {
     "data": {
      "text/plain": "     Id  MSSubClass MSZoning  LotFrontage  LotArea Street Alley LotShape  \\\n0  1461          20       RH         80.0    11622   Pave   NaN      Reg   \n1  1462          20       RL         81.0    14267   Pave   NaN      IR1   \n2  1463          60       RL         74.0    13830   Pave   NaN      IR1   \n\n  LandContour Utilities  ... ScreenPorch PoolArea PoolQC  Fence MiscFeature  \\\n0         Lvl    AllPub  ...         120        0    NaN  MnPrv         NaN   \n1         Lvl    AllPub  ...           0        0    NaN    NaN        Gar2   \n2         Lvl    AllPub  ...           0        0    NaN  MnPrv         NaN   \n\n  MiscVal MoSold  YrSold  SaleType  SaleCondition  \n0       0      6    2010        WD         Normal  \n1   12500      6    2010        WD         Normal  \n2       0      3    2010        WD         Normal  \n\n[3 rows x 80 columns]",
      "text/html": "<div>\n<style scoped>\n    .dataframe tbody tr th:only-of-type {\n        vertical-align: middle;\n    }\n\n    .dataframe tbody tr th {\n        vertical-align: top;\n    }\n\n    .dataframe thead th {\n        text-align: right;\n    }\n</style>\n<table border=\"1\" class=\"dataframe\">\n  <thead>\n    <tr style=\"text-align: right;\">\n      <th></th>\n      <th>Id</th>\n      <th>MSSubClass</th>\n      <th>MSZoning</th>\n      <th>LotFrontage</th>\n      <th>LotArea</th>\n      <th>Street</th>\n      <th>Alley</th>\n      <th>LotShape</th>\n      <th>LandContour</th>\n      <th>Utilities</th>\n      <th>...</th>\n      <th>ScreenPorch</th>\n      <th>PoolArea</th>\n      <th>PoolQC</th>\n      <th>Fence</th>\n      <th>MiscFeature</th>\n      <th>MiscVal</th>\n      <th>MoSold</th>\n      <th>YrSold</th>\n      <th>SaleType</th>\n      <th>SaleCondition</th>\n    </tr>\n  </thead>\n  <tbody>\n    <tr>\n      <th>0</th>\n      <td>1461</td>\n      <td>20</td>\n      <td>RH</td>\n      <td>80.0</td>\n      <td>11622</td>\n      <td>Pave</td>\n      <td>NaN</td>\n      <td>Reg</td>\n      <td>Lvl</td>\n      <td>AllPub</td>\n      <td>...</td>\n      <td>120</td>\n      <td>0</td>\n      <td>NaN</td>\n      <td>MnPrv</td>\n      <td>NaN</td>\n      <td>0</td>\n      <td>6</td>\n      <td>2010</td>\n      <td>WD</td>\n      <td>Normal</td>\n    </tr>\n    <tr>\n      <th>1</th>\n      <td>1462</td>\n      <td>20</td>\n      <td>RL</td>\n      <td>81.0</td>\n      <td>14267</td>\n      <td>Pave</td>\n      <td>NaN</td>\n      <td>IR1</td>\n      <td>Lvl</td>\n      <td>AllPub</td>\n      <td>...</td>\n      <td>0</td>\n      <td>0</td>\n      <td>NaN</td>\n      <td>NaN</td>\n      <td>Gar2</td>\n      <td>12500</td>\n      <td>6</td>\n      <td>2010</td>\n      <td>WD</td>\n      <td>Normal</td>\n    </tr>\n    <tr>\n      <th>2</th>\n      <td>1463</td>\n      <td>60</td>\n      <td>RL</td>\n      <td>74.0</td>\n      <td>13830</td>\n      <td>Pave</td>\n      <td>NaN</td>\n      <td>IR1</td>\n      <td>Lvl</td>\n      <td>AllPub</td>\n      <td>...</td>\n      <td>0</td>\n      <td>0</td>\n      <td>NaN</td>\n      <td>MnPrv</td>\n      <td>NaN</td>\n      <td>0</td>\n      <td>3</td>\n      <td>2010</td>\n      <td>WD</td>\n      <td>Normal</td>\n    </tr>\n  </tbody>\n</table>\n<p>3 rows × 80 columns</p>\n</div>"
     },
     "execution_count": 98,
     "metadata": {},
     "output_type": "execute_result"
    }
   ],
   "source": [
    "test_data.head(3)"
   ],
   "metadata": {
    "collapsed": false,
    "pycharm": {
     "name": "#%%\n"
    }
   }
  },
  {
   "cell_type": "code",
   "execution_count": 99,
   "outputs": [
    {
     "data": {
      "text/plain": "Id                 0\nMSSubClass         0\nMSZoning           4\nLotFrontage      227\nLotArea            0\n                ... \nMiscVal            0\nMoSold             0\nYrSold             0\nSaleType           1\nSaleCondition      0\nLength: 80, dtype: int64"
     },
     "execution_count": 99,
     "metadata": {},
     "output_type": "execute_result"
    }
   ],
   "source": [
    "test_data.isna().sum()"
   ],
   "metadata": {
    "collapsed": false,
    "pycharm": {
     "name": "#%%\n"
    }
   }
  },
  {
   "cell_type": "code",
   "execution_count": 100,
   "outputs": [],
   "source": [
    "test_data.drop(['Alley','FireplaceQu','PoolQC','Fence','MiscFeature'],axis=1,inplace=True)"
   ],
   "metadata": {
    "collapsed": false,
    "pycharm": {
     "name": "#%%\n"
    }
   }
  },
  {
   "cell_type": "code",
   "execution_count": 101,
   "outputs": [],
   "source": [
    "cat_df_test = test_data.select_dtypes(object)\n",
    "int_df_test = test_data.select_dtypes(int)\n",
    "float_df_test = test_data.select_dtypes(float)\n",
    "num_df_test = pd.concat([float_df_test,int_df_test],axis=1)"
   ],
   "metadata": {
    "collapsed": false,
    "pycharm": {
     "name": "#%%\n"
    }
   }
  },
  {
   "cell_type": "code",
   "execution_count": 102,
   "outputs": [],
   "source": [
    "num_df_test = pd.DataFrame(imputer.fit_transform(num_df_test),columns=num_df_test.columns)\n",
    "cat_df_test = pd.DataFrame(imputer_cat.fit_transform(cat_df_test),columns=cat_df_test.columns)"
   ],
   "metadata": {
    "collapsed": false,
    "pycharm": {
     "name": "#%%\n"
    }
   }
  },
  {
   "cell_type": "code",
   "execution_count": 103,
   "outputs": [],
   "source": [
    "num_df_test['Home Age'] = 2022 - num_df_test['YearBuilt']\n",
    "num_df_test['Home Modified Time'] = 2022 - num_df_test['YearRemodAdd']\n",
    "num_df_test['RateYearBack'] = 2022-num_df_test['YrSold']"
   ],
   "metadata": {
    "collapsed": false,
    "pycharm": {
     "name": "#%%\n"
    }
   }
  },
  {
   "cell_type": "code",
   "execution_count": 104,
   "outputs": [],
   "source": [
    "num_df_test.drop(['YearBuilt','YearRemodAdd','YrSold'],axis=1,inplace=True)"
   ],
   "metadata": {
    "collapsed": false,
    "pycharm": {
     "name": "#%%\n"
    }
   }
  },
  {
   "cell_type": "code",
   "execution_count": 105,
   "outputs": [],
   "source": [
    "num_df_test['Garage Age'] = 2022 - num_df_test['GarageYrBlt']\n",
    "num_df_test.drop('GarageYrBlt',axis=1,inplace=True)"
   ],
   "metadata": {
    "collapsed": false,
    "pycharm": {
     "name": "#%%\n"
    }
   }
  },
  {
   "cell_type": "code",
   "execution_count": 106,
   "outputs": [],
   "source": [
    "for i in cat_df_test.columns:\n",
    "    cat_df_test[i] = le.fit_transform(cat_df_test[i])"
   ],
   "metadata": {
    "collapsed": false,
    "pycharm": {
     "name": "#%%\n"
    }
   }
  },
  {
   "cell_type": "code",
   "execution_count": 107,
   "outputs": [],
   "source": [
    "X_test = pd.concat([num_df_test,cat_df_test],axis=1)"
   ],
   "metadata": {
    "collapsed": false,
    "pycharm": {
     "name": "#%%\n"
    }
   }
  },
  {
   "cell_type": "code",
   "execution_count": 108,
   "outputs": [],
   "source": [
    "col = list(df_train.columns)\n",
    "col.remove('SalePrice')\n",
    "X_test = X_test[col]"
   ],
   "metadata": {
    "collapsed": false,
    "pycharm": {
     "name": "#%%\n"
    }
   }
  },
  {
   "cell_type": "code",
   "execution_count": 109,
   "outputs": [],
   "source": [
    "X_test.drop(['BsmtFinType2','GarageQual','LandContour','MSZoning','PoolArea'],axis=1,inplace=True)"
   ],
   "metadata": {
    "collapsed": false,
    "pycharm": {
     "name": "#%%\n"
    }
   }
  },
  {
   "cell_type": "code",
   "execution_count": 110,
   "outputs": [],
   "source": [
    "y_pred = grbt_clf.predict(X_test.drop('Id',axis=1))"
   ],
   "metadata": {
    "collapsed": false,
    "pycharm": {
     "name": "#%%\n"
    }
   }
  },
  {
   "cell_type": "code",
   "execution_count": 116,
   "outputs": [
    {
     "data": {
      "text/plain": "<Figure size 1584x432 with 4 Axes>",
      "image/png": "[encoded data removed]"
     },
     "metadata": {
      "needs_background": "light"
     },
     "output_type": "display_data"
    }
   ],
   "source": [
    "fig,ax = plt.subplots(1,4,figsize = (22,6))\n",
    "col = [X_test['TotalBsmtSF'],X_test['1stFlrSF'],X_test['GrLivArea'],X_test['GarageArea']]\n",
    "name = ['TotalBsmtSF','1stFlrSF','GrLivArea','GarageArea']\n",
    "for i in range(4):\n",
    "    ax[i].set_title(name[i])\n",
    "    ax[i].scatter(col[i],y_pred)"
   ],
   "metadata": {
    "collapsed": false,
    "pycharm": {
     "name": "#%%\n"
    }
   }
  },
  {
   "cell_type": "code",
   "execution_count": 72,
   "outputs": [],
   "source": [
    "df1 = pd.concat([X_test.Id,pd.Series(y_pred)],axis = 1)"
   ],
   "metadata": {
    "collapsed": false,
    "pycharm": {
     "name": "#%%\n"
    }
   }
  },
  {
   "cell_type": "code",
   "execution_count": 74,
   "outputs": [],
   "source": [
    "df1 = df1.rename(columns={0:'SalePrice'})"
   ],
   "metadata": {
    "collapsed": false,
    "pycharm": {
     "name": "#%%\n"
    }
   }
  },
  {
   "cell_type": "code",
   "execution_count": 75,
   "outputs": [],
   "source": [
    "df1.Id  =df1.Id.astype(int)"
   ],
   "metadata": {
    "collapsed": false,
    "pycharm": {
     "name": "#%%\n"
    }
   }
  },
  {
   "cell_type": "code",
   "execution_count": 76,
   "outputs": [],
   "source": [
    "# df1.to_csv(\"D:\\Datasets\\housing\\submission_upd.csv\",index=False)"
   ],
   "metadata": {
    "collapsed": false,
    "pycharm": {
     "name": "#%%\n"
    }
   }
  },
  {
   "cell_type": "code",
   "execution_count": 77,
   "outputs": [],
   "source": [
    "# df2.to_csv(\"D:\\Datasets\\housing\\submission_rf.csv\",index=False)"
   ],
   "metadata": {
    "collapsed": false,
    "pycharm": {
     "name": "#%%\n"
    }
   }
  },
  {
   "cell_type": "code",
   "execution_count": 83,
   "outputs": [
    {
     "data": {
      "text/plain": "<Figure size 432x288 with 1 Axes>",
      "image/png": "[encoded data removed]"
     },
     "metadata": {
      "needs_background": "light"
     },
     "output_type": "display_data"
    }
   ],
   "source": [
    "sns.scatterplot(x=X_test.LotArea,y=df1.SalePrice)\n",
    "# sns.regplot(x=X_test.LotArea,y =df1.SalePrice )\n",
    "plt.show()"
   ],
   "metadata": {
    "collapsed": false,
    "pycharm": {
     "name": "#%%\n"
    }
   }
  },
  {
   "cell_type": "code",
   "execution_count": 78,
   "outputs": [],
   "source": [],
   "metadata": {
    "collapsed": false,
    "pycharm": {
     "name": "#%%\n"
    }
   }
  }
 ],
 "metadata": {
  "kernelspec": {
   "display_name": "Python 3",
   "language": "python",
   "name": "python3"
  },
  "language_info": {
   "codemirror_mode": {
    "name": "ipython",
    "version": 2
   },
   "file_extension": ".py",
   "mimetype": "text/x-python",
   "name": "python",
   "nbconvert_exporter": "python",
   "pygments_lexer": "ipython2",
   "version": "2.7.6"
  }
 },
 "nbformat": 4,
 "nbformat_minor": 0
}