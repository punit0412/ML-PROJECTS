{
 "cells": [
  {
   "cell_type": "code",
   "execution_count": 95,
   "metadata": {
    "collapsed": true
   },
   "outputs": [],
   "source": [
    "import pandas as pd\n",
    "import numpy as np\n",
    "import matplotlib.pyplot as plt\n",
    "import seaborn as sns"
   ]
  },
  {
   "cell_type": "code",
   "execution_count": 96,
   "outputs": [],
   "source": [
    "df = pd.read_csv(\"D:\\Datasets\\Bengaluru_House_Data.csv\")"
   ],
   "metadata": {
    "collapsed": false,
    "pycharm": {
     "name": "#%%\n"
    }
   }
  },
  {
   "cell_type": "code",
   "execution_count": 97,
   "outputs": [
    {
     "data": {
      "text/plain": "              area_type   availability                  location       size  \\\n0  Super built-up  Area         19-Dec  Electronic City Phase II      2 BHK   \n1            Plot  Area  Ready To Move          Chikka Tirupathi  4 Bedroom   \n2        Built-up  Area  Ready To Move               Uttarahalli      3 BHK   \n\n   society total_sqft  bath  balcony   price  \n0  Coomee        1056   2.0      1.0   39.07  \n1  Theanmp       2600   5.0      3.0  120.00  \n2      NaN       1440   2.0      3.0   62.00  ",
      "text/html": "<div>\n<style scoped>\n    .dataframe tbody tr th:only-of-type {\n        vertical-align: middle;\n    }\n\n    .dataframe tbody tr th {\n        vertical-align: top;\n    }\n\n    .dataframe thead th {\n        text-align: right;\n    }\n</style>\n<table border=\"1\" class=\"dataframe\">\n  <thead>\n    <tr style=\"text-align: right;\">\n      <th></th>\n      <th>area_type</th>\n      <th>availability</th>\n      <th>location</th>\n      <th>size</th>\n      <th>society</th>\n      <th>total_sqft</th>\n      <th>bath</th>\n      <th>balcony</th>\n      <th>price</th>\n    </tr>\n  </thead>\n  <tbody>\n    <tr>\n      <th>0</th>\n      <td>Super built-up  Area</td>\n      <td>19-Dec</td>\n      <td>Electronic City Phase II</td>\n      <td>2 BHK</td>\n      <td>Coomee</td>\n      <td>1056</td>\n      <td>2.0</td>\n      <td>1.0</td>\n      <td>39.07</td>\n    </tr>\n    <tr>\n      <th>1</th>\n      <td>Plot  Area</td>\n      <td>Ready To Move</td>\n      <td>Chikka Tirupathi</td>\n      <td>4 Bedroom</td>\n      <td>Theanmp</td>\n      <td>2600</td>\n      <td>5.0</td>\n      <td>3.0</td>\n      <td>120.00</td>\n    </tr>\n    <tr>\n      <th>2</th>\n      <td>Built-up  Area</td>\n      <td>Ready To Move</td>\n      <td>Uttarahalli</td>\n      <td>3 BHK</td>\n      <td>NaN</td>\n      <td>1440</td>\n      <td>2.0</td>\n      <td>3.0</td>\n      <td>62.00</td>\n    </tr>\n  </tbody>\n</table>\n</div>"
     },
     "execution_count": 97,
     "metadata": {},
     "output_type": "execute_result"
    }
   ],
   "source": [
    "df.head(3)"
   ],
   "metadata": {
    "collapsed": false,
    "pycharm": {
     "name": "#%%\n"
    }
   }
  },
  {
   "cell_type": "code",
   "execution_count": 98,
   "outputs": [
    {
     "data": {
      "text/plain": "(13320, 9)"
     },
     "execution_count": 98,
     "metadata": {},
     "output_type": "execute_result"
    }
   ],
   "source": [
    "df.shape"
   ],
   "metadata": {
    "collapsed": false,
    "pycharm": {
     "name": "#%%\n"
    }
   }
  },
  {
   "cell_type": "code",
   "execution_count": 99,
   "outputs": [],
   "source": [
    "train_data = df[:13320 - 2624]\n",
    "test_data = df[13320 - 2624:]"
   ],
   "metadata": {
    "collapsed": false,
    "pycharm": {
     "name": "#%%\n"
    }
   }
  },
  {
   "cell_type": "code",
   "execution_count": 100,
   "outputs": [
    {
     "data": {
      "text/plain": "(10696, 9)"
     },
     "execution_count": 100,
     "metadata": {},
     "output_type": "execute_result"
    }
   ],
   "source": [
    "train_data.shape"
   ],
   "metadata": {
    "collapsed": false,
    "pycharm": {
     "name": "#%%\n"
    }
   }
  },
  {
   "cell_type": "code",
   "execution_count": 101,
   "outputs": [
    {
     "data": {
      "text/plain": "(2624, 9)"
     },
     "execution_count": 101,
     "metadata": {},
     "output_type": "execute_result"
    }
   ],
   "source": [
    "test_data.shape"
   ],
   "metadata": {
    "collapsed": false,
    "pycharm": {
     "name": "#%%\n"
    }
   }
  },
  {
   "cell_type": "code",
   "execution_count": 102,
   "outputs": [
    {
     "name": "stdout",
     "output_type": "stream",
     "text": [
      "<class 'pandas.core.frame.DataFrame'>\n",
      "RangeIndex: 10696 entries, 0 to 10695\n",
      "Data columns (total 9 columns):\n",
      " #   Column        Non-Null Count  Dtype  \n",
      "---  ------        --------------  -----  \n",
      " 0   area_type     10696 non-null  object \n",
      " 1   availability  10696 non-null  object \n",
      " 2   location      10695 non-null  object \n",
      " 3   size          10682 non-null  object \n",
      " 4   society       6252 non-null   object \n",
      " 5   total_sqft    10696 non-null  object \n",
      " 6   bath          10631 non-null  float64\n",
      " 7   balcony       10190 non-null  float64\n",
      " 8   price         10696 non-null  float64\n",
      "dtypes: float64(3), object(6)\n",
      "memory usage: 752.2+ KB\n"
     ]
    }
   ],
   "source": [
    "train_data.info()"
   ],
   "metadata": {
    "collapsed": false,
    "pycharm": {
     "name": "#%%\n"
    }
   }
  },
  {
   "cell_type": "code",
   "execution_count": 103,
   "outputs": [
    {
     "name": "stderr",
     "output_type": "stream",
     "text": [
      "C:\\Users\\91737\\AppData\\Local\\Temp\\ipykernel_15924\\375806891.py:1: SettingWithCopyWarning: \n",
      "A value is trying to be set on a copy of a slice from a DataFrame\n",
      "\n",
      "See the caveats in the documentation: https://pandas.pydata.org/pandas-docs/stable/user_guide/indexing.html#returning-a-view-versus-a-copy\n",
      "  train_data.drop('society', axis=1, inplace=True)\n",
      "C:\\Users\\91737\\AppData\\Local\\Temp\\ipykernel_15924\\375806891.py:2: SettingWithCopyWarning: \n",
      "A value is trying to be set on a copy of a slice from a DataFrame\n",
      "\n",
      "See the caveats in the documentation: https://pandas.pydata.org/pandas-docs/stable/user_guide/indexing.html#returning-a-view-versus-a-copy\n",
      "  test_data.drop('society', axis=1, inplace=True)\n"
     ]
    }
   ],
   "source": [
    "train_data.drop('society', axis=1, inplace=True)\n",
    "test_data.drop('society', axis=1, inplace=True)"
   ],
   "metadata": {
    "collapsed": false,
    "pycharm": {
     "name": "#%%\n"
    }
   }
  },
  {
   "cell_type": "code",
   "execution_count": 104,
   "outputs": [
    {
     "data": {
      "text/plain": "<Figure size 432x432 with 1 Axes>",
      "image/png": "[encoded data removed]"
     },
     "metadata": {
      "needs_background": "light"
     },
     "output_type": "display_data"
    }
   ],
   "source": [
    "plt.figure(figsize=(6,6))\n",
    "plt.hist(train_data['area_type'])\n",
    "plt.show()"
   ],
   "metadata": {
    "collapsed": false,
    "pycharm": {
     "name": "#%%\n"
    }
   }
  },
  {
   "cell_type": "code",
   "execution_count": 105,
   "outputs": [
    {
     "data": {
      "text/plain": "Ready To Move    8501\n18-Dec            238\n18-May            233\n18-Apr            205\n18-Aug            162\n                 ... \n15-Dec              1\n16-Oct              1\n15-Aug              1\n17-Jan              1\n16-Nov              1\nName: availability, Length: 79, dtype: int64"
     },
     "execution_count": 105,
     "metadata": {},
     "output_type": "execute_result"
    }
   ],
   "source": [
    "train_data.availability.value_counts()"
   ],
   "metadata": {
    "collapsed": false,
    "pycharm": {
     "name": "#%%\n"
    }
   }
  },
  {
   "cell_type": "code",
   "execution_count": 106,
   "outputs": [
    {
     "name": "stderr",
     "output_type": "stream",
     "text": [
      "C:\\Users\\91737\\AppData\\Local\\Temp\\ipykernel_15924\\347051232.py:1: SettingWithCopyWarning: \n",
      "A value is trying to be set on a copy of a slice from a DataFrame.\n",
      "Try using .loc[row_indexer,col_indexer] = value instead\n",
      "\n",
      "See the caveats in the documentation: https://pandas.pydata.org/pandas-docs/stable/user_guide/indexing.html#returning-a-view-versus-a-copy\n",
      "  train_data['availability'] = train_data.availability.apply(lambda x: x if x == 'Ready To Move' else 'Currently Not')\n",
      "C:\\Users\\91737\\AppData\\Local\\Temp\\ipykernel_15924\\347051232.py:2: SettingWithCopyWarning: \n",
      "A value is trying to be set on a copy of a slice from a DataFrame.\n",
      "Try using .loc[row_indexer,col_indexer] = value instead\n",
      "\n",
      "See the caveats in the documentation: https://pandas.pydata.org/pandas-docs/stable/user_guide/indexing.html#returning-a-view-versus-a-copy\n",
      "  test_data['availability'] = test_data.availability.apply(lambda x: x if x == 'Ready To Move' else 'Currently Not')\n"
     ]
    }
   ],
   "source": [
    "train_data['availability'] = train_data.availability.apply(lambda x: x if x == 'Ready To Move' else 'Currently Not')\n",
    "test_data['availability'] = test_data.availability.apply(lambda x: x if x == 'Ready To Move' else 'Currently Not')"
   ],
   "metadata": {
    "collapsed": false,
    "pycharm": {
     "name": "#%%\n"
    }
   }
  },
  {
   "cell_type": "code",
   "execution_count": 107,
   "outputs": [
    {
     "data": {
      "text/plain": "<Figure size 432x432 with 1 Axes>",
      "image/png": "[encoded data removed]"
     },
     "metadata": {
      "needs_background": "light"
     },
     "output_type": "display_data"
    }
   ],
   "source": [
    "plt.figure(figsize=(6,6))\n",
    "plt.hist(train_data['availability'])\n",
    "plt.show()"
   ],
   "metadata": {
    "collapsed": false,
    "pycharm": {
     "name": "#%%\n"
    }
   }
  },
  {
   "cell_type": "code",
   "execution_count": 108,
   "outputs": [
    {
     "name": "stderr",
     "output_type": "stream",
     "text": [
      "C:\\Users\\91737\\AppData\\Local\\Temp\\ipykernel_15924\\29428877.py:1: SettingWithCopyWarning: \n",
      "A value is trying to be set on a copy of a slice from a DataFrame.\n",
      "Try using .loc[row_indexer,col_indexer] = value instead\n",
      "\n",
      "See the caveats in the documentation: https://pandas.pydata.org/pandas-docs/stable/user_guide/indexing.html#returning-a-view-versus-a-copy\n",
      "  train_data['availability'] = pd.get_dummies(train_data['availability'], drop_first=True)\n",
      "C:\\Users\\91737\\AppData\\Local\\Temp\\ipykernel_15924\\29428877.py:2: SettingWithCopyWarning: \n",
      "A value is trying to be set on a copy of a slice from a DataFrame.\n",
      "Try using .loc[row_indexer,col_indexer] = value instead\n",
      "\n",
      "See the caveats in the documentation: https://pandas.pydata.org/pandas-docs/stable/user_guide/indexing.html#returning-a-view-versus-a-copy\n",
      "  test_data['availability'] = pd.get_dummies(test_data['availability'], drop_first=True)\n"
     ]
    }
   ],
   "source": [
    "train_data['availability'] = pd.get_dummies(train_data['availability'], drop_first=True)\n",
    "test_data['availability'] = pd.get_dummies(test_data['availability'], drop_first=True)"
   ],
   "metadata": {
    "collapsed": false,
    "pycharm": {
     "name": "#%%\n"
    }
   }
  },
  {
   "cell_type": "code",
   "execution_count": 109,
   "outputs": [
    {
     "data": {
      "text/plain": "area_type         0\navailability      0\nlocation          1\nsize             14\ntotal_sqft        0\nbath             65\nbalcony         506\nprice             0\ndtype: int64"
     },
     "execution_count": 109,
     "metadata": {},
     "output_type": "execute_result"
    }
   ],
   "source": [
    "train_data.isnull().sum()"
   ],
   "metadata": {
    "collapsed": false,
    "pycharm": {
     "name": "#%%\n"
    }
   }
  },
  {
   "cell_type": "code",
   "execution_count": 110,
   "outputs": [],
   "source": [
    "def convert_to_bedroom(x):\n",
    "    s = str(x).split(' ')[0]\n",
    "    return s"
   ],
   "metadata": {
    "collapsed": false,
    "pycharm": {
     "name": "#%%\n"
    }
   }
  },
  {
   "cell_type": "code",
   "execution_count": 111,
   "outputs": [
    {
     "name": "stderr",
     "output_type": "stream",
     "text": [
      "C:\\Users\\91737\\AppData\\Local\\Temp\\ipykernel_15924\\2229972187.py:1: SettingWithCopyWarning: \n",
      "A value is trying to be set on a copy of a slice from a DataFrame.\n",
      "Try using .loc[row_indexer,col_indexer] = value instead\n",
      "\n",
      "See the caveats in the documentation: https://pandas.pydata.org/pandas-docs/stable/user_guide/indexing.html#returning-a-view-versus-a-copy\n",
      "  train_data['BHK'] = train_data['size'].apply(convert_to_bedroom)\n",
      "C:\\Users\\91737\\AppData\\Local\\Temp\\ipykernel_15924\\2229972187.py:2: SettingWithCopyWarning: \n",
      "A value is trying to be set on a copy of a slice from a DataFrame.\n",
      "Try using .loc[row_indexer,col_indexer] = value instead\n",
      "\n",
      "See the caveats in the documentation: https://pandas.pydata.org/pandas-docs/stable/user_guide/indexing.html#returning-a-view-versus-a-copy\n",
      "  test_data['BHK'] = test_data['size'].apply(convert_to_bedroom)\n"
     ]
    }
   ],
   "source": [
    "train_data['BHK'] = train_data['size'].apply(convert_to_bedroom)\n",
    "test_data['BHK'] = test_data['size'].apply(convert_to_bedroom)"
   ],
   "metadata": {
    "collapsed": false,
    "pycharm": {
     "name": "#%%\n"
    }
   }
  },
  {
   "cell_type": "code",
   "execution_count": 112,
   "outputs": [
    {
     "name": "stderr",
     "output_type": "stream",
     "text": [
      "C:\\Users\\91737\\AppData\\Local\\Temp\\ipykernel_15924\\2682910142.py:2: SettingWithCopyWarning: \n",
      "A value is trying to be set on a copy of a slice from a DataFrame.\n",
      "Try using .loc[row_indexer,col_indexer] = value instead\n",
      "\n",
      "See the caveats in the documentation: https://pandas.pydata.org/pandas-docs/stable/user_guide/indexing.html#returning-a-view-versus-a-copy\n",
      "  train_data['BHK'] = train_data['BHK'].apply(lambda x: a if x == 'nan' else x)\n",
      "C:\\Users\\91737\\AppData\\Local\\Temp\\ipykernel_15924\\2682910142.py:3: SettingWithCopyWarning: \n",
      "A value is trying to be set on a copy of a slice from a DataFrame.\n",
      "Try using .loc[row_indexer,col_indexer] = value instead\n",
      "\n",
      "See the caveats in the documentation: https://pandas.pydata.org/pandas-docs/stable/user_guide/indexing.html#returning-a-view-versus-a-copy\n",
      "  test_data['BHK'] = test_data['BHK'].apply(lambda x: a if x == 'nan' else x)\n"
     ]
    }
   ],
   "source": [
    "a = train_data['BHK'].mode().iloc[0]\n",
    "train_data['BHK'] = train_data['BHK'].apply(lambda x: a if x == 'nan' else x)\n",
    "test_data['BHK'] = test_data['BHK'].apply(lambda x: a if x == 'nan' else x)"
   ],
   "metadata": {
    "collapsed": false,
    "pycharm": {
     "name": "#%%\n"
    }
   }
  },
  {
   "cell_type": "code",
   "execution_count": 113,
   "outputs": [
    {
     "name": "stderr",
     "output_type": "stream",
     "text": [
      "C:\\Users\\91737\\AppData\\Local\\Temp\\ipykernel_15924\\4079799218.py:1: SettingWithCopyWarning: \n",
      "A value is trying to be set on a copy of a slice from a DataFrame.\n",
      "Try using .loc[row_indexer,col_indexer] = value instead\n",
      "\n",
      "See the caveats in the documentation: https://pandas.pydata.org/pandas-docs/stable/user_guide/indexing.html#returning-a-view-versus-a-copy\n",
      "  train_data['BHK'] = train_data['BHK'].apply(lambda x: float(x))\n",
      "C:\\Users\\91737\\AppData\\Local\\Temp\\ipykernel_15924\\4079799218.py:2: SettingWithCopyWarning: \n",
      "A value is trying to be set on a copy of a slice from a DataFrame.\n",
      "Try using .loc[row_indexer,col_indexer] = value instead\n",
      "\n",
      "See the caveats in the documentation: https://pandas.pydata.org/pandas-docs/stable/user_guide/indexing.html#returning-a-view-versus-a-copy\n",
      "  test_data['BHK'] = test_data['BHK'].apply(lambda x: float(x))\n"
     ]
    }
   ],
   "source": [
    "train_data['BHK'] = train_data['BHK'].apply(lambda x: float(x))\n",
    "test_data['BHK'] = test_data['BHK'].apply(lambda x: float(x))"
   ],
   "metadata": {
    "collapsed": false,
    "pycharm": {
     "name": "#%%\n"
    }
   }
  },
  {
   "cell_type": "code",
   "execution_count": 114,
   "outputs": [],
   "source": [
    "def is_float(x):\n",
    "    try:\n",
    "        float(x)\n",
    "    except:\n",
    "        return False\n",
    "    return True"
   ],
   "metadata": {
    "collapsed": false,
    "pycharm": {
     "name": "#%%\n"
    }
   }
  },
  {
   "cell_type": "code",
   "execution_count": 115,
   "outputs": [
    {
     "data": {
      "text/plain": "30          2100 - 2850\n56          3010 - 3410\n81          2957 - 3450\n122         3067 - 8156\n137         1042 - 1105\n              ...      \n10488         1.25Acres\n10491    86.72Sq. Meter\n10541         381 - 535\n10569       1230 - 1490\n10620       3630 - 3800\nName: total_sqft, Length: 206, dtype: object"
     },
     "execution_count": 115,
     "metadata": {},
     "output_type": "execute_result"
    }
   ],
   "source": [
    "train_data['total_sqft'][~train_data['total_sqft'].apply(is_float)]"
   ],
   "metadata": {
    "collapsed": false,
    "pycharm": {
     "name": "#%%\n"
    }
   }
  },
  {
   "cell_type": "code",
   "execution_count": 116,
   "outputs": [],
   "source": [
    "def conversion(train_data):\n",
    "    a = train_data.split('-')\n",
    "    if len(a) == 2:\n",
    "        return (float(a[0]) + float(a[1]))/2\n",
    "    try:\n",
    "        return float(train_data)\n",
    "    except:\n",
    "        return None"
   ],
   "metadata": {
    "collapsed": false,
    "pycharm": {
     "name": "#%%\n"
    }
   }
  },
  {
   "cell_type": "code",
   "execution_count": 117,
   "outputs": [
    {
     "name": "stderr",
     "output_type": "stream",
     "text": [
      "C:\\Users\\91737\\AppData\\Local\\Temp\\ipykernel_15924\\845075892.py:1: SettingWithCopyWarning: \n",
      "A value is trying to be set on a copy of a slice from a DataFrame.\n",
      "Try using .loc[row_indexer,col_indexer] = value instead\n",
      "\n",
      "See the caveats in the documentation: https://pandas.pydata.org/pandas-docs/stable/user_guide/indexing.html#returning-a-view-versus-a-copy\n",
      "  train_data['total_sqft'] = train_data['total_sqft'].apply(conversion)\n",
      "C:\\Users\\91737\\AppData\\Local\\Temp\\ipykernel_15924\\845075892.py:2: SettingWithCopyWarning: \n",
      "A value is trying to be set on a copy of a slice from a DataFrame.\n",
      "Try using .loc[row_indexer,col_indexer] = value instead\n",
      "\n",
      "See the caveats in the documentation: https://pandas.pydata.org/pandas-docs/stable/user_guide/indexing.html#returning-a-view-versus-a-copy\n",
      "  test_data['total_sqft'] = test_data['total_sqft'].apply(conversion)\n"
     ]
    }
   ],
   "source": [
    "train_data['total_sqft'] = train_data['total_sqft'].apply(conversion)\n",
    "test_data['total_sqft'] = test_data['total_sqft'].apply(conversion)"
   ],
   "metadata": {
    "collapsed": false,
    "pycharm": {
     "name": "#%%\n"
    }
   }
  },
  {
   "cell_type": "code",
   "execution_count": 118,
   "outputs": [],
   "source": [
    "num_col = ['total_sqft','bath','balcony']"
   ],
   "metadata": {
    "collapsed": false,
    "pycharm": {
     "name": "#%%\n"
    }
   }
  },
  {
   "cell_type": "code",
   "execution_count": 119,
   "outputs": [],
   "source": [
    "from sklearn.impute import SimpleImputer"
   ],
   "metadata": {
    "collapsed": false,
    "pycharm": {
     "name": "#%%\n"
    }
   }
  },
  {
   "cell_type": "code",
   "execution_count": 120,
   "outputs": [
    {
     "name": "stderr",
     "output_type": "stream",
     "text": [
      "C:\\Users\\91737\\AppData\\Local\\Temp\\ipykernel_15924\\2128411496.py:2: SettingWithCopyWarning: \n",
      "A value is trying to be set on a copy of a slice from a DataFrame.\n",
      "Try using .loc[row_indexer,col_indexer] = value instead\n",
      "\n",
      "See the caveats in the documentation: https://pandas.pydata.org/pandas-docs/stable/user_guide/indexing.html#returning-a-view-versus-a-copy\n",
      "  train_data[num_col] = imputer.fit_transform(train_data[num_col])\n",
      "C:\\Users\\91737\\AppData\\Local\\Temp\\ipykernel_15924\\2128411496.py:3: SettingWithCopyWarning: \n",
      "A value is trying to be set on a copy of a slice from a DataFrame.\n",
      "Try using .loc[row_indexer,col_indexer] = value instead\n",
      "\n",
      "See the caveats in the documentation: https://pandas.pydata.org/pandas-docs/stable/user_guide/indexing.html#returning-a-view-versus-a-copy\n",
      "  test_data[num_col] = imputer.fit_transform(test_data[num_col])\n"
     ]
    }
   ],
   "source": [
    "imputer = SimpleImputer(strategy='median')\n",
    "train_data[num_col] = imputer.fit_transform(train_data[num_col])\n",
    "test_data[num_col] = imputer.fit_transform(test_data[num_col])"
   ],
   "metadata": {
    "collapsed": false,
    "pycharm": {
     "name": "#%%\n"
    }
   }
  },
  {
   "cell_type": "code",
   "execution_count": 121,
   "outputs": [
    {
     "data": {
      "text/plain": "array(['Electronic City Phase II', 'Chikka Tirupathi', 'Uttarahalli', ...,\n       'Shanthi Pura', 'Viviani Road', 'Sampangirama Nagar'], dtype=object)"
     },
     "execution_count": 121,
     "metadata": {},
     "output_type": "execute_result"
    }
   ],
   "source": [
    "train_data['location'].unique()"
   ],
   "metadata": {
    "collapsed": false,
    "pycharm": {
     "name": "#%%\n"
    }
   }
  },
  {
   "cell_type": "code",
   "execution_count": 122,
   "outputs": [
    {
     "data": {
      "text/plain": "Doddaballapur           9\nMahalakshmi Layout      9\nBasapura                9\nMathikere               9\nBharathi Nagar          9\n                       ..\nMathikere SBM colony    1\nSahyadri Layout         1\nLaxminarayana Layout    1\nKanakadasa Layout       1\nSampangirama Nagar      1\nName: location, Length: 974, dtype: int64"
     },
     "execution_count": 122,
     "metadata": {},
     "output_type": "execute_result"
    }
   ],
   "source": [
    "location_value_less_than_10 = train_data.location.value_counts()[train_data.location.value_counts() < 10]\n",
    "location_value_less_than_10"
   ],
   "metadata": {
    "collapsed": false,
    "pycharm": {
     "name": "#%%\n"
    }
   }
  },
  {
   "cell_type": "code",
   "execution_count": 123,
   "outputs": [
    {
     "name": "stderr",
     "output_type": "stream",
     "text": [
      "C:\\Users\\91737\\AppData\\Local\\Temp\\ipykernel_15924\\3656549690.py:1: SettingWithCopyWarning: \n",
      "A value is trying to be set on a copy of a slice from a DataFrame.\n",
      "Try using .loc[row_indexer,col_indexer] = value instead\n",
      "\n",
      "See the caveats in the documentation: https://pandas.pydata.org/pandas-docs/stable/user_guide/indexing.html#returning-a-view-versus-a-copy\n",
      "  train_data['location'] = train_data['location'].apply(lambda x: 'other' if x in location_value_less_than_10 else str(x).strip())\n"
     ]
    }
   ],
   "source": [
    "train_data['location'] = train_data['location'].apply(lambda x: 'other' if x in location_value_less_than_10 else str(x).strip())"
   ],
   "metadata": {
    "collapsed": false,
    "pycharm": {
     "name": "#%%\n"
    }
   }
  },
  {
   "cell_type": "markdown",
   "source": [],
   "metadata": {
    "collapsed": false
   }
  },
  {
   "cell_type": "code",
   "execution_count": 124,
   "outputs": [],
   "source": [
    "# train_data = pd.concat([train_data, pd.get_dummies(train_data['location'])], axis=1)"
   ],
   "metadata": {
    "collapsed": false,
    "pycharm": {
     "name": "#%%\n"
    }
   }
  },
  {
   "cell_type": "code",
   "execution_count": 125,
   "outputs": [
    {
     "name": "stdout",
     "output_type": "stream",
     "text": [
      "<class 'pandas.core.frame.DataFrame'>\n",
      "RangeIndex: 10696 entries, 0 to 10695\n",
      "Data columns (total 9 columns):\n",
      " #   Column        Non-Null Count  Dtype  \n",
      "---  ------        --------------  -----  \n",
      " 0   area_type     10696 non-null  object \n",
      " 1   availability  10696 non-null  uint8  \n",
      " 2   location      10696 non-null  object \n",
      " 3   size          10682 non-null  object \n",
      " 4   total_sqft    10696 non-null  float64\n",
      " 5   bath          10696 non-null  float64\n",
      " 6   balcony       10696 non-null  float64\n",
      " 7   price         10696 non-null  float64\n",
      " 8   BHK           10696 non-null  float64\n",
      "dtypes: float64(5), object(3), uint8(1)\n",
      "memory usage: 679.1+ KB\n"
     ]
    }
   ],
   "source": [
    "train_data.info()"
   ],
   "metadata": {
    "collapsed": false,
    "pycharm": {
     "name": "#%%\n"
    }
   }
  },
  {
   "cell_type": "code",
   "execution_count": 126,
   "outputs": [
    {
     "data": {
      "text/plain": "                area_type  availability location   size  total_sqft  bath  \\\n568  Super built-up  Area             1      nan  3 BHK      1600.0   3.0   \n\n     balcony  price  BHK  \n568      2.0   86.0  3.0  ",
      "text/html": "<div>\n<style scoped>\n    .dataframe tbody tr th:only-of-type {\n        vertical-align: middle;\n    }\n\n    .dataframe tbody tr th {\n        vertical-align: top;\n    }\n\n    .dataframe thead th {\n        text-align: right;\n    }\n</style>\n<table border=\"1\" class=\"dataframe\">\n  <thead>\n    <tr style=\"text-align: right;\">\n      <th></th>\n      <th>area_type</th>\n      <th>availability</th>\n      <th>location</th>\n      <th>size</th>\n      <th>total_sqft</th>\n      <th>bath</th>\n      <th>balcony</th>\n      <th>price</th>\n      <th>BHK</th>\n    </tr>\n  </thead>\n  <tbody>\n    <tr>\n      <th>568</th>\n      <td>Super built-up  Area</td>\n      <td>1</td>\n      <td>nan</td>\n      <td>3 BHK</td>\n      <td>1600.0</td>\n      <td>3.0</td>\n      <td>2.0</td>\n      <td>86.0</td>\n      <td>3.0</td>\n    </tr>\n  </tbody>\n</table>\n</div>"
     },
     "execution_count": 126,
     "metadata": {},
     "output_type": "execute_result"
    }
   ],
   "source": [
    "train_data[train_data.location == 'nan']"
   ],
   "metadata": {
    "collapsed": false,
    "pycharm": {
     "name": "#%%\n"
    }
   }
  },
  {
   "cell_type": "code",
   "execution_count": 129,
   "outputs": [],
   "source": [
    "train_data = train_data[train_data.location != 'nan']"
   ],
   "metadata": {
    "collapsed": false,
    "pycharm": {
     "name": "#%%\n"
    }
   }
  },
  {
   "cell_type": "code",
   "execution_count": 130,
   "outputs": [],
   "source": [
    "from sklearn.preprocessing import OneHotEncoder\n",
    "ohe_location = OneHotEncoder(sparse=False,handle_unknown='ignore')\n",
    "location_transform = ohe_location.fit_transform(train_data[['location']])"
   ],
   "metadata": {
    "collapsed": false,
    "pycharm": {
     "name": "#%%\n"
    }
   }
  },
  {
   "cell_type": "code",
   "execution_count": 131,
   "outputs": [
    {
     "data": {
      "text/plain": "[array(['1st Block Jayanagar', '1st Phase JP Nagar',\n        '2nd Stage Nagarbhavi', '5th Phase JP Nagar', '6th Phase JP Nagar',\n        '7th Phase JP Nagar', '8th Phase JP Nagar', '9th Phase JP Nagar',\n        'AECS Layout', 'Abbigere', 'Akshaya Nagar', 'Ambalipura',\n        'Ambedkar Nagar', 'Amruthahalli', 'Anandapura', 'Ananth Nagar',\n        'Anekal', 'Anjanapura', 'Ardendale', 'Arekere', 'Attibele',\n        'BEML Layout', 'BTM 2nd Stage', 'BTM Layout', 'Babusapalaya',\n        'Badavala Nagar', 'Balagere', 'Banashankari',\n        'Banashankari Stage II', 'Banashankari Stage III',\n        'Banashankari Stage V', 'Banashankari Stage VI', 'Banaswadi',\n        'Banjara Layout', 'Bannerghatta', 'Bannerghatta Road',\n        'Basavangudi', 'Basaveshwara Nagar', 'Battarahalli', 'Begur',\n        'Begur Road', 'Bellandur', 'Benson Town', 'Bhoganhalli',\n        'Billekahalli', 'Binny Pete', 'Bisuvanahalli', 'Bommanahalli',\n        'Bommasandra', 'Bommasandra Industrial Area', 'Bommenahalli',\n        'Brookefield', 'Budigere', 'CV Raman Nagar', 'Chamrajpet',\n        'Chandapura', 'Channasandra', 'Chikka Tirupathi', 'Chikkalasandra',\n        'Choodasandra', 'Cooke Town', 'Cox Town', 'Cunningham Road',\n        'Dasanapura', 'Dasarahalli', 'Devanahalli', 'Devarachikkanahalli',\n        'Dodda Nekkundi', 'Doddakallasandra', 'Doddathoguru', 'Domlur',\n        'Dommasandra', 'EPIP Zone', 'Electronic City',\n        'Electronic City Phase II', 'Electronics City Phase 1',\n        'Frazer Town', 'Garudachar Palya', 'Giri Nagar',\n        'Gollarapalya Hosahalli', 'Gottigere', 'Green Glen Layout',\n        'Gubbalala', 'Gunjur', 'HBR Layout', 'HRBR Layout', 'HSR Layout',\n        'Haralur Road', 'Harlur', 'Hebbal', 'Hebbal Kempapura',\n        'Hegde Nagar', 'Hennur', 'Hennur Road', 'Hoodi', 'Horamavu Agara',\n        'Horamavu Banaswadi', 'Hormavu', 'Hosa Road', 'Hosakerehalli',\n        'Hoskote', 'Hosur Road', 'Hulimavu', 'ISRO Layout',\n        'Iblur Village', 'Indira Nagar', 'JP Nagar', 'Jakkur', 'Jalahalli',\n        'Jalahalli East', 'Jigani', 'Judicial Layout', 'KR Puram',\n        'Kadubeesanahalli', 'Kadugodi', 'Kaggadasapura', 'Kaggalipura',\n        'Kaikondrahalli', 'Kalena Agrahara', 'Kalkere', 'Kalyan nagar',\n        'Kambipura', 'Kammanahalli', 'Kammasandra', 'Kanakapura',\n        'Kanakpura Road', 'Kannamangala', 'Karuna Nagar', 'Kasavanhalli',\n        'Kasturi Nagar', 'Kathriguppe', 'Kaval Byrasandra',\n        'Kenchenahalli', 'Kengeri', 'Kengeri Satellite Town',\n        'Kereguddadahalli', 'Kodichikkanahalli', 'Kodigehaali',\n        'Kodigehalli', 'Kodihalli', 'Kogilu', 'Konanakunte', 'Koramangala',\n        'Kothannur', 'Kothanur', 'Kudlu', 'Kudlu Gate',\n        'Kumaraswami Layout', 'Kundalahalli', 'Laggere',\n        'Lakshminarayana Pura', 'Lingadheeranahalli', 'Magadi Road',\n        'Mahadevpura', 'Mallasandra', 'Malleshpalya', 'Malleshwaram',\n        'Marathahalli', 'Margondanahalli', 'Marsur', 'Mico Layout',\n        'Munnekollal', 'Murugeshpalya', 'Mysore Road', 'NGR Layout',\n        'NRI Layout', 'Nagadevanahalli', 'Nagarbhavi', 'Nagavara',\n        'Nagavarapalya', 'Narayanapura', 'OMBR Layout', 'Old Airport Road',\n        'Old Madras Road', 'Padmanabhanagar', 'Pai Layout', 'Panathur',\n        'Parappana Agrahara', 'Pattandur Agrahara', 'Poorna Pragna Layout',\n        'Prithvi Layout', 'R.T. Nagar', 'Rachenahalli',\n        'Raja Rajeshwari Nagar', 'Rajaji Nagar', 'Rajiv Nagar',\n        'Ramagondanahalli', 'Ramamurthy Nagar', 'Rayasandra',\n        'Sahakara Nagar', 'Sanjay nagar', 'Sarakki Nagar', 'Sarjapur',\n        'Sarjapur  Road', 'Sarjapura - Attibele Road',\n        'Sector 2 HSR Layout', 'Sector 7 HSR Layout', 'Seegehalli',\n        'Shampura', 'Singasandra', 'Somasundara Palya', 'Sonnenahalli',\n        'Subramanyapura', 'Sultan Palaya', 'TC Palaya', 'Talaghattapura',\n        'Thanisandra', 'Thigalarapalya', 'Thubarahalli', 'Tumkur Road',\n        'Ulsoor', 'Uttarahalli', 'Varthur', 'Varthur Road', 'Vasanthapura',\n        'Vidyaranyapura', 'Vijayanagar', 'Vishveshwarya Layout',\n        'Vishwapriya Layout', 'Vittasandra', 'Whitefield',\n        'Yelachenahalli', 'Yelahanka', 'Yelahanka New Town', 'Yelenahalli',\n        'Yeshwanthpur', 'other'], dtype=object)]"
     },
     "execution_count": 131,
     "metadata": {},
     "output_type": "execute_result"
    }
   ],
   "source": [
    "ohe_location.categories_"
   ],
   "metadata": {
    "collapsed": false,
    "pycharm": {
     "name": "#%%\n"
    }
   }
  },
  {
   "cell_type": "code",
   "execution_count": 132,
   "outputs": [],
   "source": [
    "train_data = pd.concat([train_data,pd.DataFrame(location_transform,columns=list(ohe_location.categories_[0]))],axis=1)"
   ],
   "metadata": {
    "collapsed": false,
    "pycharm": {
     "name": "#%%\n"
    }
   }
  },
  {
   "cell_type": "code",
   "execution_count": 133,
   "outputs": [
    {
     "data": {
      "text/plain": "                  area_type  availability                  location  \\\n0      Super built-up  Area           0.0  Electronic City Phase II   \n1                Plot  Area           1.0          Chikka Tirupathi   \n2            Built-up  Area           1.0               Uttarahalli   \n3      Super built-up  Area           1.0        Lingadheeranahalli   \n4      Super built-up  Area           1.0                  Kothanur   \n...                     ...           ...                       ...   \n10692  Super built-up  Area           1.0                     other   \n10693  Super built-up  Area           1.0                     Hoodi   \n10694            Plot  Area           1.0                 TC Palaya   \n10695            Plot  Area           0.0           Electronic City   \n568                     NaN           NaN                       NaN   \n\n            size  total_sqft  bath  balcony   price  BHK  1st Block Jayanagar  \\\n0          2 BHK      1056.0   2.0      1.0   39.07  2.0                  0.0   \n1      4 Bedroom      2600.0   5.0      3.0  120.00  4.0                  0.0   \n2          3 BHK      1440.0   2.0      3.0   62.00  3.0                  0.0   \n3          3 BHK      1521.0   3.0      1.0   95.00  3.0                  0.0   \n4          2 BHK      1200.0   2.0      1.0   51.00  2.0                  0.0   \n...          ...         ...   ...      ...     ...  ...                  ...   \n10692      2 BHK       993.0   2.0      2.0   42.00  2.0                  0.0   \n10693      2 BHK      1225.0   2.0      1.0   45.00  2.0                  0.0   \n10694  2 Bedroom       900.0   2.0      0.0   55.00  2.0                  0.0   \n10695  9 Bedroom      1200.0  13.0      2.0  150.00  9.0                  NaN   \n568          NaN         NaN   NaN      NaN     NaN  NaN                  0.0   \n\n       ...  Vishveshwarya Layout  Vishwapriya Layout  Vittasandra  Whitefield  \\\n0      ...                   0.0                 0.0          0.0         0.0   \n1      ...                   0.0                 0.0          0.0         0.0   \n2      ...                   0.0                 0.0          0.0         0.0   \n3      ...                   0.0                 0.0          0.0         0.0   \n4      ...                   0.0                 0.0          0.0         0.0   \n...    ...                   ...                 ...          ...         ...   \n10692  ...                   0.0                 0.0          0.0         0.0   \n10693  ...                   0.0                 0.0          0.0         0.0   \n10694  ...                   0.0                 0.0          0.0         0.0   \n10695  ...                   NaN                 NaN          NaN         NaN   \n568    ...                   0.0                 0.0          0.0         0.0   \n\n       Yelachenahalli  Yelahanka  Yelahanka New Town  Yelenahalli  \\\n0                 0.0        0.0                 0.0          0.0   \n1                 0.0        0.0                 0.0          0.0   \n2                 0.0        0.0                 0.0          0.0   \n3                 0.0        0.0                 0.0          0.0   \n4                 0.0        0.0                 0.0          0.0   \n...               ...        ...                 ...          ...   \n10692             0.0        0.0                 0.0          0.0   \n10693             0.0        0.0                 0.0          0.0   \n10694             0.0        0.0                 0.0          0.0   \n10695             NaN        NaN                 NaN          NaN   \n568               0.0        0.0                 0.0          0.0   \n\n       Yeshwanthpur  other  \n0               0.0    0.0  \n1               0.0    0.0  \n2               0.0    0.0  \n3               0.0    0.0  \n4               0.0    0.0  \n...             ...    ...  \n10692           0.0    0.0  \n10693           0.0    0.0  \n10694           0.0    0.0  \n10695           NaN    NaN  \n568             0.0    1.0  \n\n[10696 rows x 236 columns]",
      "text/html": "<div>\n<style scoped>\n    .dataframe tbody tr th:only-of-type {\n        vertical-align: middle;\n    }\n\n    .dataframe tbody tr th {\n        vertical-align: top;\n    }\n\n    .dataframe thead th {\n        text-align: right;\n    }\n</style>\n<table border=\"1\" class=\"dataframe\">\n  <thead>\n    <tr style=\"text-align: right;\">\n      <th></th>\n      <th>area_type</th>\n      <th>availability</th>\n      <th>location</th>\n      <th>size</th>\n      <th>total_sqft</th>\n      <th>bath</th>\n      <th>balcony</th>\n      <th>price</th>\n      <th>BHK</th>\n      <th>1st Block Jayanagar</th>\n      <th>...</th>\n      <th>Vishveshwarya Layout</th>\n      <th>Vishwapriya Layout</th>\n      <th>Vittasandra</th>\n      <th>Whitefield</th>\n      <th>Yelachenahalli</th>\n      <th>Yelahanka</th>\n      <th>Yelahanka New Town</th>\n      <th>Yelenahalli</th>\n      <th>Yeshwanthpur</th>\n      <th>other</th>\n    </tr>\n  </thead>\n  <tbody>\n    <tr>\n      <th>0</th>\n      <td>Super built-up  Area</td>\n      <td>0.0</td>\n      <td>Electronic City Phase II</td>\n      <td>2 BHK</td>\n      <td>1056.0</td>\n      <td>2.0</td>\n      <td>1.0</td>\n      <td>39.07</td>\n      <td>2.0</td>\n      <td>0.0</td>\n      <td>...</td>\n      <td>0.0</td>\n      <td>0.0</td>\n      <td>0.0</td>\n      <td>0.0</td>\n      <td>0.0</td>\n      <td>0.0</td>\n      <td>0.0</td>\n      <td>0.0</td>\n      <td>0.0</td>\n      <td>0.0</td>\n    </tr>\n    <tr>\n      <th>1</th>\n      <td>Plot  Area</td>\n      <td>1.0</td>\n      <td>Chikka Tirupathi</td>\n      <td>4 Bedroom</td>\n      <td>2600.0</td>\n      <td>5.0</td>\n      <td>3.0</td>\n      <td>120.00</td>\n      <td>4.0</td>\n      <td>0.0</td>\n      <td>...</td>\n      <td>0.0</td>\n      <td>0.0</td>\n      <td>0.0</td>\n      <td>0.0</td>\n      <td>0.0</td>\n      <td>0.0</td>\n      <td>0.0</td>\n      <td>0.0</td>\n      <td>0.0</td>\n      <td>0.0</td>\n    </tr>\n    <tr>\n      <th>2</th>\n      <td>Built-up  Area</td>\n      <td>1.0</td>\n      <td>Uttarahalli</td>\n      <td>3 BHK</td>\n      <td>1440.0</td>\n      <td>2.0</td>\n      <td>3.0</td>\n      <td>62.00</td>\n      <td>3.0</td>\n      <td>0.0</td>\n      <td>...</td>\n      <td>0.0</td>\n      <td>0.0</td>\n      <td>0.0</td>\n      <td>0.0</td>\n      <td>0.0</td>\n      <td>0.0</td>\n      <td>0.0</td>\n      <td>0.0</td>\n      <td>0.0</td>\n      <td>0.0</td>\n    </tr>\n    <tr>\n      <th>3</th>\n      <td>Super built-up  Area</td>\n      <td>1.0</td>\n      <td>Lingadheeranahalli</td>\n      <td>3 BHK</td>\n      <td>1521.0</td>\n      <td>3.0</td>\n      <td>1.0</td>\n      <td>95.00</td>\n      <td>3.0</td>\n      <td>0.0</td>\n      <td>...</td>\n      <td>0.0</td>\n      <td>0.0</td>\n      <td>0.0</td>\n      <td>0.0</td>\n      <td>0.0</td>\n      <td>0.0</td>\n      <td>0.0</td>\n      <td>0.0</td>\n      <td>0.0</td>\n      <td>0.0</td>\n    </tr>\n    <tr>\n      <th>4</th>\n      <td>Super built-up  Area</td>\n      <td>1.0</td>\n      <td>Kothanur</td>\n      <td>2 BHK</td>\n      <td>1200.0</td>\n      <td>2.0</td>\n      <td>1.0</td>\n      <td>51.00</td>\n      <td>2.0</td>\n      <td>0.0</td>\n      <td>...</td>\n      <td>0.0</td>\n      <td>0.0</td>\n      <td>0.0</td>\n      <td>0.0</td>\n      <td>0.0</td>\n      <td>0.0</td>\n      <td>0.0</td>\n      <td>0.0</td>\n      <td>0.0</td>\n      <td>0.0</td>\n    </tr>\n    <tr>\n      <th>...</th>\n      <td>...</td>\n      <td>...</td>\n      <td>...</td>\n      <td>...</td>\n      <td>...</td>\n      <td>...</td>\n      <td>...</td>\n      <td>...</td>\n      <td>...</td>\n      <td>...</td>\n      <td>...</td>\n      <td>...</td>\n      <td>...</td>\n      <td>...</td>\n      <td>...</td>\n      <td>...</td>\n      <td>...</td>\n      <td>...</td>\n      <td>...</td>\n      <td>...</td>\n      <td>...</td>\n    </tr>\n    <tr>\n      <th>10692</th>\n      <td>Super built-up  Area</td>\n      <td>1.0</td>\n      <td>other</td>\n      <td>2 BHK</td>\n      <td>993.0</td>\n      <td>2.0</td>\n      <td>2.0</td>\n      <td>42.00</td>\n      <td>2.0</td>\n      <td>0.0</td>\n      <td>...</td>\n      <td>0.0</td>\n      <td>0.0</td>\n      <td>0.0</td>\n      <td>0.0</td>\n      <td>0.0</td>\n      <td>0.0</td>\n      <td>0.0</td>\n      <td>0.0</td>\n      <td>0.0</td>\n      <td>0.0</td>\n    </tr>\n    <tr>\n      <th>10693</th>\n      <td>Super built-up  Area</td>\n      <td>1.0</td>\n      <td>Hoodi</td>\n      <td>2 BHK</td>\n      <td>1225.0</td>\n      <td>2.0</td>\n      <td>1.0</td>\n      <td>45.00</td>\n      <td>2.0</td>\n      <td>0.0</td>\n      <td>...</td>\n      <td>0.0</td>\n      <td>0.0</td>\n      <td>0.0</td>\n      <td>0.0</td>\n      <td>0.0</td>\n      <td>0.0</td>\n      <td>0.0</td>\n      <td>0.0</td>\n      <td>0.0</td>\n      <td>0.0</td>\n    </tr>\n    <tr>\n      <th>10694</th>\n      <td>Plot  Area</td>\n      <td>1.0</td>\n      <td>TC Palaya</td>\n      <td>2 Bedroom</td>\n      <td>900.0</td>\n      <td>2.0</td>\n      <td>0.0</td>\n      <td>55.00</td>\n      <td>2.0</td>\n      <td>0.0</td>\n      <td>...</td>\n      <td>0.0</td>\n      <td>0.0</td>\n      <td>0.0</td>\n      <td>0.0</td>\n      <td>0.0</td>\n      <td>0.0</td>\n      <td>0.0</td>\n      <td>0.0</td>\n      <td>0.0</td>\n      <td>0.0</td>\n    </tr>\n    <tr>\n      <th>10695</th>\n      <td>Plot  Area</td>\n      <td>0.0</td>\n      <td>Electronic City</td>\n      <td>9 Bedroom</td>\n      <td>1200.0</td>\n      <td>13.0</td>\n      <td>2.0</td>\n      <td>150.00</td>\n      <td>9.0</td>\n      <td>NaN</td>\n      <td>...</td>\n      <td>NaN</td>\n      <td>NaN</td>\n      <td>NaN</td>\n      <td>NaN</td>\n      <td>NaN</td>\n      <td>NaN</td>\n      <td>NaN</td>\n      <td>NaN</td>\n      <td>NaN</td>\n      <td>NaN</td>\n    </tr>\n    <tr>\n      <th>568</th>\n      <td>NaN</td>\n      <td>NaN</td>\n      <td>NaN</td>\n      <td>NaN</td>\n      <td>NaN</td>\n      <td>NaN</td>\n      <td>NaN</td>\n      <td>NaN</td>\n      <td>NaN</td>\n      <td>0.0</td>\n      <td>...</td>\n      <td>0.0</td>\n      <td>0.0</td>\n      <td>0.0</td>\n      <td>0.0</td>\n      <td>0.0</td>\n      <td>0.0</td>\n      <td>0.0</td>\n      <td>0.0</td>\n      <td>0.0</td>\n      <td>1.0</td>\n    </tr>\n  </tbody>\n</table>\n<p>10696 rows × 236 columns</p>\n</div>"
     },
     "execution_count": 133,
     "metadata": {},
     "output_type": "execute_result"
    }
   ],
   "source": [
    "train_data"
   ],
   "metadata": {
    "collapsed": false,
    "pycharm": {
     "name": "#%%\n"
    }
   }
  },
  {
   "cell_type": "code",
   "execution_count": 134,
   "outputs": [],
   "source": [
    "train_data = pd.concat([train_data, pd.get_dummies(train_data['area_type'])], axis=1)"
   ],
   "metadata": {
    "collapsed": false,
    "pycharm": {
     "name": "#%%\n"
    }
   }
  },
  {
   "cell_type": "code",
   "execution_count": 135,
   "outputs": [],
   "source": [
    "train_data.drop('size', axis=1, inplace=True)"
   ],
   "metadata": {
    "collapsed": false,
    "pycharm": {
     "name": "#%%\n"
    }
   }
  },
  {
   "cell_type": "code",
   "execution_count": 136,
   "outputs": [],
   "source": [
    "train_data['price_per_sqft'] = (train_data['price'] * 100000) / train_data['total_sqft']"
   ],
   "metadata": {
    "collapsed": false,
    "pycharm": {
     "name": "#%%\n"
    }
   }
  },
  {
   "cell_type": "code",
   "execution_count": 137,
   "outputs": [
    {
     "data": {
      "text/plain": "availability            0.028886\ntotal_sqft              0.562326\nbath                    0.456850\nbalcony                 0.133961\nprice                   1.000000\n                          ...   \nBuilt-up  Area         -0.027112\nCarpet  Area           -0.016434\nPlot  Area              0.274604\nSuper built-up  Area   -0.184683\nprice_per_sqft          0.025832\nName: price, Length: 238, dtype: float64"
     },
     "execution_count": 137,
     "metadata": {},
     "output_type": "execute_result"
    }
   ],
   "source": [
    "corr = train_data.corr()\n",
    "corr['price']"
   ],
   "metadata": {
    "collapsed": false,
    "pycharm": {
     "name": "#%%\n"
    }
   }
  },
  {
   "cell_type": "code",
   "execution_count": 138,
   "outputs": [
    {
     "data": {
      "text/plain": "       availability    total_sqft          bath       balcony         price  \\\ncount  10695.000000  10695.000000  10695.000000  10695.000000  10695.000000   \nmean       0.794764   1558.165960      2.686489      1.600842    112.223306   \nstd        0.403893   1270.180475      1.352076      0.806336    142.204142   \nmin        0.000000      1.000000      1.000000      0.000000      8.000000   \n25%        1.000000   1100.000000      2.000000      1.000000     50.000000   \n50%        1.000000   1275.000000      2.000000      2.000000     72.000000   \n75%        1.000000   1677.500000      3.000000      2.000000    120.000000   \nmax        1.000000  52272.000000     40.000000      3.000000   2700.000000   \n\n                BHK  1st Block Jayanagar  1st Phase JP Nagar  \\\ncount  10695.000000         10695.000000        10695.000000   \nmean       2.800000             0.001216            0.001964   \nstd        1.311114             0.034845            0.044270   \nmin        1.000000             0.000000            0.000000   \n25%        2.000000             0.000000            0.000000   \n50%        3.000000             0.000000            0.000000   \n75%        3.000000             0.000000            0.000000   \nmax       43.000000             1.000000            1.000000   \n\n       2nd Stage Nagarbhavi  5th Phase JP Nagar  ...     Yelahanka  \\\ncount          10695.000000        10695.000000  ...  10695.000000   \nmean               0.001590            0.002525  ...      0.015521   \nstd                0.039839            0.050184  ...      0.123620   \nmin                0.000000            0.000000  ...      0.000000   \n25%                0.000000            0.000000  ...      0.000000   \n50%                0.000000            0.000000  ...      0.000000   \n75%                0.000000            0.000000  ...      0.000000   \nmax                1.000000            1.000000  ...      1.000000   \n\n       Yelahanka New Town   Yelenahalli  Yeshwanthpur         other  \\\ncount        10695.000000  10695.000000  10695.000000  10695.000000   \nmean             0.002899      0.001029      0.006545      0.227863   \nstd              0.053763      0.032056      0.080640      0.419474   \nmin              0.000000      0.000000      0.000000      0.000000   \n25%              0.000000      0.000000      0.000000      0.000000   \n50%              0.000000      0.000000      0.000000      0.000000   \n75%              0.000000      0.000000      0.000000      0.000000   \nmax              1.000000      1.000000      1.000000      1.000000   \n\n       Built-up  Area  Carpet  Area    Plot  Area  Super built-up  Area  \\\ncount    10696.000000  10696.000000  10696.000000          10696.000000   \nmean         0.180722      0.006545      0.155011              0.657629   \nstd          0.384805      0.080637      0.361932              0.474525   \nmin          0.000000      0.000000      0.000000              0.000000   \n25%          0.000000      0.000000      0.000000              0.000000   \n50%          0.000000      0.000000      0.000000              1.000000   \n75%          0.000000      0.000000      0.000000              1.000000   \nmax          1.000000      1.000000      1.000000              1.000000   \n\n       price_per_sqft  \ncount    1.069500e+04  \nmean     8.196068e+03  \nstd      1.185009e+05  \nmin      2.678298e+02  \n25%      4.273885e+03  \n50%      5.461847e+03  \n75%      7.350427e+03  \nmax      1.200000e+07  \n\n[8 rows x 238 columns]",
      "text/html": "<div>\n<style scoped>\n    .dataframe tbody tr th:only-of-type {\n        vertical-align: middle;\n    }\n\n    .dataframe tbody tr th {\n        vertical-align: top;\n    }\n\n    .dataframe thead th {\n        text-align: right;\n    }\n</style>\n<table border=\"1\" class=\"dataframe\">\n  <thead>\n    <tr style=\"text-align: right;\">\n      <th></th>\n      <th>availability</th>\n      <th>total_sqft</th>\n      <th>bath</th>\n      <th>balcony</th>\n      <th>price</th>\n      <th>BHK</th>\n      <th>1st Block Jayanagar</th>\n      <th>1st Phase JP Nagar</th>\n      <th>2nd Stage Nagarbhavi</th>\n      <th>5th Phase JP Nagar</th>\n      <th>...</th>\n      <th>Yelahanka</th>\n      <th>Yelahanka New Town</th>\n      <th>Yelenahalli</th>\n      <th>Yeshwanthpur</th>\n      <th>other</th>\n      <th>Built-up  Area</th>\n      <th>Carpet  Area</th>\n      <th>Plot  Area</th>\n      <th>Super built-up  Area</th>\n      <th>price_per_sqft</th>\n    </tr>\n  </thead>\n  <tbody>\n    <tr>\n      <th>count</th>\n      <td>10695.000000</td>\n      <td>10695.000000</td>\n      <td>10695.000000</td>\n      <td>10695.000000</td>\n      <td>10695.000000</td>\n      <td>10695.000000</td>\n      <td>10695.000000</td>\n      <td>10695.000000</td>\n      <td>10695.000000</td>\n      <td>10695.000000</td>\n      <td>...</td>\n      <td>10695.000000</td>\n      <td>10695.000000</td>\n      <td>10695.000000</td>\n      <td>10695.000000</td>\n      <td>10695.000000</td>\n      <td>10696.000000</td>\n      <td>10696.000000</td>\n      <td>10696.000000</td>\n      <td>10696.000000</td>\n      <td>1.069500e+04</td>\n    </tr>\n    <tr>\n      <th>mean</th>\n      <td>0.794764</td>\n      <td>1558.165960</td>\n      <td>2.686489</td>\n      <td>1.600842</td>\n      <td>112.223306</td>\n      <td>2.800000</td>\n      <td>0.001216</td>\n      <td>0.001964</td>\n      <td>0.001590</td>\n      <td>0.002525</td>\n      <td>...</td>\n      <td>0.015521</td>\n      <td>0.002899</td>\n      <td>0.001029</td>\n      <td>0.006545</td>\n      <td>0.227863</td>\n      <td>0.180722</td>\n      <td>0.006545</td>\n      <td>0.155011</td>\n      <td>0.657629</td>\n      <td>8.196068e+03</td>\n    </tr>\n    <tr>\n      <th>std</th>\n      <td>0.403893</td>\n      <td>1270.180475</td>\n      <td>1.352076</td>\n      <td>0.806336</td>\n      <td>142.204142</td>\n      <td>1.311114</td>\n      <td>0.034845</td>\n      <td>0.044270</td>\n      <td>0.039839</td>\n      <td>0.050184</td>\n      <td>...</td>\n      <td>0.123620</td>\n      <td>0.053763</td>\n      <td>0.032056</td>\n      <td>0.080640</td>\n      <td>0.419474</td>\n      <td>0.384805</td>\n      <td>0.080637</td>\n      <td>0.361932</td>\n      <td>0.474525</td>\n      <td>1.185009e+05</td>\n    </tr>\n    <tr>\n      <th>min</th>\n      <td>0.000000</td>\n      <td>1.000000</td>\n      <td>1.000000</td>\n      <td>0.000000</td>\n      <td>8.000000</td>\n      <td>1.000000</td>\n      <td>0.000000</td>\n      <td>0.000000</td>\n      <td>0.000000</td>\n      <td>0.000000</td>\n      <td>...</td>\n      <td>0.000000</td>\n      <td>0.000000</td>\n      <td>0.000000</td>\n      <td>0.000000</td>\n      <td>0.000000</td>\n      <td>0.000000</td>\n      <td>0.000000</td>\n      <td>0.000000</td>\n      <td>0.000000</td>\n      <td>2.678298e+02</td>\n    </tr>\n    <tr>\n      <th>25%</th>\n      <td>1.000000</td>\n      <td>1100.000000</td>\n      <td>2.000000</td>\n      <td>1.000000</td>\n      <td>50.000000</td>\n      <td>2.000000</td>\n      <td>0.000000</td>\n      <td>0.000000</td>\n      <td>0.000000</td>\n      <td>0.000000</td>\n      <td>...</td>\n      <td>0.000000</td>\n      <td>0.000000</td>\n      <td>0.000000</td>\n      <td>0.000000</td>\n      <td>0.000000</td>\n      <td>0.000000</td>\n      <td>0.000000</td>\n      <td>0.000000</td>\n      <td>0.000000</td>\n      <td>4.273885e+03</td>\n    </tr>\n    <tr>\n      <th>50%</th>\n      <td>1.000000</td>\n      <td>1275.000000</td>\n      <td>2.000000</td>\n      <td>2.000000</td>\n      <td>72.000000</td>\n      <td>3.000000</td>\n      <td>0.000000</td>\n      <td>0.000000</td>\n      <td>0.000000</td>\n      <td>0.000000</td>\n      <td>...</td>\n      <td>0.000000</td>\n      <td>0.000000</td>\n      <td>0.000000</td>\n      <td>0.000000</td>\n      <td>0.000000</td>\n      <td>0.000000</td>\n      <td>0.000000</td>\n      <td>0.000000</td>\n      <td>1.000000</td>\n      <td>5.461847e+03</td>\n    </tr>\n    <tr>\n      <th>75%</th>\n      <td>1.000000</td>\n      <td>1677.500000</td>\n      <td>3.000000</td>\n      <td>2.000000</td>\n      <td>120.000000</td>\n      <td>3.000000</td>\n      <td>0.000000</td>\n      <td>0.000000</td>\n      <td>0.000000</td>\n      <td>0.000000</td>\n      <td>...</td>\n      <td>0.000000</td>\n      <td>0.000000</td>\n      <td>0.000000</td>\n      <td>0.000000</td>\n      <td>0.000000</td>\n      <td>0.000000</td>\n      <td>0.000000</td>\n      <td>0.000000</td>\n      <td>1.000000</td>\n      <td>7.350427e+03</td>\n    </tr>\n    <tr>\n      <th>max</th>\n      <td>1.000000</td>\n      <td>52272.000000</td>\n      <td>40.000000</td>\n      <td>3.000000</td>\n      <td>2700.000000</td>\n      <td>43.000000</td>\n      <td>1.000000</td>\n      <td>1.000000</td>\n      <td>1.000000</td>\n      <td>1.000000</td>\n      <td>...</td>\n      <td>1.000000</td>\n      <td>1.000000</td>\n      <td>1.000000</td>\n      <td>1.000000</td>\n      <td>1.000000</td>\n      <td>1.000000</td>\n      <td>1.000000</td>\n      <td>1.000000</td>\n      <td>1.000000</td>\n      <td>1.200000e+07</td>\n    </tr>\n  </tbody>\n</table>\n<p>8 rows × 238 columns</p>\n</div>"
     },
     "execution_count": 138,
     "metadata": {},
     "output_type": "execute_result"
    }
   ],
   "source": [
    "train_data.describe()"
   ],
   "metadata": {
    "collapsed": false,
    "pycharm": {
     "name": "#%%\n"
    }
   }
  },
  {
   "cell_type": "code",
   "execution_count": 139,
   "outputs": [
    {
     "data": {
      "text/plain": "<AxesSubplot:>"
     },
     "execution_count": 139,
     "metadata": {},
     "output_type": "execute_result"
    },
    {
     "data": {
      "text/plain": "<Figure size 1152x432 with 1 Axes>",
      "image/png": "[encoded data removed]"
     },
     "metadata": {
      "needs_background": "light"
     },
     "output_type": "display_data"
    }
   ],
   "source": [
    "plt.figure(figsize=(16,6))\n",
    "pd.cut(train_data['total_sqft'], bins= [0, 1000, 2000, 3000, 4000, 5000, 6000, 7000, 8000, 9000, 10000, np.inf], labels=[0, 1000, 2000, 3000, 4000, 5000, 6000, 7000, 8000, 9000, 10000]).hist()"
   ],
   "metadata": {
    "collapsed": false,
    "pycharm": {
     "name": "#%%\n"
    }
   }
  },
  {
   "cell_type": "code",
   "execution_count": 140,
   "outputs": [
    {
     "data": {
      "text/plain": "<AxesSubplot:>"
     },
     "execution_count": 140,
     "metadata": {},
     "output_type": "execute_result"
    },
    {
     "data": {
      "text/plain": "<Figure size 432x288 with 1 Axes>",
      "image/png": "[encoded data removed]"
     },
     "metadata": {
      "needs_background": "light"
     },
     "output_type": "display_data"
    }
   ],
   "source": [
    "pd.cut(train_data['BHK'], bins=[0, 2, 4, 6, 8, 10, np.inf], labels=[0, 2, 4, 6, 8, 10]).hist()"
   ],
   "metadata": {
    "collapsed": false,
    "pycharm": {
     "name": "#%%\n"
    }
   }
  },
  {
   "cell_type": "code",
   "execution_count": 141,
   "outputs": [
    {
     "data": {
      "text/plain": "     area_type  availability       location  total_sqft  bath  balcony  price  \\\n9   Plot  Area           1.0          other      1020.0   6.0      2.0  370.0   \n45  Plot  Area           1.0     HSR Layout       600.0   9.0      2.0  200.0   \n58  Plot  Area           1.0  Murugeshpalya      1407.0   4.0      1.0  150.0   \n68  Plot  Area           1.0          other      1350.0   7.0      0.0   85.0   \n70  Plot  Area           1.0          other       500.0   3.0      2.0  100.0   \n\n    BHK  1st Block Jayanagar  1st Phase JP Nagar  ...  Yelahanka  \\\n9   6.0                  0.0                 0.0  ...        0.0   \n45  8.0                  0.0                 0.0  ...        0.0   \n58  6.0                  0.0                 0.0  ...        0.0   \n68  8.0                  0.0                 0.0  ...        0.0   \n70  3.0                  0.0                 0.0  ...        0.0   \n\n    Yelahanka New Town  Yelenahalli  Yeshwanthpur  other  Built-up  Area  \\\n9                  0.0          0.0           0.0    1.0               0   \n45                 0.0          0.0           0.0    0.0               0   \n58                 0.0          0.0           0.0    0.0               0   \n68                 0.0          0.0           0.0    1.0               0   \n70                 0.0          0.0           0.0    1.0               0   \n\n    Carpet  Area  Plot  Area  Super built-up  Area  price_per_sqft  \n9              0           1                     0    36274.509804  \n45             0           1                     0    33333.333333  \n58             0           1                     0    10660.980810  \n68             0           1                     0     6296.296296  \n70             0           1                     0    20000.000000  \n\n[5 rows x 240 columns]",
      "text/html": "<div>\n<style scoped>\n    .dataframe tbody tr th:only-of-type {\n        vertical-align: middle;\n    }\n\n    .dataframe tbody tr th {\n        vertical-align: top;\n    }\n\n    .dataframe thead th {\n        text-align: right;\n    }\n</style>\n<table border=\"1\" class=\"dataframe\">\n  <thead>\n    <tr style=\"text-align: right;\">\n      <th></th>\n      <th>area_type</th>\n      <th>availability</th>\n      <th>location</th>\n      <th>total_sqft</th>\n      <th>bath</th>\n      <th>balcony</th>\n      <th>price</th>\n      <th>BHK</th>\n      <th>1st Block Jayanagar</th>\n      <th>1st Phase JP Nagar</th>\n      <th>...</th>\n      <th>Yelahanka</th>\n      <th>Yelahanka New Town</th>\n      <th>Yelenahalli</th>\n      <th>Yeshwanthpur</th>\n      <th>other</th>\n      <th>Built-up  Area</th>\n      <th>Carpet  Area</th>\n      <th>Plot  Area</th>\n      <th>Super built-up  Area</th>\n      <th>price_per_sqft</th>\n    </tr>\n  </thead>\n  <tbody>\n    <tr>\n      <th>9</th>\n      <td>Plot  Area</td>\n      <td>1.0</td>\n      <td>other</td>\n      <td>1020.0</td>\n      <td>6.0</td>\n      <td>2.0</td>\n      <td>370.0</td>\n      <td>6.0</td>\n      <td>0.0</td>\n      <td>0.0</td>\n      <td>...</td>\n      <td>0.0</td>\n      <td>0.0</td>\n      <td>0.0</td>\n      <td>0.0</td>\n      <td>1.0</td>\n      <td>0</td>\n      <td>0</td>\n      <td>1</td>\n      <td>0</td>\n      <td>36274.509804</td>\n    </tr>\n    <tr>\n      <th>45</th>\n      <td>Plot  Area</td>\n      <td>1.0</td>\n      <td>HSR Layout</td>\n      <td>600.0</td>\n      <td>9.0</td>\n      <td>2.0</td>\n      <td>200.0</td>\n      <td>8.0</td>\n      <td>0.0</td>\n      <td>0.0</td>\n      <td>...</td>\n      <td>0.0</td>\n      <td>0.0</td>\n      <td>0.0</td>\n      <td>0.0</td>\n      <td>0.0</td>\n      <td>0</td>\n      <td>0</td>\n      <td>1</td>\n      <td>0</td>\n      <td>33333.333333</td>\n    </tr>\n    <tr>\n      <th>58</th>\n      <td>Plot  Area</td>\n      <td>1.0</td>\n      <td>Murugeshpalya</td>\n      <td>1407.0</td>\n      <td>4.0</td>\n      <td>1.0</td>\n      <td>150.0</td>\n      <td>6.0</td>\n      <td>0.0</td>\n      <td>0.0</td>\n      <td>...</td>\n      <td>0.0</td>\n      <td>0.0</td>\n      <td>0.0</td>\n      <td>0.0</td>\n      <td>0.0</td>\n      <td>0</td>\n      <td>0</td>\n      <td>1</td>\n      <td>0</td>\n      <td>10660.980810</td>\n    </tr>\n    <tr>\n      <th>68</th>\n      <td>Plot  Area</td>\n      <td>1.0</td>\n      <td>other</td>\n      <td>1350.0</td>\n      <td>7.0</td>\n      <td>0.0</td>\n      <td>85.0</td>\n      <td>8.0</td>\n      <td>0.0</td>\n      <td>0.0</td>\n      <td>...</td>\n      <td>0.0</td>\n      <td>0.0</td>\n      <td>0.0</td>\n      <td>0.0</td>\n      <td>1.0</td>\n      <td>0</td>\n      <td>0</td>\n      <td>1</td>\n      <td>0</td>\n      <td>6296.296296</td>\n    </tr>\n    <tr>\n      <th>70</th>\n      <td>Plot  Area</td>\n      <td>1.0</td>\n      <td>other</td>\n      <td>500.0</td>\n      <td>3.0</td>\n      <td>2.0</td>\n      <td>100.0</td>\n      <td>3.0</td>\n      <td>0.0</td>\n      <td>0.0</td>\n      <td>...</td>\n      <td>0.0</td>\n      <td>0.0</td>\n      <td>0.0</td>\n      <td>0.0</td>\n      <td>1.0</td>\n      <td>0</td>\n      <td>0</td>\n      <td>1</td>\n      <td>0</td>\n      <td>20000.000000</td>\n    </tr>\n  </tbody>\n</table>\n<p>5 rows × 240 columns</p>\n</div>"
     },
     "execution_count": 141,
     "metadata": {},
     "output_type": "execute_result"
    }
   ],
   "source": [
    "train_data[train_data.total_sqft / train_data.BHK < 300].head()"
   ],
   "metadata": {
    "collapsed": false,
    "pycharm": {
     "name": "#%%\n"
    }
   }
  },
  {
   "cell_type": "code",
   "execution_count": 142,
   "outputs": [
    {
     "data": {
      "text/plain": "<Figure size 1440x576 with 1 Axes>",
      "image/png": "[encoded data removed]"
     },
     "metadata": {
      "needs_background": "light"
     },
     "output_type": "display_data"
    }
   ],
   "source": [
    "plt.figure(figsize=(20,8))\n",
    "cond2 = ((train_data.location == 'Whitefield') & (train_data.BHK == 2))\n",
    "cond3 = ((train_data.location == 'Whitefield') & (train_data.BHK == 3))\n",
    "plt.scatter(train_data.loc[cond2, 'total_sqft'], train_data.loc[cond2, 'price'], marker ='+', color='red')\n",
    "plt.scatter(train_data.loc[cond3, 'total_sqft'], train_data.loc[cond3, 'price'], marker ='*', color='green')\n",
    "plt.show()"
   ],
   "metadata": {
    "collapsed": false,
    "pycharm": {
     "name": "#%%\n"
    }
   }
  },
  {
   "cell_type": "code",
   "execution_count": 143,
   "outputs": [],
   "source": [
    "df1 = train_data[~(train_data.total_sqft / train_data.BHK < 300)]"
   ],
   "metadata": {
    "collapsed": false,
    "pycharm": {
     "name": "#%%\n"
    }
   }
  },
  {
   "cell_type": "code",
   "execution_count": 144,
   "outputs": [
    {
     "data": {
      "text/plain": "(10086, 240)"
     },
     "execution_count": 144,
     "metadata": {},
     "output_type": "execute_result"
    }
   ],
   "source": [
    "df1.shape"
   ],
   "metadata": {
    "collapsed": false,
    "pycharm": {
     "name": "#%%\n"
    }
   }
  },
  {
   "cell_type": "code",
   "execution_count": 145,
   "outputs": [
    {
     "data": {
      "text/plain": "count     10085.000000\nmean       6314.307681\nstd        4214.403925\nmin         267.829813\n25%        4210.526316\n50%        5307.796610\n75%        6938.483548\nmax      176470.588235\nName: price_per_sqft, dtype: float64"
     },
     "execution_count": 145,
     "metadata": {},
     "output_type": "execute_result"
    }
   ],
   "source": [
    "df1.price_per_sqft.describe()"
   ],
   "metadata": {
    "collapsed": false,
    "pycharm": {
     "name": "#%%\n"
    }
   }
  },
  {
   "cell_type": "code",
   "execution_count": 146,
   "outputs": [],
   "source": [
    "def remove_price_per_sqft_outliers(df):\n",
    "    df_out = pd.DataFrame()\n",
    "    for key, subdf in df.groupby('location'):\n",
    "        m = np.mean(subdf.price_per_sqft)\n",
    "        st = np.std(subdf.price_per_sqft)\n",
    "        reduced_df = subdf[(subdf.price_per_sqft>(m-st)) & (subdf.price_per_sqft<=(m+st))]\n",
    "        df_out = pd.concat([df_out,reduced_df],ignore_index=True)\n",
    "    return df_out"
   ],
   "metadata": {
    "collapsed": false,
    "pycharm": {
     "name": "#%%\n"
    }
   }
  },
  {
   "cell_type": "code",
   "execution_count": 147,
   "outputs": [],
   "source": [
    "df2 = remove_price_per_sqft_outliers(df1)"
   ],
   "metadata": {
    "collapsed": false,
    "pycharm": {
     "name": "#%%\n"
    }
   }
  },
  {
   "cell_type": "code",
   "execution_count": 148,
   "outputs": [
    {
     "data": {
      "text/plain": "(8291, 240)"
     },
     "execution_count": 148,
     "metadata": {},
     "output_type": "execute_result"
    }
   ],
   "source": [
    "df2.shape"
   ],
   "metadata": {
    "collapsed": false,
    "pycharm": {
     "name": "#%%\n"
    }
   }
  },
  {
   "cell_type": "code",
   "execution_count": 149,
   "outputs": [],
   "source": [
    "df3 = df2.drop(['location','area_type'],axis=1)"
   ],
   "metadata": {
    "collapsed": false,
    "pycharm": {
     "name": "#%%\n"
    }
   }
  },
  {
   "cell_type": "code",
   "execution_count": 150,
   "outputs": [
    {
     "name": "stdout",
     "output_type": "stream",
     "text": [
      "<class 'pandas.core.frame.DataFrame'>\n",
      "RangeIndex: 8291 entries, 0 to 8290\n",
      "Columns: 238 entries, availability to price_per_sqft\n",
      "dtypes: float64(234), uint8(4)\n",
      "memory usage: 14.8 MB\n"
     ]
    }
   ],
   "source": [
    "df3.info()"
   ],
   "metadata": {
    "collapsed": false,
    "pycharm": {
     "name": "#%%\n"
    }
   }
  },
  {
   "cell_type": "code",
   "execution_count": 151,
   "outputs": [],
   "source": [
    "train_data = df3.copy()"
   ],
   "metadata": {
    "collapsed": false,
    "pycharm": {
     "name": "#%%\n"
    }
   }
  },
  {
   "cell_type": "code",
   "execution_count": 152,
   "outputs": [
    {
     "data": {
      "text/plain": "0"
     },
     "execution_count": 152,
     "metadata": {},
     "output_type": "execute_result"
    }
   ],
   "source": [
    "train_data.isna().sum().sum()"
   ],
   "metadata": {
    "collapsed": false,
    "pycharm": {
     "name": "#%%\n"
    }
   }
  },
  {
   "cell_type": "code",
   "execution_count": 158,
   "outputs": [],
   "source": [
    "train_data.drop('price_per_sqft',axis=1,inplace=True)"
   ],
   "metadata": {
    "collapsed": false,
    "pycharm": {
     "name": "#%%\n"
    }
   }
  },
  {
   "cell_type": "code",
   "execution_count": 159,
   "outputs": [],
   "source": [
    "X = train_data.drop('price', axis=1)\n",
    "y = train_data.price"
   ],
   "metadata": {
    "collapsed": false,
    "pycharm": {
     "name": "#%%\n"
    }
   }
  },
  {
   "cell_type": "code",
   "execution_count": 159,
   "outputs": [],
   "source": [],
   "metadata": {
    "collapsed": false,
    "pycharm": {
     "name": "#%%\n"
    }
   }
  },
  {
   "cell_type": "code",
   "execution_count": 160,
   "outputs": [],
   "source": [
    "# from sklearn.model_selection import train_test_split\n",
    "# X_train,X_test,y_train,y_test = train_test_split(X,y,test_size=0.2,random_state=42)"
   ],
   "metadata": {
    "collapsed": false,
    "pycharm": {
     "name": "#%%\n"
    }
   }
  },
  {
   "cell_type": "code",
   "execution_count": 161,
   "outputs": [],
   "source": [
    "from sklearn.model_selection import cross_val_score\n",
    "from sklearn.linear_model import LinearRegression\n",
    "from sklearn.tree import DecisionTreeRegressor\n",
    "from sklearn.ensemble import RandomForestRegressor\n",
    "from sklearn.ensemble import GradientBoostingRegressor"
   ],
   "metadata": {
    "collapsed": false,
    "pycharm": {
     "name": "#%%\n"
    }
   }
  },
  {
   "cell_type": "code",
   "execution_count": 162,
   "outputs": [],
   "source": [
    "lr_model = LinearRegression()\n",
    "dct_model = DecisionTreeRegressor()\n",
    "rf_model = RandomForestRegressor()\n",
    "gbr_model = GradientBoostingRegressor()"
   ],
   "metadata": {
    "collapsed": false,
    "pycharm": {
     "name": "#%%\n"
    }
   }
  },
  {
   "cell_type": "code",
   "execution_count": 163,
   "outputs": [],
   "source": [
    "model = [lr_model,dct_model,rf_model,gbr_model]\n",
    "name = ['Linear Regression','Decision Tree','Random Forest','Gradient Boosting']"
   ],
   "metadata": {
    "collapsed": false,
    "pycharm": {
     "name": "#%%\n"
    }
   }
  },
  {
   "cell_type": "code",
   "execution_count": 166,
   "outputs": [
    {
     "name": "stdout",
     "output_type": "stream",
     "text": [
      "Linear Regression model score is ---> [0.54963602 0.69773335 0.67069153 0.64991572]\n",
      "--------------------------------------------------------------------\n",
      "Decision Tree model score is ---> [ 0.50299262  0.4896792   0.33018047 -0.59060291]\n",
      "--------------------------------------------------------------------\n",
      "Random Forest model score is ---> [0.5580715  0.63398903 0.61773923 0.41390452]\n",
      "--------------------------------------------------------------------\n",
      "Gradient Boosting model score is ---> [0.56267742 0.66649766 0.67874623 0.40523404]\n",
      "--------------------------------------------------------------------\n"
     ]
    }
   ],
   "source": [
    "for m,n in zip(model,name):\n",
    "    score = cross_val_score(m,X,y,cv=4)\n",
    "    print(f'{n} model score is ---> {score}')\n",
    "    print('--------------------------------------------------------------------')"
   ],
   "metadata": {
    "collapsed": false,
    "pycharm": {
     "name": "#%%\n"
    }
   }
  },
  {
   "cell_type": "code",
   "execution_count": 51,
   "outputs": [
    {
     "data": {
      "text/plain": "array([0.98625321, 0.91852952, 0.98799579])"
     },
     "execution_count": 51,
     "metadata": {},
     "output_type": "execute_result"
    }
   ],
   "source": [
    "cross_val_score(GradientBoostingRegressor(),X_train,y_train,cv=3)"
   ],
   "metadata": {
    "collapsed": false,
    "pycharm": {
     "name": "#%%\n"
    }
   }
  },
  {
   "cell_type": "code",
   "execution_count": 52,
   "outputs": [],
   "source": [
    "rf_model = RandomForestRegressor()\n",
    "gb_model = GradientBoostingRegressor()"
   ],
   "metadata": {
    "collapsed": false,
    "pycharm": {
     "name": "#%%\n"
    }
   }
  },
  {
   "cell_type": "code",
   "execution_count": 53,
   "outputs": [
    {
     "data": {
      "text/plain": "GradientBoostingRegressor()"
     },
     "execution_count": 53,
     "metadata": {},
     "output_type": "execute_result"
    }
   ],
   "source": [
    "rf_model.fit(X_train,y_train)\n",
    "gb_model.fit(X_train,y_train)"
   ],
   "metadata": {
    "collapsed": false,
    "pycharm": {
     "name": "#%%\n"
    }
   }
  },
  {
   "cell_type": "code",
   "execution_count": 54,
   "outputs": [
    {
     "data": {
      "text/plain": "0.9551942903447715"
     },
     "execution_count": 54,
     "metadata": {},
     "output_type": "execute_result"
    }
   ],
   "source": [
    "rf_model.score(X_test,y_test)"
   ],
   "metadata": {
    "collapsed": false,
    "pycharm": {
     "name": "#%%\n"
    }
   }
  },
  {
   "cell_type": "code",
   "execution_count": 55,
   "outputs": [
    {
     "data": {
      "text/plain": "0.97989653160786"
     },
     "execution_count": 55,
     "metadata": {},
     "output_type": "execute_result"
    }
   ],
   "source": [
    "gb_model.score(X_test,y_test)"
   ],
   "metadata": {
    "collapsed": false,
    "pycharm": {
     "name": "#%%\n"
    }
   }
  },
  {
   "cell_type": "code",
   "execution_count": null,
   "outputs": [],
   "source": [],
   "metadata": {
    "collapsed": false,
    "pycharm": {
     "name": "#%%\n"
    }
   }
  }
 ],
 "metadata": {
  "kernelspec": {
   "display_name": "Python 3",
   "language": "python",
   "name": "python3"
  },
  "language_info": {
   "codemirror_mode": {
    "name": "ipython",
    "version": 2
   },
   "file_extension": ".py",
   "mimetype": "text/x-python",
   "name": "python",
   "nbconvert_exporter": "python",
   "pygments_lexer": "ipython2",
   "version": "2.7.6"
  }
 },
 "nbformat": 4,
 "nbformat_minor": 0
}