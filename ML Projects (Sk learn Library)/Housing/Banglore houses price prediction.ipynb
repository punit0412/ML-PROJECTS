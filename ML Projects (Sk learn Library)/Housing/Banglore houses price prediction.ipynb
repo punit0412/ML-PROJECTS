{
 "cells": [
  {
   "cell_type": "code",
   "execution_count": 160,
   "metadata": {
    "collapsed": true,
    "pycharm": {
     "name": "#%%\n"
    }
   },
   "outputs": [],
   "source": [
    "import pandas as pd\n",
    "import numpy as np\n",
    "import matplotlib.pyplot as plt\n",
    "import seaborn as sns"
   ]
  },
  {
   "cell_type": "code",
   "execution_count": 161,
   "outputs": [],
   "source": [
    "train_data = pd.read_csv(\"D:\\\\Datasets\\\\banglore housing data\\\\train_data.csv\")"
   ],
   "metadata": {
    "collapsed": false,
    "pycharm": {
     "name": "#%%\n"
    }
   }
  },
  {
   "cell_type": "code",
   "execution_count": 162,
   "outputs": [
    {
     "data": {
      "text/plain": "     house_id             area_type   availability             location  \\\n0  house_9442  Super built-up  Area  Ready To Move             Abbigere   \n1  house_2578  Super built-up  Area  Ready To Move          Mallasandra   \n2  house_8279  Super built-up  Area  Ready To Move  Sector 2 HSR Layout   \n3  house_1584  Super built-up  Area         19-Dec                Hoodi   \n4  house_4516            Plot  Area  Ready To Move        RMV 2nd Stage   \n\n        size  society total_sqft  bath  balcony   price  \n0      2 BHK  SLtias         795   2.0      1.0   32.54  \n1      2 BHK      NaN       1340   2.0      2.0   61.00  \n2      3 BHK  NDpalSe       1512   3.0      NaN   80.00  \n3      3 BHK  Caycend       1512   3.0      2.0   75.77  \n4  3 Bedroom      NaN       4470   3.0      NaN  700.00  ",
      "text/html": "<div>\n<style scoped>\n    .dataframe tbody tr th:only-of-type {\n        vertical-align: middle;\n    }\n\n    .dataframe tbody tr th {\n        vertical-align: top;\n    }\n\n    .dataframe thead th {\n        text-align: right;\n    }\n</style>\n<table border=\"1\" class=\"dataframe\">\n  <thead>\n    <tr style=\"text-align: right;\">\n      <th></th>\n      <th>house_id</th>\n      <th>area_type</th>\n      <th>availability</th>\n      <th>location</th>\n      <th>size</th>\n      <th>society</th>\n      <th>total_sqft</th>\n      <th>bath</th>\n      <th>balcony</th>\n      <th>price</th>\n    </tr>\n  </thead>\n  <tbody>\n    <tr>\n      <th>0</th>\n      <td>house_9442</td>\n      <td>Super built-up  Area</td>\n      <td>Ready To Move</td>\n      <td>Abbigere</td>\n      <td>2 BHK</td>\n      <td>SLtias</td>\n      <td>795</td>\n      <td>2.0</td>\n      <td>1.0</td>\n      <td>32.54</td>\n    </tr>\n    <tr>\n      <th>1</th>\n      <td>house_2578</td>\n      <td>Super built-up  Area</td>\n      <td>Ready To Move</td>\n      <td>Mallasandra</td>\n      <td>2 BHK</td>\n      <td>NaN</td>\n      <td>1340</td>\n      <td>2.0</td>\n      <td>2.0</td>\n      <td>61.00</td>\n    </tr>\n    <tr>\n      <th>2</th>\n      <td>house_8279</td>\n      <td>Super built-up  Area</td>\n      <td>Ready To Move</td>\n      <td>Sector 2 HSR Layout</td>\n      <td>3 BHK</td>\n      <td>NDpalSe</td>\n      <td>1512</td>\n      <td>3.0</td>\n      <td>NaN</td>\n      <td>80.00</td>\n    </tr>\n    <tr>\n      <th>3</th>\n      <td>house_1584</td>\n      <td>Super built-up  Area</td>\n      <td>19-Dec</td>\n      <td>Hoodi</td>\n      <td>3 BHK</td>\n      <td>Caycend</td>\n      <td>1512</td>\n      <td>3.0</td>\n      <td>2.0</td>\n      <td>75.77</td>\n    </tr>\n    <tr>\n      <th>4</th>\n      <td>house_4516</td>\n      <td>Plot  Area</td>\n      <td>Ready To Move</td>\n      <td>RMV 2nd Stage</td>\n      <td>3 Bedroom</td>\n      <td>NaN</td>\n      <td>4470</td>\n      <td>3.0</td>\n      <td>NaN</td>\n      <td>700.00</td>\n    </tr>\n  </tbody>\n</table>\n</div>"
     },
     "execution_count": 162,
     "metadata": {},
     "output_type": "execute_result"
    }
   ],
   "source": [
    "train_data.head()"
   ],
   "metadata": {
    "collapsed": false,
    "pycharm": {
     "name": "#%%\n"
    }
   }
  },
  {
   "cell_type": "code",
   "execution_count": 163,
   "outputs": [
    {
     "data": {
      "text/plain": "(10656, 10)"
     },
     "execution_count": 163,
     "metadata": {},
     "output_type": "execute_result"
    }
   ],
   "source": [
    "train_data.shape"
   ],
   "metadata": {
    "collapsed": false,
    "pycharm": {
     "name": "#%%\n"
    }
   }
  },
  {
   "cell_type": "code",
   "execution_count": 164,
   "outputs": [
    {
     "name": "stdout",
     "output_type": "stream",
     "text": [
      "<class 'pandas.core.frame.DataFrame'>\n",
      "RangeIndex: 10656 entries, 0 to 10655\n",
      "Data columns (total 10 columns):\n",
      " #   Column        Non-Null Count  Dtype  \n",
      "---  ------        --------------  -----  \n",
      " 0   house_id      10656 non-null  object \n",
      " 1   area_type     10656 non-null  object \n",
      " 2   availability  10656 non-null  object \n",
      " 3   location      10656 non-null  object \n",
      " 4   size          10640 non-null  object \n",
      " 5   society       6253 non-null   object \n",
      " 6   total_sqft    10656 non-null  object \n",
      " 7   bath          10596 non-null  float64\n",
      " 8   balcony       10189 non-null  float64\n",
      " 9   price         10656 non-null  float64\n",
      "dtypes: float64(3), object(7)\n",
      "memory usage: 832.6+ KB\n"
     ]
    }
   ],
   "source": [
    "train_data.info()"
   ],
   "metadata": {
    "collapsed": false,
    "pycharm": {
     "name": "#%%\n"
    }
   }
  },
  {
   "cell_type": "code",
   "execution_count": 165,
   "outputs": [],
   "source": [
    "train_data.drop('society',axis=1,inplace=True)"
   ],
   "metadata": {
    "collapsed": false,
    "pycharm": {
     "name": "#%%\n"
    }
   }
  },
  {
   "cell_type": "code",
   "execution_count": 166,
   "outputs": [
    {
     "data": {
      "text/plain": "<Figure size 432x432 with 1 Axes>",
      "image/png": "[encoded data removed]"
     },
     "metadata": {
      "needs_background": "light"
     },
     "output_type": "display_data"
    }
   ],
   "source": [
    "plt.figure(figsize=(6,6))\n",
    "plt.hist(train_data['area_type'])\n",
    "plt.show()"
   ],
   "metadata": {
    "collapsed": false,
    "pycharm": {
     "name": "#%%\n"
    }
   }
  },
  {
   "cell_type": "code",
   "execution_count": 167,
   "outputs": [
    {
     "data": {
      "text/plain": "Ready To Move    8451\n18-Dec            256\n18-May            246\n18-Apr            211\n18-Aug            153\n                 ... \n15-Jun              1\n17-Jan              1\n15-Dec              1\n14-Nov              1\n17-Feb              1\nName: availability, Length: 75, dtype: int64"
     },
     "execution_count": 167,
     "metadata": {},
     "output_type": "execute_result"
    }
   ],
   "source": [
    "train_data['availability'].value_counts()"
   ],
   "metadata": {
    "collapsed": false,
    "pycharm": {
     "name": "#%%\n"
    }
   }
  },
  {
   "cell_type": "code",
   "execution_count": 168,
   "outputs": [],
   "source": [
    "train_data['availability'] = train_data['availability'].apply(lambda x : 1 if x == 'Ready To Move' else 0)"
   ],
   "metadata": {
    "collapsed": false,
    "pycharm": {
     "name": "#%%\n"
    }
   }
  },
  {
   "cell_type": "code",
   "execution_count": 169,
   "outputs": [],
   "source": [
    "def convert_to_bedroom(x):\n",
    "    s = str(x).split(' ')[0]\n",
    "    return s"
   ],
   "metadata": {
    "collapsed": false,
    "pycharm": {
     "name": "#%%\n"
    }
   }
  },
  {
   "cell_type": "code",
   "execution_count": 170,
   "outputs": [],
   "source": [
    "train_data['BHK'] = train_data['size'].apply(convert_to_bedroom)"
   ],
   "metadata": {
    "collapsed": false,
    "pycharm": {
     "name": "#%%\n"
    }
   }
  },
  {
   "cell_type": "code",
   "execution_count": 171,
   "outputs": [],
   "source": [
    "a = train_data['BHK'].mode().iloc[0]\n",
    "train_data['BHK'] = train_data['BHK'].apply(lambda x: a if x == 'nan' else x)\n",
    "train_data['BHK'] = train_data['BHK'].apply(lambda x: float(x))"
   ],
   "metadata": {
    "collapsed": false,
    "pycharm": {
     "name": "#%%\n"
    }
   }
  },
  {
   "cell_type": "code",
   "execution_count": 172,
   "outputs": [],
   "source": [
    "def is_float(x):\n",
    "    try:\n",
    "        float(x)\n",
    "    except:\n",
    "        return False\n",
    "    return True"
   ],
   "metadata": {
    "collapsed": false,
    "pycharm": {
     "name": "#%%\n"
    }
   }
  },
  {
   "cell_type": "code",
   "execution_count": 173,
   "outputs": [
    {
     "data": {
      "text/plain": "26       547.34 - 827.31\n119          1200 - 2400\n131          1100 - 1225\n167          1660 - 1805\n251          2830 - 2882\n              ...       \n10529          520 - 645\n10577        1255 - 1350\n10579        1020 - 1130\n10635        2800 - 2870\n10650          615 - 985\nName: total_sqft, Length: 204, dtype: object"
     },
     "execution_count": 173,
     "metadata": {},
     "output_type": "execute_result"
    }
   ],
   "source": [
    "train_data['total_sqft'][~train_data['total_sqft'].apply(is_float)]"
   ],
   "metadata": {
    "collapsed": false,
    "pycharm": {
     "name": "#%%\n"
    }
   }
  },
  {
   "cell_type": "code",
   "execution_count": 174,
   "outputs": [],
   "source": [
    "def conversion(data):\n",
    "    a = data.split('-')\n",
    "    if len(a) == 2:\n",
    "        return (float(a[0]) + float(a[1])) / 2\n",
    "    try:\n",
    "        return float(data)\n",
    "    except:\n",
    "        return None"
   ],
   "metadata": {
    "collapsed": false,
    "pycharm": {
     "name": "#%%\n"
    }
   }
  },
  {
   "cell_type": "code",
   "execution_count": 175,
   "outputs": [
    {
     "name": "stdout",
     "output_type": "stream",
     "text": [
      "<class 'pandas.core.series.Series'>\n",
      "RangeIndex: 10656 entries, 0 to 10655\n",
      "Series name: total_sqft\n",
      "Non-Null Count  Dtype  \n",
      "--------------  -----  \n",
      "10623 non-null  float64\n",
      "dtypes: float64(1)\n",
      "memory usage: 83.4 KB\n"
     ]
    }
   ],
   "source": [
    "\n",
    "train_data['total_sqft'] = train_data['total_sqft'].apply(conversion)\n",
    "train_data['total_sqft'].info()"
   ],
   "metadata": {
    "collapsed": false,
    "pycharm": {
     "name": "#%%\n"
    }
   }
  },
  {
   "cell_type": "code",
   "execution_count": 176,
   "outputs": [],
   "source": [
    "num_col = ['total_sqft','bath','balcony']"
   ],
   "metadata": {
    "collapsed": false,
    "pycharm": {
     "name": "#%%\n"
    }
   }
  },
  {
   "cell_type": "code",
   "execution_count": 177,
   "outputs": [],
   "source": [
    "from sklearn.impute import SimpleImputer\n",
    "\n",
    "imputer = SimpleImputer(strategy='median')\n",
    "train_data[num_col] = imputer.fit_transform(train_data[num_col])"
   ],
   "metadata": {
    "collapsed": false,
    "pycharm": {
     "name": "#%%\n"
    }
   }
  },
  {
   "cell_type": "code",
   "execution_count": 178,
   "outputs": [
    {
     "data": {
      "text/plain": "house_id         0\narea_type        0\navailability     0\nlocation         0\nsize            16\ntotal_sqft       0\nbath             0\nbalcony          0\nprice            0\nBHK              0\ndtype: int64"
     },
     "execution_count": 178,
     "metadata": {},
     "output_type": "execute_result"
    }
   ],
   "source": [
    "train_data.isna().sum()"
   ],
   "metadata": {
    "collapsed": false,
    "pycharm": {
     "name": "#%%\n"
    }
   }
  },
  {
   "cell_type": "code",
   "execution_count": 179,
   "outputs": [
    {
     "data": {
      "text/plain": "array(['Abbigere', 'Mallasandra', 'Sector 2 HSR Layout', ...,\n       'BDS Layout', 'Hoskote near', 'Kalasipalya'], dtype=object)"
     },
     "execution_count": 179,
     "metadata": {},
     "output_type": "execute_result"
    }
   ],
   "source": [
    "train_data['location'].unique()"
   ],
   "metadata": {
    "collapsed": false,
    "pycharm": {
     "name": "#%%\n"
    }
   }
  },
  {
   "cell_type": "code",
   "execution_count": 180,
   "outputs": [
    {
     "data": {
      "text/plain": "Kalasipalya                 1\nPrakruthi Township          1\nT C Palya main Road         1\nVijayabank bank layout      1\nWhitefield ECC Road         1\n                         ... \nThanisandra               184\nKanakpura Road            212\nElectronic City           246\nSarjapur  Road            318\nWhitefield                445\nName: location, Length: 1196, dtype: int64"
     },
     "execution_count": 180,
     "metadata": {},
     "output_type": "execute_result"
    }
   ],
   "source": [
    "train_data['location'].value_counts(ascending=True)"
   ],
   "metadata": {
    "collapsed": false,
    "pycharm": {
     "name": "#%%\n"
    }
   }
  },
  {
   "cell_type": "code",
   "execution_count": 181,
   "outputs": [],
   "source": [
    "location_value_less_than_10 = train_data.location.value_counts()[train_data.location.value_counts() < 10]\n",
    "train_data['location'] = train_data['location'].apply(lambda x: 'other' if x in location_value_less_than_10 else x)"
   ],
   "metadata": {
    "collapsed": false,
    "pycharm": {
     "name": "#%%\n"
    }
   }
  },
  {
   "cell_type": "code",
   "execution_count": 182,
   "outputs": [],
   "source": [
    "df = pd.DataFrame(train_data['location'].unique())"
   ],
   "metadata": {
    "collapsed": false,
    "pycharm": {
     "name": "#%%\n"
    }
   }
  },
  {
   "cell_type": "code",
   "execution_count": 183,
   "outputs": [
    {
     "data": {
      "text/plain": "                       0\n0               Abbigere\n1            Mallasandra\n2    Sector 2 HSR Layout\n3                  Hoodi\n4                  other\n..                   ...\n216      Cunningham Road\n217        Sarakki Nagar\n218          Kodigehaali\n219         Narayanapura\n220              Arekere\n\n[221 rows x 1 columns]",
      "text/html": "<div>\n<style scoped>\n    .dataframe tbody tr th:only-of-type {\n        vertical-align: middle;\n    }\n\n    .dataframe tbody tr th {\n        vertical-align: top;\n    }\n\n    .dataframe thead th {\n        text-align: right;\n    }\n</style>\n<table border=\"1\" class=\"dataframe\">\n  <thead>\n    <tr style=\"text-align: right;\">\n      <th></th>\n      <th>0</th>\n    </tr>\n  </thead>\n  <tbody>\n    <tr>\n      <th>0</th>\n      <td>Abbigere</td>\n    </tr>\n    <tr>\n      <th>1</th>\n      <td>Mallasandra</td>\n    </tr>\n    <tr>\n      <th>2</th>\n      <td>Sector 2 HSR Layout</td>\n    </tr>\n    <tr>\n      <th>3</th>\n      <td>Hoodi</td>\n    </tr>\n    <tr>\n      <th>4</th>\n      <td>other</td>\n    </tr>\n    <tr>\n      <th>...</th>\n      <td>...</td>\n    </tr>\n    <tr>\n      <th>216</th>\n      <td>Cunningham Road</td>\n    </tr>\n    <tr>\n      <th>217</th>\n      <td>Sarakki Nagar</td>\n    </tr>\n    <tr>\n      <th>218</th>\n      <td>Kodigehaali</td>\n    </tr>\n    <tr>\n      <th>219</th>\n      <td>Narayanapura</td>\n    </tr>\n    <tr>\n      <th>220</th>\n      <td>Arekere</td>\n    </tr>\n  </tbody>\n</table>\n<p>221 rows × 1 columns</p>\n</div>"
     },
     "execution_count": 183,
     "metadata": {},
     "output_type": "execute_result"
    }
   ],
   "source": [
    "df"
   ],
   "metadata": {
    "collapsed": false,
    "pycharm": {
     "name": "#%%\n"
    }
   }
  },
  {
   "cell_type": "code",
   "execution_count": 184,
   "outputs": [],
   "source": [
    "from sklearn.preprocessing import OneHotEncoder\n",
    "\n",
    "ohe_encoder_location = OneHotEncoder(sparse=False, handle_unknown='ignore')\n",
    "ohe_area = OneHotEncoder(sparse=False, handle_unknown='ignore')"
   ],
   "metadata": {
    "collapsed": false,
    "pycharm": {
     "name": "#%%\n"
    }
   }
  },
  {
   "cell_type": "code",
   "execution_count": 185,
   "outputs": [],
   "source": [
    "location_transform = pd.DataFrame(ohe_encoder_location.fit_transform(train_data[['location']]),columns=list(ohe_encoder_location.categories_[0]))"
   ],
   "metadata": {
    "collapsed": false,
    "pycharm": {
     "name": "#%%\n"
    }
   }
  },
  {
   "cell_type": "code",
   "execution_count": 186,
   "outputs": [
    {
     "data": {
      "text/plain": "(10656, 221)"
     },
     "execution_count": 186,
     "metadata": {},
     "output_type": "execute_result"
    }
   ],
   "source": [
    "location_transform.shape"
   ],
   "metadata": {
    "collapsed": false,
    "pycharm": {
     "name": "#%%\n"
    }
   }
  },
  {
   "cell_type": "code",
   "execution_count": 187,
   "outputs": [],
   "source": [
    "train_data = pd.concat([train_data,location_transform],axis=1)"
   ],
   "metadata": {
    "collapsed": false,
    "pycharm": {
     "name": "#%%\n"
    }
   }
  },
  {
   "cell_type": "code",
   "execution_count": 188,
   "outputs": [
    {
     "data": {
      "text/plain": "0"
     },
     "execution_count": 188,
     "metadata": {},
     "output_type": "execute_result"
    }
   ],
   "source": [
    "train_data['location'].isnull().sum()"
   ],
   "metadata": {
    "collapsed": false,
    "pycharm": {
     "name": "#%%\n"
    }
   }
  },
  {
   "cell_type": "code",
   "execution_count": 189,
   "outputs": [],
   "source": [
    "area_type_transform = pd.DataFrame(ohe_area.fit_transform(train_data[['area_type']]), columns=list(ohe_area.categories_[0]))"
   ],
   "metadata": {
    "collapsed": false,
    "pycharm": {
     "name": "#%%\n"
    }
   }
  },
  {
   "cell_type": "code",
   "execution_count": 190,
   "outputs": [],
   "source": [
    "train_data = pd.concat([train_data,area_type_transform],axis=1)"
   ],
   "metadata": {
    "collapsed": false,
    "pycharm": {
     "name": "#%%\n"
    }
   }
  },
  {
   "cell_type": "code",
   "execution_count": 191,
   "outputs": [],
   "source": [
    "train_data.drop('size',axis=1,inplace=True)"
   ],
   "metadata": {
    "collapsed": false,
    "pycharm": {
     "name": "#%%\n"
    }
   }
  },
  {
   "cell_type": "code",
   "execution_count": 192,
   "outputs": [],
   "source": [
    "train_data['price_per_sqft'] = (train_data['price']*100000)/train_data['total_sqft']"
   ],
   "metadata": {
    "collapsed": false,
    "pycharm": {
     "name": "#%%\n"
    }
   }
  },
  {
   "cell_type": "code",
   "execution_count": 193,
   "outputs": [
    {
     "data": {
      "text/plain": "availability            0.031507\ntotal_sqft              0.562314\nbath                    0.457050\nbalcony                 0.129154\nprice                   1.000000\n                          ...   \nBuilt-up  Area         -0.029426\nCarpet  Area           -0.013515\nPlot  Area              0.281201\nSuper built-up  Area   -0.187289\nprice_per_sqft          0.025446\nName: price, Length: 232, dtype: float64"
     },
     "execution_count": 193,
     "metadata": {},
     "output_type": "execute_result"
    }
   ],
   "source": [
    "corr = train_data.corr()\n",
    "corr['price']"
   ],
   "metadata": {
    "collapsed": false,
    "pycharm": {
     "name": "#%%\n"
    }
   }
  },
  {
   "cell_type": "markdown",
   "source": [
    "### Checking some outliers"
   ],
   "metadata": {
    "collapsed": false
   }
  },
  {
   "cell_type": "code",
   "execution_count": 194,
   "outputs": [
    {
     "data": {
      "text/plain": "       availability    total_sqft          bath       balcony         price  \\\ncount  10656.000000  10656.000000  10656.000000  10656.000000  10656.000000   \nmean       0.793074   1562.774237      2.691348      1.607451    112.617980   \nstd        0.405121   1284.408163      1.335079      0.804315    142.661727   \nmin        0.000000      1.000000      1.000000      0.000000      8.440000   \n25%        1.000000   1100.000000      2.000000      1.000000     50.000000   \n50%        1.000000   1280.000000      2.000000      2.000000     72.000000   \n75%        1.000000   1683.000000      3.000000      2.000000    120.000000   \nmax        1.000000  52272.000000     40.000000      3.000000   2912.000000   \n\n                BHK   Devarachikkanahalli  1st Block Jayanagar  \\\ncount  10656.000000          10656.000000         10656.000000   \nmean       2.806025              0.000938             0.001032   \nstd        1.301843              0.030621             0.032114   \nmin        1.000000              0.000000             0.000000   \n25%        2.000000              0.000000             0.000000   \n50%        3.000000              0.000000             0.000000   \n75%        3.000000              0.000000             0.000000   \nmax       43.000000              1.000000             1.000000   \n\n       1st Phase JP Nagar  2nd Stage Nagarbhavi  ...     Yelahanka  \\\ncount        10656.000000          10656.000000  ...  10656.000000   \nmean             0.001877              0.001971  ...      0.016235   \nstd              0.043284              0.044351  ...      0.126384   \nmin              0.000000              0.000000  ...      0.000000   \n25%              0.000000              0.000000  ...      0.000000   \n50%              0.000000              0.000000  ...      0.000000   \n75%              0.000000              0.000000  ...      0.000000   \nmax              1.000000              1.000000  ...      1.000000   \n\n       Yelahanka New Town   Yelenahalli  Yeshwanthpur         other  \\\ncount        10656.000000  10656.000000  10656.000000  10656.000000   \nmean             0.002909      0.001126      0.006381      0.233202   \nstd              0.053861      0.033540      0.079632      0.422890   \nmin              0.000000      0.000000      0.000000      0.000000   \n25%              0.000000      0.000000      0.000000      0.000000   \n50%              0.000000      0.000000      0.000000      0.000000   \n75%              0.000000      0.000000      0.000000      0.000000   \nmax              1.000000      1.000000      1.000000      1.000000   \n\n       Built-up  Area  Carpet  Area    Plot  Area  Super built-up  Area  \\\ncount    10656.000000  10656.000000  10656.000000          10656.000000   \nmean         0.180743      0.006757      0.152778              0.659722   \nstd          0.384823      0.081925      0.359790              0.473825   \nmin          0.000000      0.000000      0.000000              0.000000   \n25%          0.000000      0.000000      0.000000              0.000000   \n50%          0.000000      0.000000      0.000000              1.000000   \n75%          0.000000      0.000000      0.000000              1.000000   \nmax          1.000000      1.000000      1.000000              1.000000   \n\n       price_per_sqft  \ncount    1.065600e+04  \nmean     8.221334e+03  \nstd      1.187561e+05  \nmin      2.678298e+02  \n25%      4.272562e+03  \n50%      5.448497e+03  \n75%      7.325783e+03  \nmax      1.200000e+07  \n\n[8 rows x 232 columns]",
      "text/html": "<div>\n<style scoped>\n    .dataframe tbody tr th:only-of-type {\n        vertical-align: middle;\n    }\n\n    .dataframe tbody tr th {\n        vertical-align: top;\n    }\n\n    .dataframe thead th {\n        text-align: right;\n    }\n</style>\n<table border=\"1\" class=\"dataframe\">\n  <thead>\n    <tr style=\"text-align: right;\">\n      <th></th>\n      <th>availability</th>\n      <th>total_sqft</th>\n      <th>bath</th>\n      <th>balcony</th>\n      <th>price</th>\n      <th>BHK</th>\n      <th>Devarachikkanahalli</th>\n      <th>1st Block Jayanagar</th>\n      <th>1st Phase JP Nagar</th>\n      <th>2nd Stage Nagarbhavi</th>\n      <th>...</th>\n      <th>Yelahanka</th>\n      <th>Yelahanka New Town</th>\n      <th>Yelenahalli</th>\n      <th>Yeshwanthpur</th>\n      <th>other</th>\n      <th>Built-up  Area</th>\n      <th>Carpet  Area</th>\n      <th>Plot  Area</th>\n      <th>Super built-up  Area</th>\n      <th>price_per_sqft</th>\n    </tr>\n  </thead>\n  <tbody>\n    <tr>\n      <th>count</th>\n      <td>10656.000000</td>\n      <td>10656.000000</td>\n      <td>10656.000000</td>\n      <td>10656.000000</td>\n      <td>10656.000000</td>\n      <td>10656.000000</td>\n      <td>10656.000000</td>\n      <td>10656.000000</td>\n      <td>10656.000000</td>\n      <td>10656.000000</td>\n      <td>...</td>\n      <td>10656.000000</td>\n      <td>10656.000000</td>\n      <td>10656.000000</td>\n      <td>10656.000000</td>\n      <td>10656.000000</td>\n      <td>10656.000000</td>\n      <td>10656.000000</td>\n      <td>10656.000000</td>\n      <td>10656.000000</td>\n      <td>1.065600e+04</td>\n    </tr>\n    <tr>\n      <th>mean</th>\n      <td>0.793074</td>\n      <td>1562.774237</td>\n      <td>2.691348</td>\n      <td>1.607451</td>\n      <td>112.617980</td>\n      <td>2.806025</td>\n      <td>0.000938</td>\n      <td>0.001032</td>\n      <td>0.001877</td>\n      <td>0.001971</td>\n      <td>...</td>\n      <td>0.016235</td>\n      <td>0.002909</td>\n      <td>0.001126</td>\n      <td>0.006381</td>\n      <td>0.233202</td>\n      <td>0.180743</td>\n      <td>0.006757</td>\n      <td>0.152778</td>\n      <td>0.659722</td>\n      <td>8.221334e+03</td>\n    </tr>\n    <tr>\n      <th>std</th>\n      <td>0.405121</td>\n      <td>1284.408163</td>\n      <td>1.335079</td>\n      <td>0.804315</td>\n      <td>142.661727</td>\n      <td>1.301843</td>\n      <td>0.030621</td>\n      <td>0.032114</td>\n      <td>0.043284</td>\n      <td>0.044351</td>\n      <td>...</td>\n      <td>0.126384</td>\n      <td>0.053861</td>\n      <td>0.033540</td>\n      <td>0.079632</td>\n      <td>0.422890</td>\n      <td>0.384823</td>\n      <td>0.081925</td>\n      <td>0.359790</td>\n      <td>0.473825</td>\n      <td>1.187561e+05</td>\n    </tr>\n    <tr>\n      <th>min</th>\n      <td>0.000000</td>\n      <td>1.000000</td>\n      <td>1.000000</td>\n      <td>0.000000</td>\n      <td>8.440000</td>\n      <td>1.000000</td>\n      <td>0.000000</td>\n      <td>0.000000</td>\n      <td>0.000000</td>\n      <td>0.000000</td>\n      <td>...</td>\n      <td>0.000000</td>\n      <td>0.000000</td>\n      <td>0.000000</td>\n      <td>0.000000</td>\n      <td>0.000000</td>\n      <td>0.000000</td>\n      <td>0.000000</td>\n      <td>0.000000</td>\n      <td>0.000000</td>\n      <td>2.678298e+02</td>\n    </tr>\n    <tr>\n      <th>25%</th>\n      <td>1.000000</td>\n      <td>1100.000000</td>\n      <td>2.000000</td>\n      <td>1.000000</td>\n      <td>50.000000</td>\n      <td>2.000000</td>\n      <td>0.000000</td>\n      <td>0.000000</td>\n      <td>0.000000</td>\n      <td>0.000000</td>\n      <td>...</td>\n      <td>0.000000</td>\n      <td>0.000000</td>\n      <td>0.000000</td>\n      <td>0.000000</td>\n      <td>0.000000</td>\n      <td>0.000000</td>\n      <td>0.000000</td>\n      <td>0.000000</td>\n      <td>0.000000</td>\n      <td>4.272562e+03</td>\n    </tr>\n    <tr>\n      <th>50%</th>\n      <td>1.000000</td>\n      <td>1280.000000</td>\n      <td>2.000000</td>\n      <td>2.000000</td>\n      <td>72.000000</td>\n      <td>3.000000</td>\n      <td>0.000000</td>\n      <td>0.000000</td>\n      <td>0.000000</td>\n      <td>0.000000</td>\n      <td>...</td>\n      <td>0.000000</td>\n      <td>0.000000</td>\n      <td>0.000000</td>\n      <td>0.000000</td>\n      <td>0.000000</td>\n      <td>0.000000</td>\n      <td>0.000000</td>\n      <td>0.000000</td>\n      <td>1.000000</td>\n      <td>5.448497e+03</td>\n    </tr>\n    <tr>\n      <th>75%</th>\n      <td>1.000000</td>\n      <td>1683.000000</td>\n      <td>3.000000</td>\n      <td>2.000000</td>\n      <td>120.000000</td>\n      <td>3.000000</td>\n      <td>0.000000</td>\n      <td>0.000000</td>\n      <td>0.000000</td>\n      <td>0.000000</td>\n      <td>...</td>\n      <td>0.000000</td>\n      <td>0.000000</td>\n      <td>0.000000</td>\n      <td>0.000000</td>\n      <td>0.000000</td>\n      <td>0.000000</td>\n      <td>0.000000</td>\n      <td>0.000000</td>\n      <td>1.000000</td>\n      <td>7.325783e+03</td>\n    </tr>\n    <tr>\n      <th>max</th>\n      <td>1.000000</td>\n      <td>52272.000000</td>\n      <td>40.000000</td>\n      <td>3.000000</td>\n      <td>2912.000000</td>\n      <td>43.000000</td>\n      <td>1.000000</td>\n      <td>1.000000</td>\n      <td>1.000000</td>\n      <td>1.000000</td>\n      <td>...</td>\n      <td>1.000000</td>\n      <td>1.000000</td>\n      <td>1.000000</td>\n      <td>1.000000</td>\n      <td>1.000000</td>\n      <td>1.000000</td>\n      <td>1.000000</td>\n      <td>1.000000</td>\n      <td>1.000000</td>\n      <td>1.200000e+07</td>\n    </tr>\n  </tbody>\n</table>\n<p>8 rows × 232 columns</p>\n</div>"
     },
     "execution_count": 194,
     "metadata": {},
     "output_type": "execute_result"
    }
   ],
   "source": [
    "train_data.describe()"
   ],
   "metadata": {
    "collapsed": false,
    "pycharm": {
     "name": "#%%\n"
    }
   }
  },
  {
   "cell_type": "code",
   "execution_count": 195,
   "outputs": [
    {
     "data": {
      "text/plain": "<Figure size 1152x432 with 1 Axes>",
      "image/png": "[encoded data removed]"
     },
     "metadata": {
      "needs_background": "light"
     },
     "output_type": "display_data"
    }
   ],
   "source": [
    "plt.figure(figsize=(16,6))\n",
    "pd.cut(train_data['total_sqft'], bins= [0, 1000, 2000, 3000, 4000, 5000, 6000, 7000, 8000, 9000, 10000, np.inf], labels=[0, 1000, 2000, 3000, 4000, 5000, 6000, 7000, 8000, 9000, 10000]).hist()\n",
    "plt.show()"
   ],
   "metadata": {
    "collapsed": false,
    "pycharm": {
     "name": "#%%\n"
    }
   }
  },
  {
   "cell_type": "code",
   "execution_count": 196,
   "outputs": [
    {
     "data": {
      "text/plain": "<Figure size 432x288 with 1 Axes>",
      "image/png": "[encoded data removed]"
     },
     "metadata": {
      "needs_background": "light"
     },
     "output_type": "display_data"
    }
   ],
   "source": [
    "pd.cut(train_data['BHK'], bins=[0, 2, 4, 6, 8, 10, np.inf], labels=[0, 2, 4, 6, 8, 10]).hist()\n",
    "plt.show()"
   ],
   "metadata": {
    "collapsed": false,
    "pycharm": {
     "name": "#%%\n"
    }
   }
  },
  {
   "cell_type": "code",
   "execution_count": 197,
   "outputs": [
    {
     "data": {
      "text/plain": "      house_id   area_type  availability            location  total_sqft  \\\n7   house_3418  Plot  Area             1  Kumaraswami Layout      1270.0   \n39  house_3511  Plot  Area             1         Uttarahalli      1200.0   \n41  house_6505  Plot  Area             1        Yeshwanthpur      2400.0   \n\n    bath  balcony  price  BHK   Devarachikkanahalli  ...  Yelahanka  \\\n7    4.0      1.0  128.0  5.0                   0.0  ...        0.0   \n39   7.0      2.0  225.0  7.0                   0.0  ...        0.0   \n41   6.0      2.0  270.0  9.0                   0.0  ...        0.0   \n\n    Yelahanka New Town  Yelenahalli  Yeshwanthpur  other  Built-up  Area  \\\n7                  0.0          0.0           0.0    0.0             0.0   \n39                 0.0          0.0           0.0    0.0             0.0   \n41                 0.0          0.0           1.0    0.0             0.0   \n\n    Carpet  Area  Plot  Area  Super built-up  Area  price_per_sqft  \n7            0.0         1.0                   0.0    10078.740157  \n39           0.0         1.0                   0.0    18750.000000  \n41           0.0         1.0                   0.0    11250.000000  \n\n[3 rows x 235 columns]",
      "text/html": "<div>\n<style scoped>\n    .dataframe tbody tr th:only-of-type {\n        vertical-align: middle;\n    }\n\n    .dataframe tbody tr th {\n        vertical-align: top;\n    }\n\n    .dataframe thead th {\n        text-align: right;\n    }\n</style>\n<table border=\"1\" class=\"dataframe\">\n  <thead>\n    <tr style=\"text-align: right;\">\n      <th></th>\n      <th>house_id</th>\n      <th>area_type</th>\n      <th>availability</th>\n      <th>location</th>\n      <th>total_sqft</th>\n      <th>bath</th>\n      <th>balcony</th>\n      <th>price</th>\n      <th>BHK</th>\n      <th>Devarachikkanahalli</th>\n      <th>...</th>\n      <th>Yelahanka</th>\n      <th>Yelahanka New Town</th>\n      <th>Yelenahalli</th>\n      <th>Yeshwanthpur</th>\n      <th>other</th>\n      <th>Built-up  Area</th>\n      <th>Carpet  Area</th>\n      <th>Plot  Area</th>\n      <th>Super built-up  Area</th>\n      <th>price_per_sqft</th>\n    </tr>\n  </thead>\n  <tbody>\n    <tr>\n      <th>7</th>\n      <td>house_3418</td>\n      <td>Plot  Area</td>\n      <td>1</td>\n      <td>Kumaraswami Layout</td>\n      <td>1270.0</td>\n      <td>4.0</td>\n      <td>1.0</td>\n      <td>128.0</td>\n      <td>5.0</td>\n      <td>0.0</td>\n      <td>...</td>\n      <td>0.0</td>\n      <td>0.0</td>\n      <td>0.0</td>\n      <td>0.0</td>\n      <td>0.0</td>\n      <td>0.0</td>\n      <td>0.0</td>\n      <td>1.0</td>\n      <td>0.0</td>\n      <td>10078.740157</td>\n    </tr>\n    <tr>\n      <th>39</th>\n      <td>house_3511</td>\n      <td>Plot  Area</td>\n      <td>1</td>\n      <td>Uttarahalli</td>\n      <td>1200.0</td>\n      <td>7.0</td>\n      <td>2.0</td>\n      <td>225.0</td>\n      <td>7.0</td>\n      <td>0.0</td>\n      <td>...</td>\n      <td>0.0</td>\n      <td>0.0</td>\n      <td>0.0</td>\n      <td>0.0</td>\n      <td>0.0</td>\n      <td>0.0</td>\n      <td>0.0</td>\n      <td>1.0</td>\n      <td>0.0</td>\n      <td>18750.000000</td>\n    </tr>\n    <tr>\n      <th>41</th>\n      <td>house_6505</td>\n      <td>Plot  Area</td>\n      <td>1</td>\n      <td>Yeshwanthpur</td>\n      <td>2400.0</td>\n      <td>6.0</td>\n      <td>2.0</td>\n      <td>270.0</td>\n      <td>9.0</td>\n      <td>0.0</td>\n      <td>...</td>\n      <td>0.0</td>\n      <td>0.0</td>\n      <td>0.0</td>\n      <td>1.0</td>\n      <td>0.0</td>\n      <td>0.0</td>\n      <td>0.0</td>\n      <td>1.0</td>\n      <td>0.0</td>\n      <td>11250.000000</td>\n    </tr>\n  </tbody>\n</table>\n<p>3 rows × 235 columns</p>\n</div>"
     },
     "execution_count": 197,
     "metadata": {},
     "output_type": "execute_result"
    }
   ],
   "source": [
    "train_data[train_data.total_sqft / train_data.BHK < 300].head(3)"
   ],
   "metadata": {
    "collapsed": false,
    "pycharm": {
     "name": "#%%\n"
    }
   }
  },
  {
   "cell_type": "code",
   "execution_count": 198,
   "outputs": [
    {
     "data": {
      "text/plain": "<Figure size 1440x576 with 1 Axes>",
      "image/png": "[encoded data removed]"
     },
     "metadata": {
      "needs_background": "light"
     },
     "output_type": "display_data"
    }
   ],
   "source": [
    "plt.figure(figsize=(20,8))\n",
    "cond2 = ((train_data.location == 'Whitefield') & (train_data.BHK == 2))\n",
    "cond3 = ((train_data.location == 'Whitefield') & (train_data.BHK == 3))\n",
    "plt.scatter(train_data.loc[cond2, 'total_sqft'], train_data.loc[cond2, 'price'], marker ='+', color='red')\n",
    "plt.scatter(train_data.loc[cond3, 'total_sqft'], train_data.loc[cond3, 'price'], marker ='*', color='green')\n",
    "plt.show()"
   ],
   "metadata": {
    "collapsed": false,
    "pycharm": {
     "name": "#%%\n"
    }
   }
  },
  {
   "cell_type": "code",
   "execution_count": 199,
   "outputs": [],
   "source": [
    "train_data = train_data[~(train_data.total_sqft / train_data.BHK < 300)]"
   ],
   "metadata": {
    "collapsed": false,
    "pycharm": {
     "name": "#%%\n"
    }
   }
  },
  {
   "cell_type": "code",
   "execution_count": 200,
   "outputs": [
    {
     "data": {
      "text/plain": "(10062, 235)"
     },
     "execution_count": 200,
     "metadata": {},
     "output_type": "execute_result"
    }
   ],
   "source": [
    "train_data.shape"
   ],
   "metadata": {
    "collapsed": false,
    "pycharm": {
     "name": "#%%\n"
    }
   }
  },
  {
   "cell_type": "code",
   "execution_count": 201,
   "outputs": [
    {
     "data": {
      "text/plain": "count    10062.000000\nmean      6314.451684\nstd       3905.578348\nmin        267.829813\n25%       4212.025777\n50%       5305.794343\n75%       6932.530120\nmax      76923.076923\nName: price_per_sqft, dtype: float64"
     },
     "execution_count": 201,
     "metadata": {},
     "output_type": "execute_result"
    }
   ],
   "source": [
    "train_data.price_per_sqft.describe()"
   ],
   "metadata": {
    "collapsed": false,
    "pycharm": {
     "name": "#%%\n"
    }
   }
  },
  {
   "cell_type": "code",
   "execution_count": 202,
   "outputs": [],
   "source": [
    "def remove_price_per_sqft_outliers(df):\n",
    "    df_out = pd.DataFrame()\n",
    "    for key, subdf in df.groupby('location'):\n",
    "        m = np.mean(subdf.price_per_sqft)\n",
    "        st = np.std(subdf.price_per_sqft)\n",
    "        reduced_df = subdf[(subdf.price_per_sqft>(m-st)) & (subdf.price_per_sqft<=(m+st))]\n",
    "        df_out = pd.concat([df_out,reduced_df],ignore_index=True)\n",
    "    return df_out"
   ],
   "metadata": {
    "collapsed": false,
    "pycharm": {
     "name": "#%%\n"
    }
   }
  },
  {
   "cell_type": "code",
   "execution_count": 203,
   "outputs": [],
   "source": [
    "train_data = remove_price_per_sqft_outliers(train_data)"
   ],
   "metadata": {
    "collapsed": false,
    "pycharm": {
     "name": "#%%\n"
    }
   }
  },
  {
   "cell_type": "code",
   "execution_count": 204,
   "outputs": [
    {
     "data": {
      "text/plain": "(8209, 235)"
     },
     "execution_count": 204,
     "metadata": {},
     "output_type": "execute_result"
    }
   ],
   "source": [
    "train_data.shape"
   ],
   "metadata": {
    "collapsed": false,
    "pycharm": {
     "name": "#%%\n"
    }
   }
  },
  {
   "cell_type": "code",
   "execution_count": 205,
   "outputs": [],
   "source": [
    "train_data.drop(['location','area_type'],axis = 1,inplace=True)"
   ],
   "metadata": {
    "collapsed": false,
    "pycharm": {
     "name": "#%%\n"
    }
   }
  },
  {
   "cell_type": "markdown",
   "source": [
    "### Model Creation"
   ],
   "metadata": {
    "collapsed": false
   }
  },
  {
   "cell_type": "code",
   "execution_count": 206,
   "outputs": [],
   "source": [
    "from sklearn.model_selection import train_test_split\n",
    "X_train,X_val,y_train,y_val = train_test_split(train_data.drop('price',axis=1),train_data.price,test_size=0.2,random_state=42)"
   ],
   "metadata": {
    "collapsed": false,
    "pycharm": {
     "name": "#%%\n"
    }
   }
  },
  {
   "cell_type": "code",
   "execution_count": 207,
   "outputs": [],
   "source": [
    "X_train_id = X_train.house_id\n",
    "X_val_id = X_val.house_id"
   ],
   "metadata": {
    "collapsed": false,
    "pycharm": {
     "name": "#%%\n"
    }
   }
  },
  {
   "cell_type": "code",
   "execution_count": 208,
   "outputs": [],
   "source": [
    "X_train = X_train.drop('house_id',axis=1)\n",
    "X_train = X_train.drop('price_per_sqft',axis=1)\n",
    "\n",
    "X_val = X_val.drop('price_per_sqft',axis=1)\n",
    "X_val = X_val.drop('house_id',axis=1)"
   ],
   "metadata": {
    "collapsed": false,
    "pycharm": {
     "name": "#%%\n"
    }
   }
  },
  {
   "cell_type": "code",
   "execution_count": 209,
   "outputs": [],
   "source": [
    "from sklearn.linear_model import LinearRegression\n",
    "from sklearn.tree import DecisionTreeRegressor\n",
    "from sklearn.ensemble import RandomForestRegressor"
   ],
   "metadata": {
    "collapsed": false,
    "pycharm": {
     "name": "#%%\n"
    }
   }
  },
  {
   "cell_type": "code",
   "execution_count": 210,
   "outputs": [],
   "source": [
    "models = [DecisionTreeRegressor(),RandomForestRegressor()]\n",
    "names = ['Decision Tree','Random Forest']"
   ],
   "metadata": {
    "collapsed": false,
    "pycharm": {
     "name": "#%%\n"
    }
   }
  },
  {
   "cell_type": "code",
   "execution_count": 211,
   "outputs": [],
   "source": [
    "from sklearn.model_selection import cross_val_score"
   ],
   "metadata": {
    "collapsed": false,
    "pycharm": {
     "name": "#%%\n"
    }
   }
  },
  {
   "cell_type": "code",
   "execution_count": 212,
   "outputs": [
    {
     "name": "stdout",
     "output_type": "stream",
     "text": [
      "Decision Tree\n",
      "score : [0.56773069 0.66359971 0.68470217]\n",
      "--------------------------------------------------------------\n",
      "Random Forest\n",
      "score : [0.70621845 0.83346207 0.81807458]\n",
      "--------------------------------------------------------------\n"
     ]
    }
   ],
   "source": [
    "for name,model in zip(names,models):\n",
    "    print(f'{name}')\n",
    "    score = cross_val_score(model,X_train,y_train,cv=3)\n",
    "    print(f'score : {score}')\n",
    "    print('--------------------------------------------------------------')\n"
   ],
   "metadata": {
    "collapsed": false,
    "pycharm": {
     "name": "#%%\n"
    }
   }
  },
  {
   "cell_type": "code",
   "execution_count": 213,
   "outputs": [
    {
     "data": {
      "text/plain": "LinearRegression()"
     },
     "execution_count": 213,
     "metadata": {},
     "output_type": "execute_result"
    }
   ],
   "source": [
    "lr_clf = LinearRegression()\n",
    "lr_clf.fit(X_train,y_train)"
   ],
   "metadata": {
    "collapsed": false,
    "pycharm": {
     "name": "#%%\n"
    }
   }
  },
  {
   "cell_type": "code",
   "execution_count": 214,
   "outputs": [],
   "source": [
    "y_pred_lr = lr_clf.predict(X_val)"
   ],
   "metadata": {
    "collapsed": false,
    "pycharm": {
     "name": "#%%\n"
    }
   }
  },
  {
   "cell_type": "code",
   "execution_count": 215,
   "outputs": [],
   "source": [
    "rf = RandomForestRegressor()\n",
    "rf.fit(X_train,y_train)\n",
    "y_pred_rf = rf.predict(X_val)"
   ],
   "metadata": {
    "collapsed": false,
    "pycharm": {
     "name": "#%%\n"
    }
   }
  },
  {
   "cell_type": "code",
   "execution_count": 216,
   "outputs": [],
   "source": [
    "dt = DecisionTreeRegressor()\n",
    "dt.fit(X_train,y_train)\n",
    "y_pred_dt = dt.predict(X_val)"
   ],
   "metadata": {
    "collapsed": false,
    "pycharm": {
     "name": "#%%\n"
    }
   }
  },
  {
   "cell_type": "code",
   "execution_count": 236,
   "outputs": [
    {
     "data": {
      "text/plain": "<Figure size 1296x288 with 4 Axes>",
      "image/png": "[encoded data removed]"
     },
     "metadata": {
      "needs_background": "light"
     },
     "output_type": "display_data"
    }
   ],
   "source": [
    "fig,ax = plt.subplots(nrows=1,ncols=4,figsize = (18,4))\n",
    "ax[0].scatter(X_val['total_sqft'],y_pred_lr,color = 'r')\n",
    "ax[1].scatter(X_val['total_sqft'],y_pred_rf,color = 'g')\n",
    "ax[2].scatter(X_val['total_sqft'],y_pred_dt,color = 'b')\n",
    "ax[3].scatter(X_val['total_sqft'],y_val)\n",
    "plt.show()"
   ],
   "metadata": {
    "collapsed": false,
    "pycharm": {
     "name": "#%%\n"
    }
   }
  },
  {
   "cell_type": "markdown",
   "source": [
    "From the above plots we observe that random forest prediction is more accurate"
   ],
   "metadata": {
    "collapsed": false
   }
  },
  {
   "cell_type": "code",
   "execution_count": 256,
   "outputs": [],
   "source": [
    "test_data = pd.read_csv(\"D:\\\\Datasets\\\\banglore housing data\\\\test_data.csv\")"
   ],
   "metadata": {
    "collapsed": false,
    "pycharm": {
     "name": "#%%\n"
    }
   }
  },
  {
   "cell_type": "code",
   "execution_count": 257,
   "outputs": [],
   "source": [
    "test_data_id = test_data['house_id']"
   ],
   "metadata": {
    "collapsed": false,
    "pycharm": {
     "name": "#%%\n"
    }
   }
  },
  {
   "cell_type": "code",
   "execution_count": 258,
   "outputs": [],
   "source": [
    "test_data.drop(['society', 'house_id'],axis=1, inplace=True)"
   ],
   "metadata": {
    "collapsed": false,
    "pycharm": {
     "name": "#%%\n"
    }
   }
  },
  {
   "cell_type": "code",
   "execution_count": 259,
   "outputs": [],
   "source": [
    "test_data['availability'] = test_data['availability'].apply(lambda x : 1 if x == 'Ready To Move' else 0)"
   ],
   "metadata": {
    "collapsed": false,
    "pycharm": {
     "name": "#%%\n"
    }
   }
  },
  {
   "cell_type": "code",
   "execution_count": 260,
   "outputs": [],
   "source": [
    "test_data['BHK'] = test_data['size'].apply(convert_to_bedroom)"
   ],
   "metadata": {
    "collapsed": false,
    "pycharm": {
     "name": "#%%\n"
    }
   }
  },
  {
   "cell_type": "code",
   "execution_count": 261,
   "outputs": [],
   "source": [
    "test_data['BHK'] = test_data['BHK'].apply(lambda x: float(x))"
   ],
   "metadata": {
    "collapsed": false,
    "pycharm": {
     "name": "#%%\n"
    }
   }
  },
  {
   "cell_type": "code",
   "execution_count": 262,
   "outputs": [
    {
     "name": "stdout",
     "output_type": "stream",
     "text": [
      "<class 'pandas.core.series.Series'>\n",
      "RangeIndex: 1332 entries, 0 to 1331\n",
      "Series name: total_sqft\n",
      "Non-Null Count  Dtype  \n",
      "--------------  -----  \n",
      "1320 non-null   float64\n",
      "dtypes: float64(1)\n",
      "memory usage: 10.5 KB\n"
     ]
    }
   ],
   "source": [
    "test_data.total_sqft.info()"
   ],
   "metadata": {
    "collapsed": false,
    "pycharm": {
     "name": "#%%\n"
    }
   }
  },
  {
   "cell_type": "code",
   "execution_count": 263,
   "outputs": [
    {
     "data": {
      "text/plain": "Series([], Name: total_sqft, dtype: float64)"
     },
     "execution_count": 263,
     "metadata": {},
     "output_type": "execute_result"
    }
   ],
   "source": [
    "test_data['total_sqft'][~test_data['total_sqft'].apply(is_float)]"
   ],
   "metadata": {
    "collapsed": false,
    "pycharm": {
     "name": "#%%\n"
    }
   }
  },
  {
   "cell_type": "code",
   "execution_count": 264,
   "outputs": [],
   "source": [
    "test_data[num_col] = imputer.transform(test_data[num_col])"
   ],
   "metadata": {
    "collapsed": false,
    "pycharm": {
     "name": "#%%\n"
    }
   }
  },
  {
   "cell_type": "code",
   "execution_count": 265,
   "outputs": [],
   "source": [
    "test_data['location'].fillna(test_data['location'].mode()[0],inplace=True)"
   ],
   "metadata": {
    "collapsed": false,
    "pycharm": {
     "name": "#%%\n"
    }
   }
  },
  {
   "cell_type": "code",
   "execution_count": 266,
   "outputs": [
    {
     "data": {
      "text/plain": "0"
     },
     "execution_count": 266,
     "metadata": {},
     "output_type": "execute_result"
    }
   ],
   "source": [
    "test_data.location.isnull().sum()"
   ],
   "metadata": {
    "collapsed": false,
    "pycharm": {
     "name": "#%%\n"
    }
   }
  },
  {
   "cell_type": "code",
   "execution_count": 267,
   "outputs": [],
   "source": [
    "location_transform = pd.DataFrame(ohe_encoder_location.transform(test_data[['location']]),columns=list(ohe_encoder_location.categories_[0]))"
   ],
   "metadata": {
    "collapsed": false,
    "pycharm": {
     "name": "#%%\n"
    }
   }
  },
  {
   "cell_type": "code",
   "execution_count": 268,
   "outputs": [],
   "source": [
    "test_data = pd.concat([test_data, location_transform], axis=1)"
   ],
   "metadata": {
    "collapsed": false,
    "pycharm": {
     "name": "#%%\n"
    }
   }
  },
  {
   "cell_type": "code",
   "execution_count": 269,
   "outputs": [],
   "source": [
    "area_type_transform = pd.DataFrame(ohe_area.transform(test_data[['area_type']]), columns=list(ohe_area.categories_[0]))\n",
    "test_data = pd.concat([test_data, area_type_transform], axis=1)"
   ],
   "metadata": {
    "collapsed": false,
    "pycharm": {
     "name": "#%%\n"
    }
   }
  },
  {
   "cell_type": "code",
   "execution_count": 270,
   "outputs": [],
   "source": [
    "test_data.drop(['size','location','area_type'],axis=1,inplace=True)"
   ],
   "metadata": {
    "collapsed": false,
    "pycharm": {
     "name": "#%%\n"
    }
   }
  },
  {
   "cell_type": "code",
   "execution_count": 271,
   "outputs": [],
   "source": [
    "final_test_data, final_cv = test_data.align(X_train, join='left', axis=1, fill_value=0.0)"
   ],
   "metadata": {
    "collapsed": false,
    "pycharm": {
     "name": "#%%\n"
    }
   }
  },
  {
   "cell_type": "code",
   "execution_count": 271,
   "outputs": [],
   "source": [],
   "metadata": {
    "collapsed": false,
    "pycharm": {
     "name": "#%%\n"
    }
   }
  },
  {
   "cell_type": "code",
   "execution_count": 272,
   "outputs": [],
   "source": [
    "y_pred = rf.predict(final_test_data)"
   ],
   "metadata": {
    "collapsed": false,
    "pycharm": {
     "name": "#%%\n"
    }
   }
  },
  {
   "cell_type": "code",
   "execution_count": 280,
   "outputs": [],
   "source": [
    "prediction  = pd.DataFrame(pd.concat([test_data_id,pd.Series(y_pred)],axis=1))"
   ],
   "metadata": {
    "collapsed": false,
    "pycharm": {
     "name": "#%%\n"
    }
   }
  },
  {
   "cell_type": "code",
   "execution_count": 281,
   "outputs": [
    {
     "data": {
      "text/plain": "         house_id           0\n0         house_5   62.333300\n1        house_16   52.792664\n2        house_29   51.956910\n3        house_31   44.927745\n4        house_41   61.653304\n...           ...         ...\n1327  house_13268  250.890000\n1328  house_13285   78.149071\n1329  house_13286   74.927401\n1330  house_13295   99.855182\n1331  house_13298   47.363400\n\n[1332 rows x 2 columns]",
      "text/html": "<div>\n<style scoped>\n    .dataframe tbody tr th:only-of-type {\n        vertical-align: middle;\n    }\n\n    .dataframe tbody tr th {\n        vertical-align: top;\n    }\n\n    .dataframe thead th {\n        text-align: right;\n    }\n</style>\n<table border=\"1\" class=\"dataframe\">\n  <thead>\n    <tr style=\"text-align: right;\">\n      <th></th>\n      <th>house_id</th>\n      <th>0</th>\n    </tr>\n  </thead>\n  <tbody>\n    <tr>\n      <th>0</th>\n      <td>house_5</td>\n      <td>62.333300</td>\n    </tr>\n    <tr>\n      <th>1</th>\n      <td>house_16</td>\n      <td>52.792664</td>\n    </tr>\n    <tr>\n      <th>2</th>\n      <td>house_29</td>\n      <td>51.956910</td>\n    </tr>\n    <tr>\n      <th>3</th>\n      <td>house_31</td>\n      <td>44.927745</td>\n    </tr>\n    <tr>\n      <th>4</th>\n      <td>house_41</td>\n      <td>61.653304</td>\n    </tr>\n    <tr>\n      <th>...</th>\n      <td>...</td>\n      <td>...</td>\n    </tr>\n    <tr>\n      <th>1327</th>\n      <td>house_13268</td>\n      <td>250.890000</td>\n    </tr>\n    <tr>\n      <th>1328</th>\n      <td>house_13285</td>\n      <td>78.149071</td>\n    </tr>\n    <tr>\n      <th>1329</th>\n      <td>house_13286</td>\n      <td>74.927401</td>\n    </tr>\n    <tr>\n      <th>1330</th>\n      <td>house_13295</td>\n      <td>99.855182</td>\n    </tr>\n    <tr>\n      <th>1331</th>\n      <td>house_13298</td>\n      <td>47.363400</td>\n    </tr>\n  </tbody>\n</table>\n<p>1332 rows × 2 columns</p>\n</div>"
     },
     "execution_count": 281,
     "metadata": {},
     "output_type": "execute_result"
    }
   ],
   "source": [
    "prediction"
   ],
   "metadata": {
    "collapsed": false,
    "pycharm": {
     "name": "#%%\n"
    }
   }
  },
  {
   "cell_type": "code",
   "execution_count": 283,
   "outputs": [
    {
     "data": {
      "text/plain": "<Figure size 432x288 with 1 Axes>",
      "image/png": "[encoded data removed]"
     },
     "metadata": {
      "needs_background": "light"
     },
     "output_type": "display_data"
    }
   ],
   "source": [
    "plt.scatter(final_test_data['total_sqft'],prediction[0])\n",
    "plt.show()"
   ],
   "metadata": {
    "collapsed": false,
    "pycharm": {
     "name": "#%%\n"
    }
   }
  },
  {
   "cell_type": "code",
   "execution_count": 286,
   "outputs": [],
   "source": [
    "prediction.to_csv(\"D:\\Machine Learning\\Projects\\ML Projects (Sk learn Library).csv\",index=False)"
   ],
   "metadata": {
    "collapsed": false,
    "pycharm": {
     "name": "#%%\n"
    }
   }
  },
  {
   "cell_type": "code",
   "execution_count": null,
   "outputs": [],
   "source": [],
   "metadata": {
    "collapsed": false,
    "pycharm": {
     "name": "#%%\n"
    }
   }
  }
 ],
 "metadata": {
  "kernelspec": {
   "display_name": "Python 3",
   "language": "python",
   "name": "python3"
  },
  "language_info": {
   "codemirror_mode": {
    "name": "ipython",
    "version": 2
   },
   "file_extension": ".py",
   "mimetype": "text/x-python",
   "name": "python",
   "nbconvert_exporter": "python",
   "pygments_lexer": "ipython2",
   "version": "2.7.6"
  }
 },
 "nbformat": 4,
 "nbformat_minor": 0
}